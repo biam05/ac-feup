{
 "cells": [
  {
   "cell_type": "code",
   "execution_count": 13,
   "metadata": {},
   "outputs": [],
   "source": [
    "# This notebook's book is to analayze data for the Data Mining Project\n",
    "\n",
    "### We are trying to fil the grade evaluation, step by step \n",
    "import pandas as pd\n",
    "import numpy as np\n",
    "import matplotlib.pyplot as plt\n",
    "\n",
    "\n",
    "df = pd.read_csv('./project/banking_data/trans_test.csv')\n",
    "\n",
    "\n",
    "### Definition of business goals (Add information after reaching conclusions during the project)\n",
    "###\n",
    "### This project's goal is to improve the bank services by using the stored data about the clients to improve their understanding\n",
    "### of the customers\n",
    "###\n",
    "### This is going to be done through a Data  Mining project which contains 2 problems:\n",
    "###\n",
    "### - The predictive problem, whose goal is to predict if a loan with a client willb successfuly end\n",
    "### - The descritptive problem, which is related to the data analysis, is the proccess of observing and interpreting the data\n",
    "### in order to find the relevance of each data component and the correlation between attributes\n",
    "###\n",
    "###\n",
    "\n",
    "### Translation of business goals into data mining goals\n",
    "### - Data preparation, by analyzing the provided data and its quality.\n",
    "### We can study the data quality by analyzing their outliers, missing, duplicate and inconsistent values, and decide jow to deal with them\n",
    "### - Data undersanding, by applying a statistical analysis to the data and plotting the appropriate graphs\n",
    "###\n",
    "###\n",
    "###\n",
    "\n",
    "\n",
    "### DU Phase\n",
    "\n",
    "### Statistical methods\n",
    "\n",
    "### Graph Plots\n",
    "\n",
    "\n",
    "\n"
   ]
  },
  {
   "cell_type": "code",
   "execution_count": 89,
   "metadata": {},
   "outputs": [
    {
     "data": {
      "text/plain": [
       "0       01/01/93\n",
       "1       01/01/93\n",
       "2       01/01/93\n",
       "3       01/01/93\n",
       "4       01/02/93\n",
       "          ...   \n",
       "4495    12/28/97\n",
       "4496    12/28/97\n",
       "4497    12/28/97\n",
       "4498    12/29/97\n",
       "4499    12/29/97\n",
       "Name: date, Length: 4500, dtype: object"
      ]
     },
     "execution_count": 89,
     "metadata": {},
     "output_type": "execute_result"
    }
   ],
   "source": [
    "## Switching date format to dd/mm/yyyy\n",
    "\n",
    "from datetime import datetime\n",
    "\n",
    "account = pd.read_csv('./project/banking_data/account.csv', sep=';')\n",
    "\n",
    "date = account[\"date\"]\n",
    "date = date.apply(str)\n",
    "date = '19' + date\n",
    "date = date.apply(lambda x: datetime.strptime(x,'%Y%m%d').strftime('%m/%d/%y'))\n",
    "date\n",
    "\n"
   ]
  },
  {
   "cell_type": "code",
   "execution_count": 117,
   "metadata": {},
   "outputs": [
    {
     "name": "stdout",
     "output_type": "stream",
     "text": [
      "['70', '45', '40', '56', '60']\n",
      "[20, 45, 40, 6, 10]\n",
      "['female', 'male', 'male', 'female', 'female']\n"
     ]
    }
   ],
   "source": [
    "## Switching date format of client to dd/mm/yyyy and differ male from female\n",
    "\n",
    "from datetime import datetime\n",
    "\n",
    "client = pd.read_csv('./project/banking_data/client.csv', sep=';')\n",
    "\n",
    "date = client[\"birth_number\"]\n",
    "date = date.apply(str)\n",
    "date = '19' + date\n",
    "date\n",
    "\n",
    "\n",
    "lst = []\n",
    "for item in date:\n",
    "    lst.append(item[2:4])\n",
    "    \n",
    "\n",
    "months = []\n",
    "gender = [] \n",
    "for item in lst:\n",
    "    if(int(item) > 50):\n",
    "        months.append(int(item)- 50)\n",
    "        gender.append('female')\n",
    "    else:\n",
    "        months.append(int(item))\n",
    "        gender.append('male')\n",
    "\n",
    "print(lst[:5])\n",
    "print(months[:5])\n",
    "print(gender[:5])\n",
    "\n",
    "#date = date.apply(lambda x: datetime.strptime(x,'%Y%m%d'))\n",
    "#date = date.apply(lambda x: datetime.strptime(x,'%Y%m%d').strftime('%m/%d/%y'))\n",
    "#date"
   ]
  }
 ],
 "metadata": {
  "kernelspec": {
   "display_name": "Python 3",
   "language": "python",
   "name": "python3"
  },
  "language_info": {
   "codemirror_mode": {
    "name": "ipython",
    "version": 3
   },
   "file_extension": ".py",
   "mimetype": "text/x-python",
   "name": "python",
   "nbconvert_exporter": "python",
   "pygments_lexer": "ipython3",
   "version": "3.7.0"
  }
 },
 "nbformat": 4,
 "nbformat_minor": 2
}
