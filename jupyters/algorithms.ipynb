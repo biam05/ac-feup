{
 "cells": [
  {
   "cell_type": "markdown",
   "metadata": {},
   "source": [
    "### Imported libraries and Scripts"
   ]
  },
  {
   "cell_type": "code",
   "execution_count": 56,
   "metadata": {},
   "outputs": [
    {
     "name": "stdout",
     "output_type": "stream",
     "text": [
      "The autoreload extension is already loaded. To reload it, use:\n",
      "  %reload_ext autoreload\n"
     ]
    },
    {
     "data": {
      "text/plain": [
       "<module 'utils' from 'c:\\\\Users\\\\utilizador\\\\Desktop\\\\ac-feup\\\\jupyters\\\\utils.py'>"
      ]
     },
     "execution_count": 56,
     "metadata": {},
     "output_type": "execute_result"
    }
   ],
   "source": [
    "### imported Libraries\n",
    "import pandas as pd\n",
    "import numpy as np\n",
    "import importlib\n",
    "import sqlite3\n",
    "import datetime\n",
    "from pprint import pprint\n",
    "from sklearn.cluster import KMeans\n",
    "\n",
    "### Sklearn imported libraries\n",
    "from sklearn.model_selection import train_test_split\n",
    "from sklearn.model_selection import GridSearchCV\n",
    "from sklearn.model_selection import StratifiedKFold\n",
    "from sklearn.ensemble import RandomForestClassifier\n",
    "from sklearn.tree import DecisionTreeClassifier\n",
    "from sklearn.neighbors import KNeighborsClassifier\n",
    "from sklearn.linear_model import LogisticRegression\n",
    "from sklearn.cluster import KMeans\n",
    "from sklearn.feature_selection import SelectKBest, f_classif\n",
    "from sklearn.preprocessing import MinMaxScaler\n",
    "\n",
    "# Pipeline for Oversampling\n",
    "from imblearn.pipeline import Pipeline\n",
    "from imblearn.over_sampling import SMOTE\n",
    "\n",
    "from sklearn import metrics\n",
    "import matplotlib.pyplot as plt\n",
    "\n",
    "### Imported Scripts\n",
    "import utils\n",
    "\n",
    "%load_ext autoreload\n",
    "%autoreload 2\n",
    "\n",
    "importlib.reload(utils)"
   ]
  },
  {
   "cell_type": "markdown",
   "metadata": {},
   "source": [
    "### Choose Macros"
   ]
  },
  {
   "cell_type": "code",
   "execution_count": 57,
   "metadata": {},
   "outputs": [],
   "source": [
    "OVERSMAPLE = True\n",
    "DEBUG = True\n",
    "WRITE = True\n",
    "DUMMIES = True\n",
    "CATEGORY_ENCONDING = False\n",
    "MIN_MAX_SCALER = False\n",
    "SPLIT_RATIO = 0.8\n",
    "N_COLUMNS = 15\n",
    "N_SPLITS = 3"
   ]
  },
  {
   "cell_type": "markdown",
   "metadata": {},
   "source": [
    "## Defined Methods"
   ]
  },
  {
   "cell_type": "markdown",
   "metadata": {},
   "source": [
    "### Choose Dataset Options"
   ]
  },
  {
   "cell_type": "code",
   "execution_count": 58,
   "metadata": {},
   "outputs": [],
   "source": [
    "def add_dummy(df,columns):\n",
    "    copy= df.copy()\n",
    "\n",
    "    for column in columns:\n",
    "        dummies = pd.get_dummies(copy[column])\n",
    "        copy = copy.drop(column,axis=1)\n",
    "        copy = copy.join(dummies)\n",
    "    \n",
    "    return copy\n",
    "\n",
    "def convert_dates(df):\n",
    "    copy = df.copy()\n",
    "    columns = [\"loan_date\",\"account_creation\",\"birth_number\"]\n",
    "\n",
    "    for column in columns:\n",
    "        copy[column] = copy[column].apply(lambda x: datetime.datetime.strptime(x, '%d-%m-%Y').strftime('%Y')).astype(int)\n",
    "\n",
    "    copy[\"age_on_loan\"] = copy[\"loan_date\"] - copy[\"birth_number\"]\n",
    "    copy = copy.drop(columns = [\"loan_date\",\"account_creation\",\"birth_number\"])\n",
    "\n",
    "    copy['card_issued'] = pd.to_numeric(copy[\"card_issued\"].astype(str), errors='coerce').fillna(1).astype(int)\n",
    "\n",
    "    return copy\n",
    "\n",
    "def get_df(test=False):\n",
    "    con = sqlite3.connect(\"../database/banking_data\")\n",
    "    if test:\n",
    "        df = pd.read_sql_query(\"SELECT * FROM loan_united_test\", con)\n",
    "    else:\n",
    "        df = pd.read_sql_query(\"SELECT * FROM loan_united_train\", con)\n",
    "\n",
    "    df = convert_dates(df)\n",
    "    con.close()\n",
    "\n",
    "    if DUMMIES:\n",
    "        columns = [\"account_frequency\",\"gender\",\"card_type\"]\n",
    "        df = add_dummy(df, columns)\n",
    "\n",
    "    if CATEGORY_ENCONDING:\n",
    "        df = utils.normalize_category(df)\n",
    "\n",
    "    \n",
    "    if MIN_MAX_SCALER:\n",
    "        scaler = MinMaxScaler()\n",
    "        copy = df.copy()\n",
    "        y = copy[\"status\"]\n",
    "        X = copy.drop(columns=[\"status\"])\n",
    "        transf = scaler.fit_transform(X)\n",
    "        copy = pd.DataFrame(transf,index=X.index,columns=X.columns)\n",
    "        copy[\"status\"] = y\n",
    "        df = copy\n",
    "        \n",
    "    \n",
    "    return df\n"
   ]
  },
  {
   "cell_type": "markdown",
   "metadata": {},
   "source": [
    "### Data splitting"
   ]
  },
  {
   "cell_type": "code",
   "execution_count": 59,
   "metadata": {},
   "outputs": [],
   "source": [
    "### Split the data\n",
    "def split_dataset(df):\n",
    "\n",
    "    ### Seperate the precition columns from output\n",
    "    \n",
    "    X = df.drop(columns=['status'])\n",
    "    y = df['status']\n",
    "\n",
    "    select = SelectKBest(f_classif, k= N_COLUMNS)\n",
    "    X_new = select.fit_transform(X, y)\n",
    "\n",
    "    split_filter = select.get_support()\n",
    "    features = X.columns\n",
    "\n",
    "    ### Apply splitting\n",
    "    X_train, X_test, y_train, y_test = train_test_split(X_new,y,train_size=SPLIT_RATIO,test_size=1-SPLIT_RATIO)\n",
    "\n",
    "    return X_train,X_test,y_train,y_test, features[split_filter]"
   ]
  },
  {
   "cell_type": "markdown",
   "metadata": {},
   "source": [
    "### Algorithms"
   ]
  },
  {
   "cell_type": "code",
   "execution_count": 60,
   "metadata": {},
   "outputs": [],
   "source": [
    "def get_random_forest():\n",
    "    return RandomForestClassifier(bootstrap = False,\n",
    "                                    max_depth =110,\n",
    "                                    max_features = 2,\n",
    "                                    min_samples_leaf = 3,\n",
    "                                    min_samples_split = 8,\n",
    "                                    n_estimators = 300)"
   ]
  },
  {
   "cell_type": "code",
   "execution_count": 61,
   "metadata": {},
   "outputs": [],
   "source": [
    "def get_logistic_regression():\n",
    "    return LogisticRegression(random_state=10,\n",
    "                                solver='lbfgs',\n",
    "                                max_iter=200)"
   ]
  },
  {
   "cell_type": "code",
   "execution_count": 62,
   "metadata": {},
   "outputs": [],
   "source": [
    "def get_decision_tree():\n",
    "    return DecisionTreeClassifier(criterion='entropy',\n",
    "                                    max_depth=5,\n",
    "                                    max_features=\"sqrt\",\n",
    "                                    min_impurity_split=\"0.1\",\n",
    "                                    min_samples_leaf=4,\n",
    "                                    min_samples_split=8,\n",
    "                                    splitter='random')"
   ]
  },
  {
   "cell_type": "code",
   "execution_count": 63,
   "metadata": {},
   "outputs": [],
   "source": [
    "def get_knn():\n",
    "    return KNeighborsClassifier(algorithm=\"ball_tree\",\n",
    "                                    leaf_size=\"50\",\n",
    "                                    metric=\"chebyshev\",\n",
    "                                    n_neighbors=10,\n",
    "                                    p=10,\n",
    "                                    weights=\"uniform\")"
   ]
  },
  {
   "cell_type": "markdown",
   "metadata": {},
   "source": [
    "### Use *Grid Search Cross Validation* to find the best grid for an algorithm"
   ]
  },
  {
   "cell_type": "code",
   "execution_count": 64,
   "metadata": {},
   "outputs": [],
   "source": [
    "def create_rf():\n",
    "    return  RandomForestClassifier()\n",
    "def create_knn():\n",
    "    return  KNeighborsClassifier()\n",
    "def create_dt():\n",
    "    return  DecisionTreeClassifier()\n",
    "def create_lr():\n",
    "    return  LogisticRegression()"
   ]
  },
  {
   "cell_type": "code",
   "execution_count": 65,
   "metadata": {},
   "outputs": [],
   "source": [
    "### Uses a grid search to generate random parameters to find the best grid model\n",
    "def getBestSearch(algorithm,grid):\n",
    "    train = get_df()\n",
    "\n",
    "    X = train.drop(columns=['status'])\n",
    "    y = train['status']\n",
    "\n",
    "    if algorithm == \"RF\":\n",
    "        alg = build_pipeline(create_rf())\n",
    "    elif algorithm == \"KNN\":\n",
    "        alg = build_pipeline(create_knn())\n",
    "    elif algorithm == \"DT\":\n",
    "        alg = build_pipeline(create_dt())\n",
    "    elif algorithm == \"LR\":\n",
    "        alg = build_pipeline(create_lr())\n",
    "    \n",
    "    grid_search = GridSearchCV(estimator = alg,\n",
    "                               param_grid = grid, \n",
    "                               scoring=metrics.make_scorer(utils.get_auc, greater_is_better=True),\n",
    "                               cv=StratifiedKFold(2,random_state=30,shuffle=True),\n",
    "                               n_jobs = -1,\n",
    "                               verbose = 2)\n",
    "\n",
    "    model = grid_search.fit(X,y)\n",
    "\n",
    "    if DEBUG:\n",
    "        print('Best Score: ', model.best_score_)\n",
    "        print('Best Params: ', model.best_params_)\n",
    "    \n",
    "    return model.best_score_, model.best_params_\n"
   ]
  },
  {
   "cell_type": "markdown",
   "metadata": {},
   "source": [
    "### Build a Pipeline to apply a sampling and a classification algorithm"
   ]
  },
  {
   "cell_type": "code",
   "execution_count": 66,
   "metadata": {},
   "outputs": [],
   "source": [
    "### TODO: Add undersample before final delivery\n",
    "def build_pipeline(algorithm):\n",
    "\n",
    "    if(OVERSMAPLE):\n",
    "        return Pipeline([\n",
    "            ('sampling',SMOTE()),\n",
    "            ('classification',algorithm)\n",
    "        ])\n",
    "    else:\n",
    "        return  Pipeline([\n",
    "            ('classification',algorithm)\n",
    "        ])"
   ]
  },
  {
   "cell_type": "markdown",
   "metadata": {},
   "source": [
    "### Final Stratified Cross Validation"
   ]
  },
  {
   "cell_type": "code",
   "execution_count": 67,
   "metadata": {},
   "outputs": [],
   "source": [
    "def final_CV(algorithm):\n",
    "    train = get_df()\n",
    "    # train = utils.normalization(train,'status')\n",
    "\n",
    "    X = train.drop(columns=['status'])\n",
    "    y = train['status']\n",
    "\n",
    "    select = SelectKBest(f_classif, k=N_COLUMNS)\n",
    "    X_new = select.fit_transform(X, y)\n",
    "\n",
    "    split_filter = select.get_support()\n",
    "    features = X.columns[split_filter]\n",
    "\n",
    "    skf = StratifiedKFold(n_splits=N_SPLITS, random_state=True, shuffle=True)\n",
    "\n",
    "    model_list = []\n",
    "    auc_list = []\n",
    "    \n",
    "    for train_index, test_index in skf.split(X_new, y):\n",
    "\n",
    "        X_train, X_test = X_new[train_index], X_new[test_index]\n",
    "        y_train, y_test = y[train_index], y[test_index]\n",
    "\n",
    "        ### Train the model\n",
    "        pipe = build_pipeline(algorithm())\n",
    "        model = pipe.fit(X_train, y_train)\n",
    "\n",
    "        ### Predict the outcome with the test data\n",
    "        y_pred = model.predict_proba(X_test)\n",
    "        y_final = y_pred.transpose()[0]\n",
    "        \n",
    "        auc = utils.get_auc(y_test, y_final)\n",
    "        auc_list.append(auc)\n",
    "        model_list.append(model)\n",
    "        print(f\"AUC={auc}\")\n",
    "        \n",
    "    ### Get the best model\n",
    "\n",
    "    best_score = max(auc_list)\n",
    "    best_model = model_list[auc_list.index(best_score)]\n",
    "    \n",
    "    \n",
    "    ### Use the best model to get a prediction\n",
    "    test = get_df(test=True)\n",
    "    \n",
    "    X2 = test.drop(columns=['status'])\n",
    "    X2 = X2[features]\n",
    "\n",
    "    y_predicted = best_model.predict_proba(X2)\n",
    "    y_final = y_predicted.transpose()[0]\n",
    "    \n",
    "    final_df = pd.DataFrame()\n",
    "    final_df['Id'] = test[\"loan_id\"]\n",
    "    final_df['Predicted'] = y_final\n",
    "\n",
    "    avg = sum(auc_list)/len(auc_list)\n",
    "    print(f\"Average AUC = {avg}\")\n",
    "    print(f\"Best AUC = {best_score}\")\n",
    "    \n",
    "    \n",
    "    if DEBUG:\n",
    "        print(f\"Predictions:\\n {final_df}\")\n",
    "    \n",
    "    if WRITE:\n",
    "        final_df.to_csv('../csvs/results/final.csv', index=False)\n",
    "        print(\"Sucessfully stored the predictions in a file named 'final.csv'\")\n",
    "\n",
    "    \n",
    "    \n"
   ]
  },
  {
   "cell_type": "markdown",
   "metadata": {},
   "source": [
    "### Running an algorithm"
   ]
  },
  {
   "cell_type": "code",
   "execution_count": 68,
   "metadata": {},
   "outputs": [],
   "source": [
    "def training_algorithm(algorithm):\n",
    "    ### Getting the dataset\n",
    "    train = get_df(test=False)\n",
    "    ### Getting a Model from training\n",
    "    \n",
    "    X_train,X_test,y_train,y_test, features = split_dataset(train)\n",
    "\n",
    "    \n",
    "    pipe = build_pipeline(algorithm())\n",
    "    model = pipe.fit(X_train,y_train)\n",
    "\n",
    "    y_predicted = model.predict_proba(X_test)\n",
    "\n",
    "    y_final = y_predicted.transpose()[0]\n",
    "\n",
    "    if DEBUG:\n",
    "        score = model.score(X_test,y_test)\n",
    "        auc = utils.get_auc(y_test,y_final,label=-1)\n",
    "        # plot_auc(y_test,y_final)\n",
    "        # conf_matrix(model,y_test,y_final)\n",
    "        print(f\"Score: {score}\")\n",
    "        print(f\"Auc: {auc}\")\n",
    "    \n",
    "    return model, features"
   ]
  },
  {
   "cell_type": "code",
   "execution_count": 69,
   "metadata": {},
   "outputs": [],
   "source": [
    "def testing_model(model,features):\n",
    "\n",
    "    test = get_df(test=True)\n",
    "\n",
    "    X = test.drop(columns=['status'])\n",
    "    X = X[features]\n",
    "\n",
    "    print(X.columns)\n",
    "\n",
    "    y_predicted = model.predict_proba(X)\n",
    "    y_final = y_predicted.transpose()[0]\n",
    "    \n",
    "    final_df = pd.DataFrame()\n",
    "    final_df['Id'] = test[\"loan_id\"]\n",
    "    final_df['Predicted'] = y_final\n",
    "\n",
    "    if DEBUG:\n",
    "        print(f\"Predictions:\\n {final_df}\")\n",
    "        \n",
    "    \n",
    "    if WRITE:\n",
    "        final_df.to_csv('../csvs/results/testing_model.csv', index=False)\n",
    "        print(\"Sucessfully stored the predictions in a file named 'testing_model.csv'\")"
   ]
  },
  {
   "cell_type": "code",
   "execution_count": 70,
   "metadata": {},
   "outputs": [],
   "source": [
    "def run_algorithm(algorithm):\n",
    "    \n",
    "    if(DEBUG):\n",
    "        print(\"Running the provided algorithm\")\n",
    "    \n",
    "    model, features = training_algorithm(algorithm)\n",
    "    testing_model(model,features)"
   ]
  },
  {
   "cell_type": "markdown",
   "metadata": {},
   "source": [
    "## Running the algorithms"
   ]
  },
  {
   "cell_type": "markdown",
   "metadata": {},
   "source": [
    "### Choose your algorithm:"
   ]
  },
  {
   "cell_type": "code",
   "execution_count": 71,
   "metadata": {},
   "outputs": [],
   "source": [
    "### Leave the one you want to run uncommented\n",
    "algorithm = get_random_forest\n",
    "# algorithm = get_logistic_regression\n",
    "# algorithm = get_decision_tree\n",
    "# algorithm = get_knn"
   ]
  },
  {
   "cell_type": "markdown",
   "metadata": {},
   "source": [
    "### Run with train_test_split"
   ]
  },
  {
   "cell_type": "code",
   "execution_count": 72,
   "metadata": {},
   "outputs": [
    {
     "name": "stdout",
     "output_type": "stream",
     "text": [
      "Running the provided algorithm\n",
      "Score: 0.9090909090909091\n",
      "Auc: 0.9159482758620691\n",
      "Index(['index', 'loan_id', 'loan_amount', 'payments',\n",
      "       'client_district no. of municipalities with inhabitants < 499',\n",
      "       'client_district no. of cities', 'client_district unemploymant_growth',\n",
      "       'card_issued', 'no. movements', 'min no. trans', 'min balance',\n",
      "       'avg balance', 'monthly issuance', 'None', 'classic'],\n",
      "      dtype='object')\n",
      "Predictions:\n",
      "        Id  Predicted\n",
      "0    5895   0.143650\n",
      "1    7122   0.719320\n",
      "2    6173   0.241945\n",
      "3    6142   0.515187\n",
      "4    5358   0.480646\n",
      "5    6095   0.195825\n",
      "6    6878   0.119897\n",
      "7    6554   0.283336\n",
      "8    6793   0.251522\n",
      "9    7286   0.114951\n",
      "10   6076   0.157842\n",
      "11   5134   0.184039\n",
      "12   5419   0.342828\n",
      "13   6255   0.505613\n",
      "14   5656   0.210969\n",
      "15   6934   0.156039\n",
      "16   6028   0.366892\n",
      "17   6490   0.194067\n",
      "18   6415   0.315526\n",
      "19   7087   0.089061\n",
      "20   5420   0.188752\n",
      "21   5977   0.156003\n",
      "22   6824   0.586792\n",
      "23   5207   0.144628\n",
      "24   7115   0.204189\n",
      "25   7250   0.065673\n",
      "26   6010   0.352590\n",
      "27   6088   0.416696\n",
      "28   5682   0.293355\n",
      "29   7201   0.147856\n",
      "..    ...        ...\n",
      "324  5698   0.302315\n",
      "325  5169   0.130057\n",
      "326  7294   0.090961\n",
      "327  5318   0.142647\n",
      "328  5368   0.154759\n",
      "329  6923   0.065127\n",
      "330  5463   0.173139\n",
      "331  5265   0.348966\n",
      "332  6321   0.201493\n",
      "333  5226   0.276394\n",
      "334  6868   0.073510\n",
      "335  4967   0.726703\n",
      "336  5293   0.123693\n",
      "337  5865   0.269714\n",
      "338  5841   0.126395\n",
      "339  5526   0.063282\n",
      "340  6852   0.045916\n",
      "341  6469   0.276964\n",
      "342  6168   0.100421\n",
      "343  7292   0.036349\n",
      "344  5036   0.120599\n",
      "345  5644   0.305711\n",
      "346  6856   0.113803\n",
      "347  5428   0.321241\n",
      "348  5027   0.197233\n",
      "349  4989   0.252911\n",
      "350  5221   0.196853\n",
      "351  6402   0.288818\n",
      "352  5346   0.192322\n",
      "353  6748   0.173627\n",
      "\n",
      "[354 rows x 2 columns]\n",
      "Sucessfully stored the predictions in a file named 'testing_model.csv'\n"
     ]
    },
    {
     "name": "stderr",
     "output_type": "stream",
     "text": [
      "C:\\Users\\utilizador\\Anaconda3\\lib\\site-packages\\sklearn\\base.py:439: UserWarning: X has feature names, but RandomForestClassifier was fitted without feature names\n",
      "  f\"X has feature names, but {self.__class__.__name__} was fitted without\"\n"
     ]
    }
   ],
   "source": [
    "run_algorithm(algorithm)"
   ]
  },
  {
   "cell_type": "markdown",
   "metadata": {},
   "source": [
    "### Run with StratifiedKFold"
   ]
  },
  {
   "cell_type": "code",
   "execution_count": 78,
   "metadata": {},
   "outputs": [
    {
     "name": "stdout",
     "output_type": "stream",
     "text": [
      "AUC=0.6875\n",
      "AUC=0.8184397163120568\n",
      "AUC=0.724822695035461\n",
      "Average AUC = 0.7435874704491727\n",
      "Best AUC = 0.8184397163120568\n",
      "Predictions:\n",
      "        Id  Predicted\n",
      "0    5895   0.136733\n",
      "1    7122   0.681794\n",
      "2    6173   0.237232\n",
      "3    6142   0.407487\n",
      "4    5358   0.413361\n",
      "5    6095   0.105293\n",
      "6    6878   0.125755\n",
      "7    6554   0.254021\n",
      "8    6793   0.302443\n",
      "9    7286   0.215749\n",
      "10   6076   0.178862\n",
      "11   5134   0.156727\n",
      "12   5419   0.411062\n",
      "13   6255   0.424672\n",
      "14   5656   0.153357\n",
      "15   6934   0.245852\n",
      "16   6028   0.273993\n",
      "17   6490   0.103604\n",
      "18   6415   0.278866\n",
      "19   7087   0.067745\n",
      "20   5420   0.188854\n",
      "21   5977   0.100141\n",
      "22   6824   0.553180\n",
      "23   5207   0.133693\n",
      "24   7115   0.231100\n",
      "25   7250   0.048115\n",
      "26   6010   0.331853\n",
      "27   6088   0.401424\n",
      "28   5682   0.143317\n",
      "29   7201   0.052473\n",
      "..    ...        ...\n",
      "324  5698   0.336472\n",
      "325  5169   0.159190\n",
      "326  7294   0.108472\n",
      "327  5318   0.173665\n",
      "328  5368   0.145510\n",
      "329  6923   0.079090\n",
      "330  5463   0.162296\n",
      "331  5265   0.373754\n",
      "332  6321   0.126359\n",
      "333  5226   0.319518\n",
      "334  6868   0.071570\n",
      "335  4967   0.705476\n",
      "336  5293   0.212627\n",
      "337  5865   0.222813\n",
      "338  5841   0.116313\n",
      "339  5526   0.059387\n",
      "340  6852   0.089507\n",
      "341  6469   0.267727\n",
      "342  6168   0.065982\n",
      "343  7292   0.070885\n",
      "344  5036   0.179428\n",
      "345  5644   0.215590\n",
      "346  6856   0.164492\n",
      "347  5428   0.338654\n",
      "348  5027   0.109897\n",
      "349  4989   0.241853\n",
      "350  5221   0.230664\n",
      "351  6402   0.231703\n",
      "352  5346   0.206809\n",
      "353  6748   0.230319\n",
      "\n",
      "[354 rows x 2 columns]\n",
      "Sucessfully stored the predictions in a file named 'final.csv'\n"
     ]
    },
    {
     "name": "stderr",
     "output_type": "stream",
     "text": [
      "C:\\Users\\utilizador\\Anaconda3\\lib\\site-packages\\sklearn\\base.py:439: UserWarning: X has feature names, but RandomForestClassifier was fitted without feature names\n",
      "  f\"X has feature names, but {self.__class__.__name__} was fitted without\"\n"
     ]
    }
   ],
   "source": [
    "final_CV(algorithm) "
   ]
  },
  {
   "cell_type": "markdown",
   "metadata": {},
   "source": [
    "### Finding the best grid"
   ]
  },
  {
   "cell_type": "markdown",
   "metadata": {},
   "source": [
    "#### Decision Tree"
   ]
  },
  {
   "cell_type": "code",
   "execution_count": 74,
   "metadata": {},
   "outputs": [
    {
     "name": "stdout",
     "output_type": "stream",
     "text": [
      "Fitting 2 folds for each of 7680 candidates, totalling 15360 fits\n"
     ]
    },
    {
     "ename": "ValueError",
     "evalue": "Invalid parameter min_impurity_split for estimator DecisionTreeClassifier(class_weight='balanced', max_depth=5,\n                       max_features='auto'). Check the list of available parameters with `estimator.get_params().keys()`.",
     "output_type": "error",
     "traceback": [
      "\u001b[1;31m---------------------------------------------------------------------------\u001b[0m",
      "\u001b[1;31m_RemoteTraceback\u001b[0m                          Traceback (most recent call last)",
      "\u001b[1;31m_RemoteTraceback\u001b[0m: \n\"\"\"\nTraceback (most recent call last):\n  File \"C:\\Users\\utilizador\\Anaconda3\\lib\\site-packages\\joblib\\externals\\loky\\process_executor.py\", line 436, in _process_worker\n    r = call_item()\n  File \"C:\\Users\\utilizador\\Anaconda3\\lib\\site-packages\\joblib\\externals\\loky\\process_executor.py\", line 288, in __call__\n    return self.fn(*self.args, **self.kwargs)\n  File \"C:\\Users\\utilizador\\Anaconda3\\lib\\site-packages\\joblib\\_parallel_backends.py\", line 595, in __call__\n    return self.func(*args, **kwargs)\n  File \"C:\\Users\\utilizador\\Anaconda3\\lib\\site-packages\\joblib\\parallel.py\", line 263, in __call__\n    for func, args, kwargs in self.items]\n  File \"C:\\Users\\utilizador\\Anaconda3\\lib\\site-packages\\joblib\\parallel.py\", line 263, in <listcomp>\n    for func, args, kwargs in self.items]\n  File \"C:\\Users\\utilizador\\Anaconda3\\lib\\site-packages\\sklearn\\utils\\fixes.py\", line 211, in __call__\n    return self.function(*args, **kwargs)\n  File \"C:\\Users\\utilizador\\Anaconda3\\lib\\site-packages\\sklearn\\model_selection\\_validation.py\", line 669, in _fit_and_score\n    estimator = estimator.set_params(**cloned_parameters)\n  File \"C:\\Users\\utilizador\\Anaconda3\\lib\\site-packages\\sklearn\\pipeline.py\", line 188, in set_params\n    self._set_params(\"steps\", **kwargs)\n  File \"C:\\Users\\utilizador\\Anaconda3\\lib\\site-packages\\sklearn\\utils\\metaestimators.py\", line 54, in _set_params\n    super().set_params(**params)\n  File \"C:\\Users\\utilizador\\Anaconda3\\lib\\site-packages\\sklearn\\base.py\", line 253, in set_params\n    valid_params[key].set_params(**sub_params)\n  File \"C:\\Users\\utilizador\\Anaconda3\\lib\\site-packages\\sklearn\\base.py\", line 243, in set_params\n    \"with `estimator.get_params().keys()`.\" % (key, self)\nValueError: Invalid parameter min_impurity_split for estimator DecisionTreeClassifier(class_weight='balanced', max_depth=5,\n                       max_features='auto'). Check the list of available parameters with `estimator.get_params().keys()`.\n\"\"\"",
      "\nThe above exception was the direct cause of the following exception:\n",
      "\u001b[1;31mValueError\u001b[0m                                Traceback (most recent call last)",
      "\u001b[1;32m<ipython-input-74-51d1f1462950>\u001b[0m in \u001b[0;36m<module>\u001b[1;34m()\u001b[0m\n\u001b[0;32m     10\u001b[0m }\n\u001b[0;32m     11\u001b[0m \u001b[1;33m\u001b[0m\u001b[0m\n\u001b[1;32m---> 12\u001b[1;33m \u001b[0mgetBestSearch\u001b[0m\u001b[1;33m(\u001b[0m\u001b[1;34m\"DT\"\u001b[0m\u001b[1;33m,\u001b[0m\u001b[0mparam_grid\u001b[0m\u001b[1;33m)\u001b[0m\u001b[1;33m\u001b[0m\u001b[0m\n\u001b[0m",
      "\u001b[1;32m<ipython-input-65-68f60ac59014>\u001b[0m in \u001b[0;36mgetBestSearch\u001b[1;34m(algorithm, grid)\u001b[0m\n\u001b[0;32m     22\u001b[0m                                verbose = 2)\n\u001b[0;32m     23\u001b[0m \u001b[1;33m\u001b[0m\u001b[0m\n\u001b[1;32m---> 24\u001b[1;33m     \u001b[0mmodel\u001b[0m \u001b[1;33m=\u001b[0m \u001b[0mgrid_search\u001b[0m\u001b[1;33m.\u001b[0m\u001b[0mfit\u001b[0m\u001b[1;33m(\u001b[0m\u001b[0mX\u001b[0m\u001b[1;33m,\u001b[0m\u001b[0my\u001b[0m\u001b[1;33m)\u001b[0m\u001b[1;33m\u001b[0m\u001b[0m\n\u001b[0m\u001b[0;32m     25\u001b[0m \u001b[1;33m\u001b[0m\u001b[0m\n\u001b[0;32m     26\u001b[0m     \u001b[1;32mif\u001b[0m \u001b[0mDEBUG\u001b[0m\u001b[1;33m:\u001b[0m\u001b[1;33m\u001b[0m\u001b[0m\n",
      "\u001b[1;32m~\\Anaconda3\\lib\\site-packages\\sklearn\\model_selection\\_search.py\u001b[0m in \u001b[0;36mfit\u001b[1;34m(self, X, y, groups, **fit_params)\u001b[0m\n\u001b[0;32m    889\u001b[0m                 \u001b[1;32mreturn\u001b[0m \u001b[0mresults\u001b[0m\u001b[1;33m\u001b[0m\u001b[0m\n\u001b[0;32m    890\u001b[0m \u001b[1;33m\u001b[0m\u001b[0m\n\u001b[1;32m--> 891\u001b[1;33m             \u001b[0mself\u001b[0m\u001b[1;33m.\u001b[0m\u001b[0m_run_search\u001b[0m\u001b[1;33m(\u001b[0m\u001b[0mevaluate_candidates\u001b[0m\u001b[1;33m)\u001b[0m\u001b[1;33m\u001b[0m\u001b[0m\n\u001b[0m\u001b[0;32m    892\u001b[0m \u001b[1;33m\u001b[0m\u001b[0m\n\u001b[0;32m    893\u001b[0m             \u001b[1;31m# multimetric is determined here because in the case of a callable\u001b[0m\u001b[1;33m\u001b[0m\u001b[1;33m\u001b[0m\u001b[0m\n",
      "\u001b[1;32m~\\Anaconda3\\lib\\site-packages\\sklearn\\model_selection\\_search.py\u001b[0m in \u001b[0;36m_run_search\u001b[1;34m(self, evaluate_candidates)\u001b[0m\n\u001b[0;32m   1390\u001b[0m     \u001b[1;32mdef\u001b[0m \u001b[0m_run_search\u001b[0m\u001b[1;33m(\u001b[0m\u001b[0mself\u001b[0m\u001b[1;33m,\u001b[0m \u001b[0mevaluate_candidates\u001b[0m\u001b[1;33m)\u001b[0m\u001b[1;33m:\u001b[0m\u001b[1;33m\u001b[0m\u001b[0m\n\u001b[0;32m   1391\u001b[0m         \u001b[1;34m\"\"\"Search all candidates in param_grid\"\"\"\u001b[0m\u001b[1;33m\u001b[0m\u001b[0m\n\u001b[1;32m-> 1392\u001b[1;33m         \u001b[0mevaluate_candidates\u001b[0m\u001b[1;33m(\u001b[0m\u001b[0mParameterGrid\u001b[0m\u001b[1;33m(\u001b[0m\u001b[0mself\u001b[0m\u001b[1;33m.\u001b[0m\u001b[0mparam_grid\u001b[0m\u001b[1;33m)\u001b[0m\u001b[1;33m)\u001b[0m\u001b[1;33m\u001b[0m\u001b[0m\n\u001b[0m\u001b[0;32m   1393\u001b[0m \u001b[1;33m\u001b[0m\u001b[0m\n\u001b[0;32m   1394\u001b[0m \u001b[1;33m\u001b[0m\u001b[0m\n",
      "\u001b[1;32m~\\Anaconda3\\lib\\site-packages\\sklearn\\model_selection\\_search.py\u001b[0m in \u001b[0;36mevaluate_candidates\u001b[1;34m(candidate_params, cv, more_results)\u001b[0m\n\u001b[0;32m    849\u001b[0m                     )\n\u001b[0;32m    850\u001b[0m                     for (cand_idx, parameters), (split_idx, (train, test)) in product(\n\u001b[1;32m--> 851\u001b[1;33m                         \u001b[0menumerate\u001b[0m\u001b[1;33m(\u001b[0m\u001b[0mcandidate_params\u001b[0m\u001b[1;33m)\u001b[0m\u001b[1;33m,\u001b[0m \u001b[0menumerate\u001b[0m\u001b[1;33m(\u001b[0m\u001b[0mcv\u001b[0m\u001b[1;33m.\u001b[0m\u001b[0msplit\u001b[0m\u001b[1;33m(\u001b[0m\u001b[0mX\u001b[0m\u001b[1;33m,\u001b[0m \u001b[0my\u001b[0m\u001b[1;33m,\u001b[0m \u001b[0mgroups\u001b[0m\u001b[1;33m)\u001b[0m\u001b[1;33m)\u001b[0m\u001b[1;33m\u001b[0m\u001b[0m\n\u001b[0m\u001b[0;32m    852\u001b[0m                     )\n\u001b[0;32m    853\u001b[0m                 )\n",
      "\u001b[1;32m~\\Anaconda3\\lib\\site-packages\\joblib\\parallel.py\u001b[0m in \u001b[0;36m__call__\u001b[1;34m(self, iterable)\u001b[0m\n\u001b[0;32m   1054\u001b[0m \u001b[1;33m\u001b[0m\u001b[0m\n\u001b[0;32m   1055\u001b[0m             \u001b[1;32mwith\u001b[0m \u001b[0mself\u001b[0m\u001b[1;33m.\u001b[0m\u001b[0m_backend\u001b[0m\u001b[1;33m.\u001b[0m\u001b[0mretrieval_context\u001b[0m\u001b[1;33m(\u001b[0m\u001b[1;33m)\u001b[0m\u001b[1;33m:\u001b[0m\u001b[1;33m\u001b[0m\u001b[0m\n\u001b[1;32m-> 1056\u001b[1;33m                 \u001b[0mself\u001b[0m\u001b[1;33m.\u001b[0m\u001b[0mretrieve\u001b[0m\u001b[1;33m(\u001b[0m\u001b[1;33m)\u001b[0m\u001b[1;33m\u001b[0m\u001b[0m\n\u001b[0m\u001b[0;32m   1057\u001b[0m             \u001b[1;31m# Make sure that we get a last message telling us we are done\u001b[0m\u001b[1;33m\u001b[0m\u001b[1;33m\u001b[0m\u001b[0m\n\u001b[0;32m   1058\u001b[0m             \u001b[0melapsed_time\u001b[0m \u001b[1;33m=\u001b[0m \u001b[0mtime\u001b[0m\u001b[1;33m.\u001b[0m\u001b[0mtime\u001b[0m\u001b[1;33m(\u001b[0m\u001b[1;33m)\u001b[0m \u001b[1;33m-\u001b[0m \u001b[0mself\u001b[0m\u001b[1;33m.\u001b[0m\u001b[0m_start_time\u001b[0m\u001b[1;33m\u001b[0m\u001b[0m\n",
      "\u001b[1;32m~\\Anaconda3\\lib\\site-packages\\joblib\\parallel.py\u001b[0m in \u001b[0;36mretrieve\u001b[1;34m(self)\u001b[0m\n\u001b[0;32m    933\u001b[0m             \u001b[1;32mtry\u001b[0m\u001b[1;33m:\u001b[0m\u001b[1;33m\u001b[0m\u001b[0m\n\u001b[0;32m    934\u001b[0m                 \u001b[1;32mif\u001b[0m \u001b[0mgetattr\u001b[0m\u001b[1;33m(\u001b[0m\u001b[0mself\u001b[0m\u001b[1;33m.\u001b[0m\u001b[0m_backend\u001b[0m\u001b[1;33m,\u001b[0m \u001b[1;34m'supports_timeout'\u001b[0m\u001b[1;33m,\u001b[0m \u001b[1;32mFalse\u001b[0m\u001b[1;33m)\u001b[0m\u001b[1;33m:\u001b[0m\u001b[1;33m\u001b[0m\u001b[0m\n\u001b[1;32m--> 935\u001b[1;33m                     \u001b[0mself\u001b[0m\u001b[1;33m.\u001b[0m\u001b[0m_output\u001b[0m\u001b[1;33m.\u001b[0m\u001b[0mextend\u001b[0m\u001b[1;33m(\u001b[0m\u001b[0mjob\u001b[0m\u001b[1;33m.\u001b[0m\u001b[0mget\u001b[0m\u001b[1;33m(\u001b[0m\u001b[0mtimeout\u001b[0m\u001b[1;33m=\u001b[0m\u001b[0mself\u001b[0m\u001b[1;33m.\u001b[0m\u001b[0mtimeout\u001b[0m\u001b[1;33m)\u001b[0m\u001b[1;33m)\u001b[0m\u001b[1;33m\u001b[0m\u001b[0m\n\u001b[0m\u001b[0;32m    936\u001b[0m                 \u001b[1;32melse\u001b[0m\u001b[1;33m:\u001b[0m\u001b[1;33m\u001b[0m\u001b[0m\n\u001b[0;32m    937\u001b[0m                     \u001b[0mself\u001b[0m\u001b[1;33m.\u001b[0m\u001b[0m_output\u001b[0m\u001b[1;33m.\u001b[0m\u001b[0mextend\u001b[0m\u001b[1;33m(\u001b[0m\u001b[0mjob\u001b[0m\u001b[1;33m.\u001b[0m\u001b[0mget\u001b[0m\u001b[1;33m(\u001b[0m\u001b[1;33m)\u001b[0m\u001b[1;33m)\u001b[0m\u001b[1;33m\u001b[0m\u001b[0m\n",
      "\u001b[1;32m~\\Anaconda3\\lib\\site-packages\\joblib\\_parallel_backends.py\u001b[0m in \u001b[0;36mwrap_future_result\u001b[1;34m(future, timeout)\u001b[0m\n\u001b[0;32m    540\u001b[0m         AsyncResults.get from multiprocessing.\"\"\"\n\u001b[0;32m    541\u001b[0m         \u001b[1;32mtry\u001b[0m\u001b[1;33m:\u001b[0m\u001b[1;33m\u001b[0m\u001b[0m\n\u001b[1;32m--> 542\u001b[1;33m             \u001b[1;32mreturn\u001b[0m \u001b[0mfuture\u001b[0m\u001b[1;33m.\u001b[0m\u001b[0mresult\u001b[0m\u001b[1;33m(\u001b[0m\u001b[0mtimeout\u001b[0m\u001b[1;33m=\u001b[0m\u001b[0mtimeout\u001b[0m\u001b[1;33m)\u001b[0m\u001b[1;33m\u001b[0m\u001b[0m\n\u001b[0m\u001b[0;32m    543\u001b[0m         \u001b[1;32mexcept\u001b[0m \u001b[0mCfTimeoutError\u001b[0m \u001b[1;32mas\u001b[0m \u001b[0me\u001b[0m\u001b[1;33m:\u001b[0m\u001b[1;33m\u001b[0m\u001b[0m\n\u001b[0;32m    544\u001b[0m             \u001b[1;32mraise\u001b[0m \u001b[0mTimeoutError\u001b[0m \u001b[1;32mfrom\u001b[0m \u001b[0me\u001b[0m\u001b[1;33m\u001b[0m\u001b[0m\n",
      "\u001b[1;32m~\\Anaconda3\\lib\\concurrent\\futures\\_base.py\u001b[0m in \u001b[0;36mresult\u001b[1;34m(self, timeout)\u001b[0m\n\u001b[0;32m    430\u001b[0m                 \u001b[1;32mraise\u001b[0m \u001b[0mCancelledError\u001b[0m\u001b[1;33m(\u001b[0m\u001b[1;33m)\u001b[0m\u001b[1;33m\u001b[0m\u001b[0m\n\u001b[0;32m    431\u001b[0m             \u001b[1;32melif\u001b[0m \u001b[0mself\u001b[0m\u001b[1;33m.\u001b[0m\u001b[0m_state\u001b[0m \u001b[1;33m==\u001b[0m \u001b[0mFINISHED\u001b[0m\u001b[1;33m:\u001b[0m\u001b[1;33m\u001b[0m\u001b[0m\n\u001b[1;32m--> 432\u001b[1;33m                 \u001b[1;32mreturn\u001b[0m \u001b[0mself\u001b[0m\u001b[1;33m.\u001b[0m\u001b[0m__get_result\u001b[0m\u001b[1;33m(\u001b[0m\u001b[1;33m)\u001b[0m\u001b[1;33m\u001b[0m\u001b[0m\n\u001b[0m\u001b[0;32m    433\u001b[0m             \u001b[1;32melse\u001b[0m\u001b[1;33m:\u001b[0m\u001b[1;33m\u001b[0m\u001b[0m\n\u001b[0;32m    434\u001b[0m                 \u001b[1;32mraise\u001b[0m \u001b[0mTimeoutError\u001b[0m\u001b[1;33m(\u001b[0m\u001b[1;33m)\u001b[0m\u001b[1;33m\u001b[0m\u001b[0m\n",
      "\u001b[1;32m~\\Anaconda3\\lib\\concurrent\\futures\\_base.py\u001b[0m in \u001b[0;36m__get_result\u001b[1;34m(self)\u001b[0m\n\u001b[0;32m    382\u001b[0m     \u001b[1;32mdef\u001b[0m \u001b[0m__get_result\u001b[0m\u001b[1;33m(\u001b[0m\u001b[0mself\u001b[0m\u001b[1;33m)\u001b[0m\u001b[1;33m:\u001b[0m\u001b[1;33m\u001b[0m\u001b[0m\n\u001b[0;32m    383\u001b[0m         \u001b[1;32mif\u001b[0m \u001b[0mself\u001b[0m\u001b[1;33m.\u001b[0m\u001b[0m_exception\u001b[0m\u001b[1;33m:\u001b[0m\u001b[1;33m\u001b[0m\u001b[0m\n\u001b[1;32m--> 384\u001b[1;33m             \u001b[1;32mraise\u001b[0m \u001b[0mself\u001b[0m\u001b[1;33m.\u001b[0m\u001b[0m_exception\u001b[0m\u001b[1;33m\u001b[0m\u001b[0m\n\u001b[0m\u001b[0;32m    385\u001b[0m         \u001b[1;32melse\u001b[0m\u001b[1;33m:\u001b[0m\u001b[1;33m\u001b[0m\u001b[0m\n\u001b[0;32m    386\u001b[0m             \u001b[1;32mreturn\u001b[0m \u001b[0mself\u001b[0m\u001b[1;33m.\u001b[0m\u001b[0m_result\u001b[0m\u001b[1;33m\u001b[0m\u001b[0m\n",
      "\u001b[1;31mValueError\u001b[0m: Invalid parameter min_impurity_split for estimator DecisionTreeClassifier(class_weight='balanced', max_depth=5,\n                       max_features='auto'). Check the list of available parameters with `estimator.get_params().keys()`."
     ]
    }
   ],
   "source": [
    "param_grid = {\n",
    "    'classification__criterion':['gini', 'entropy'],\n",
    "    'classification__splitter': [\"best\", \"random\"],\n",
    "    'classification__max_depth': [5, 10, 20, 30, 40],\n",
    "    'classification__min_samples_split': [2, 4, 6, 8],\n",
    "    'classification__min_samples_leaf': [1, 2, 4, 6],\n",
    "    'classification__max_features': [\"auto\", \"sqrt\", \"log2\"],\n",
    "    'classification__min_impurity_split': [0.05, 0.1, 0.2, 0.3],\n",
    "    'classification__class_weight': [\"balanced\", None]\n",
    "}\n",
    "\n",
    "getBestSearch(\"DT\",param_grid)"
   ]
  },
  {
   "cell_type": "markdown",
   "metadata": {},
   "source": [
    "#### Random Forest"
   ]
  },
  {
   "cell_type": "code",
   "execution_count": null,
   "metadata": {},
   "outputs": [
    {
     "name": "stdout",
     "output_type": "stream",
     "text": [
      "Fitting 2 folds for each of 288 candidates, totalling 576 fits\n",
      "Best Score:  0.5121800801726797\n",
      "Best Params:  {'classification__max_depth': 110, 'classification__max_features': 2, 'classification__min_samples_leaf': 3, 'classification__min_samples_split': 8, 'classification__n_estimators': 300}\n"
     ]
    },
    {
     "data": {
      "text/plain": [
       "(0.5121800801726797,\n",
       " {'classification__max_depth': 110,\n",
       "  'classification__max_features': 2,\n",
       "  'classification__min_samples_leaf': 3,\n",
       "  'classification__min_samples_split': 8,\n",
       "  'classification__n_estimators': 300})"
      ]
     },
     "execution_count": 67,
     "metadata": {},
     "output_type": "execute_result"
    }
   ],
   "source": [
    "param_grid = {\n",
    "    'classification__max_depth': [80, 90, 100, 110],\n",
    "    'classification__max_features': [2, 3],\n",
    "    'classification__min_samples_leaf': [3, 4, 5],\n",
    "    'classification__min_samples_split': [8, 10, 12],\n",
    "    'classification__n_estimators': [100, 200, 300, 1000]\n",
    "}\n",
    "\n",
    "getBestSearch(\"RF\",param_grid)"
   ]
  },
  {
   "cell_type": "markdown",
   "metadata": {},
   "source": [
    "#### Logistic Regression"
   ]
  },
  {
   "cell_type": "code",
   "execution_count": null,
   "metadata": {},
   "outputs": [
    {
     "name": "stdout",
     "output_type": "stream",
     "text": [
      "Fitting 2 folds for each of 1 candidates, totalling 2 fits\n",
      "Best Score:  0.37765957446808507\n",
      "Best Params:  {}\n"
     ]
    },
    {
     "name": "stderr",
     "output_type": "stream",
     "text": [
      "D:\\outros\\Anaconda\\lib\\site-packages\\sklearn\\linear_model\\_logistic.py:763: ConvergenceWarning: lbfgs failed to converge (status=1):\n",
      "STOP: TOTAL NO. of ITERATIONS REACHED LIMIT.\n",
      "\n",
      "Increase the number of iterations (max_iter) or scale the data as shown in:\n",
      "    https://scikit-learn.org/stable/modules/preprocessing.html\n",
      "Please also refer to the documentation for alternative solver options:\n",
      "    https://scikit-learn.org/stable/modules/linear_model.html#logistic-regression\n",
      "  n_iter_i = _check_optimize_result(\n"
     ]
    },
    {
     "data": {
      "text/plain": [
       "(0.37765957446808507, {})"
      ]
     },
     "execution_count": 69,
     "metadata": {},
     "output_type": "execute_result"
    }
   ],
   "source": [
    "param_grid = {}\n",
    " \n",
    "getBestSearch(\"LR\",param_grid)"
   ]
  },
  {
   "cell_type": "markdown",
   "metadata": {},
   "source": [
    "#### K-Nearest Neighbours"
   ]
  },
  {
   "cell_type": "code",
   "execution_count": null,
   "metadata": {},
   "outputs": [
    {
     "name": "stdout",
     "output_type": "stream",
     "text": [
      "Fitting 2 folds for each of 23040 candidates, totalling 46080 fits\n"
     ]
    }
   ],
   "source": [
    "param_grid = {\n",
    "    'classification__n_neighbors': [2, 3, 4, 5, 8, 10],\n",
    "    'classification__algorithm': ['auto', 'ball_tree', 'kd_tree', 'brute'],\n",
    "    'classification__weights': ['uniform', 'distance'],\n",
    "    'classification__metric': ['euclidean', 'manhattan', 'chebyshev', 'minkowski', 'wminkowski', 'seuclidean', 'mahalanobis', 'haversine', 'hamming', 'canberra', 'braycurtis', 'cityblock', 'infinity', 'l1', 'l2', 'p'],\n",
    "    'classification__leaf_size': [10, 20, 30, 50, 80, 150],\n",
    "    'classification__p': [1, 2, 3, 5, 10]\n",
    "}\n",
    "\n",
    "getBestSearch(\"KNN\",param_grid)"
   ]
  },
  {
   "cell_type": "code",
   "execution_count": null,
   "metadata": {},
   "outputs": [],
   "source": [
    "def plot_auc(y_test,y_predicted):\n",
    "    \n",
    "    fpr, tpr, _ = metrics.roc_curve(y_test, y_predicted,pos_label=-1)\n",
    "    roc_auc = metrics.auc(fpr, tpr)\n",
    "    \n",
    "    plt.title('Receiver Operating Characteristic')\n",
    "    plt.plot(fpr, tpr, 'b', label = 'AUC = %0.2f' % roc_auc)\n",
    "    plt.fill_between(fpr,tpr,color=\"lightskyblue\")\n",
    "    plt.legend(loc = 'lower right')\n",
    "    plt.plot([0, 1], [0, 1],'w--')\n",
    "    plt.xlim([0, 1])\n",
    "    plt.ylim([0, 1.01])\n",
    "    plt.ylabel('True Positive Rate')\n",
    "    plt.xlabel('False Positive Rate')\n",
    "    plt.show()"
   ]
  },
  {
   "cell_type": "markdown",
   "metadata": {},
   "source": [
    "### Clustering"
   ]
  },
  {
   "cell_type": "code",
   "execution_count": null,
   "metadata": {},
   "outputs": [
    {
     "name": "stdout",
     "output_type": "stream",
     "text": [
      "KMeans(n_clusters=3)\n"
     ]
    }
   ],
   "source": [
    "con = sqlite3.connect(\"../database/banking_data\")\n",
    "\n",
    "train = pd.read_sql_query(\"SELECT * FROM loan_united_train\", con)\n",
    "\n",
    "con.close()\n",
    "\n",
    "df = utils.normalize_category(train)\n",
    "# df = utils.normalization(df,'status')\n",
    "\n",
    "X = df.drop(columns=['status'])\n",
    "\n",
    "kmeans_model = KMeans(n_clusters=3).fit(X)\n",
    "# labels = kmeans_model.labels_\n",
    "# metrics.silhouette_score(X, labels, metric='euclidean')\n",
    "\n",
    "pprint(kmeans_model)    \n"
   ]
  },
  {
   "cell_type": "code",
   "execution_count": null,
   "metadata": {},
   "outputs": [
    {
     "data": {
      "text/plain": [
       "Index(['index', 'loan_id', 'loan_amount', 'loan_duration', 'payments',\n",
       "       'status', 'no. of inhabitants',\n",
       "       'account_district no. of municipalities with inhabitants < 499',\n",
       "       'account_district no. of municipalities with inhabitants 500-1999',\n",
       "       'account_district no. of municipalities with inhabitants 2000-9999',\n",
       "       'account_district no. of municipalities with inhabitants >10000',\n",
       "       'account_district no. of cities',\n",
       "       'account_district ratio of urban inhabitants',\n",
       "       'account_district average salary',\n",
       "       'account_district unemploymant rate '95',\n",
       "       'account_district unemploymant rate '96',\n",
       "       'account_district unemploymant_growth',\n",
       "       'account_district no. of enterpreneurs per 1000 inhabitants',\n",
       "       'account_district no. of commited crimes '95',\n",
       "       'account_district no. of commited crimes '96',\n",
       "       'account_district crime_growth', 'account_district total_crime', 'code',\n",
       "       'client_district no. of inhabitants',\n",
       "       'client_district no. of municipalities with inhabitants < 499',\n",
       "       'client_district no. of municipalities with inhabitants 500-1999',\n",
       "       'client_district no. of municipalities with inhabitants 2000-9999',\n",
       "       'client_district no. of municipalities with inhabitants >10000',\n",
       "       'client_district no. of cities',\n",
       "       'client_district ratio of urban inhabitants',\n",
       "       'client_district average salary',\n",
       "       'client_district unemploymant rate '95',\n",
       "       'client_district unemploymant rate '96',\n",
       "       'client_district unemploymant_growth',\n",
       "       'client_district no. of enterpreneurs per 1000 inhabitants',\n",
       "       'client_district no. of commited crimes '95',\n",
       "       'client_district no. of commited crimes '96',\n",
       "       'client_district crime_growth', 'client_district total_crime',\n",
       "       'card_issued', 'no. movements', 'min no. trans', 'max no. trans',\n",
       "       'avg no. trans', 'min balance', 'max balance', 'avg balance',\n",
       "       'age_on_loan', 'issuance after transaction', 'monthly issuance',\n",
       "       'weekly issuance', 'female', 'male', 'None', 'classic', 'gold',\n",
       "       'junior'],\n",
       "      dtype='object')"
      ]
     },
     "execution_count": 193,
     "metadata": {},
     "output_type": "execute_result"
    }
   ],
   "source": [
    "get_df().columns"
   ]
  }
 ],
 "metadata": {
  "interpreter": {
   "hash": "7c5c685faadbcbae1551fd6d5683e133251e0ca8e77eadbbc8e83131f99b1b14"
  },
  "kernelspec": {
   "display_name": "Python 3.7.0 64-bit ('base': conda)",
   "language": "python",
   "name": "python3"
  },
  "language_info": {
   "codemirror_mode": {
    "name": "ipython",
    "version": 3
   },
   "file_extension": ".py",
   "mimetype": "text/x-python",
   "name": "python",
   "nbconvert_exporter": "python",
   "pygments_lexer": "ipython3",
   "version": "3.7.0"
  },
  "orig_nbformat": 4
 },
 "nbformat": 4,
 "nbformat_minor": 2
}
