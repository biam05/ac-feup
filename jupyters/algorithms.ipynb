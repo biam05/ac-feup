{
 "cells": [
  {
   "cell_type": "markdown",
   "metadata": {},
   "source": [
    "### Imported libraries and Scripts"
   ]
  },
  {
   "cell_type": "code",
   "execution_count": 3,
   "metadata": {},
   "outputs": [
    {
     "name": "stdout",
     "output_type": "stream",
     "text": [
      "The autoreload extension is already loaded. To reload it, use:\n",
      "  %reload_ext autoreload\n"
     ]
    },
    {
     "data": {
      "text/plain": [
       "<module 'utils' from 'd:\\\\escola\\\\fac\\\\4o_ano\\\\1_semestre\\\\ac-feup\\\\jupyters\\\\utils.py'>"
      ]
     },
     "execution_count": 3,
     "metadata": {},
     "output_type": "execute_result"
    }
   ],
   "source": [
    "### imported Libraries\n",
    "import pandas as pd\n",
    "import numpy as np\n",
    "import importlib\n",
    "import sqlite3\n",
    "import datetime\n",
    "\n",
    "### Sklearn imported libraries\n",
    "from sklearn.model_selection import train_test_split\n",
    "from sklearn.model_selection import GridSearchCV\n",
    "from sklearn.model_selection import StratifiedKFold\n",
    "from sklearn.ensemble import RandomForestClassifier\n",
    "from sklearn.tree import DecisionTreeClassifier\n",
    "from sklearn.neighbors import KNeighborsClassifier\n",
    "from sklearn.linear_model import LogisticRegression\n",
    "from sklearn.cluster import KMeans\n",
    "from sklearn.feature_selection import SelectKBest, f_classif\n",
    "from sklearn.preprocessing import MinMaxScaler\n",
    "\n",
    "from pprint import pprint\n",
    "from sklearn.cluster import KMeans\n",
    "\n",
    "# Pipeline for Oversampling\n",
    "from imblearn.pipeline import Pipeline\n",
    "from imblearn.over_sampling import SMOTE\n",
    "\n",
    "from sklearn import metrics\n",
    "import matplotlib.pyplot as plt\n",
    "\n",
    "### Imported Scripts\n",
    "import utils\n",
    "\n",
    "%load_ext autoreload\n",
    "%autoreload 2\n",
    "\n",
    "importlib.reload(utils)\n"
   ]
  },
  {
   "cell_type": "markdown",
   "metadata": {},
   "source": [
    "### Choose Macros"
   ]
  },
  {
   "cell_type": "code",
   "execution_count": 4,
   "metadata": {},
   "outputs": [],
   "source": [
    "OVERSMAPLE = True\n",
    "DEBUG = True\n",
    "WRITE = True\n",
    "DUMMIES = True\n",
    "CATEGORY_ENCONDING = False\n",
    "MIN_MAX_SCALER = False\n",
    "SPLIT_RATIO = 0.8\n",
    "N_COLUMNS = 15\n",
    "N_SPLITS = 3\n"
   ]
  },
  {
   "cell_type": "markdown",
   "metadata": {},
   "source": [
    "## Defined Methods"
   ]
  },
  {
   "cell_type": "markdown",
   "metadata": {},
   "source": [
    "### Choose Dataset Options"
   ]
  },
  {
   "cell_type": "code",
   "execution_count": 5,
   "metadata": {},
   "outputs": [],
   "source": [
    "def add_dummy(df,columns):\n",
    "    copy= df.copy()\n",
    "\n",
    "    for column in columns:\n",
    "        dummies = pd.get_dummies(copy[column])\n",
    "        copy = copy.drop(column,axis=1)\n",
    "        copy = copy.join(dummies)\n",
    "    \n",
    "    return copy\n",
    "\n",
    "def convert_dates(df):\n",
    "    copy = df.copy()\n",
    "    columns = [\"loan_date\",\"account_creation\",\"birth_number\"]\n",
    "\n",
    "    for column in columns:\n",
    "        copy[column] = copy[column].apply(lambda x: datetime.datetime.strptime(x, '%d-%m-%Y').strftime('%Y')).astype(int)\n",
    "\n",
    "    copy[\"age_on_loan\"] = copy[\"loan_date\"] - copy[\"birth_number\"]\n",
    "    copy = copy.drop(columns = [\"loan_date\",\"account_creation\",\"birth_number\"])\n",
    "\n",
    "    copy['card_issued'] = pd.to_numeric(copy[\"card_issued\"].astype(str), errors='coerce').fillna(1).astype(int)\n",
    "\n",
    "    return copy\n",
    "\n",
    "def get_df(test=False):\n",
    "    con = sqlite3.connect(\"../database/banking_data\")\n",
    "    if test:\n",
    "        df = pd.read_sql_query(\"SELECT * FROM loan_united_test\", con)\n",
    "    else:\n",
    "        df = pd.read_sql_query(\"SELECT * FROM loan_united_train\", con)\n",
    "\n",
    "    df = convert_dates(df)\n",
    "    con.close()\n",
    "\n",
    "    if DUMMIES:\n",
    "        columns = [\"account_frequency\",\"gender\",\"card_type\"]\n",
    "        df = add_dummy(df, columns)\n",
    "\n",
    "    if CATEGORY_ENCONDING:\n",
    "        df = utils.normalize_category(df)\n",
    "\n",
    "    \n",
    "    if MIN_MAX_SCALER:\n",
    "        scaler = MinMaxScaler()\n",
    "        copy = df.copy()\n",
    "        y = copy[\"status\"]\n",
    "        X = copy.drop(columns=[\"status\"])\n",
    "        transf = scaler.fit_transform(X)\n",
    "        copy = pd.DataFrame(transf,index=X.index,columns=X.columns)\n",
    "        copy[\"status\"] = y\n",
    "        df = copy\n",
    "        \n",
    "    \n",
    "    return df\n"
   ]
  },
  {
   "cell_type": "markdown",
   "metadata": {},
   "source": [
    "### Data splitting"
   ]
  },
  {
   "cell_type": "code",
   "execution_count": 6,
   "metadata": {},
   "outputs": [],
   "source": [
    "### Split the data\n",
    "def split_dataset(df):\n",
    "\n",
    "    ### Seperate the precition columns from output\n",
    "    \n",
    "    X = df.drop(columns=['status'])\n",
    "    y = df['status']\n",
    "\n",
    "    select = SelectKBest(f_classif, k= N_COLUMNS)\n",
    "    X_new = select.fit_transform(X, y)\n",
    "\n",
    "    split_filter = select.get_support()\n",
    "    features = X.columns\n",
    "\n",
    "    ### Apply splitting\n",
    "    X_train, X_test, y_train, y_test = train_test_split(X_new,y,train_size=SPLIT_RATIO,test_size=1-SPLIT_RATIO)\n",
    "\n",
    "    return X_train,X_test,y_train,y_test, features[split_filter]"
   ]
  },
  {
   "cell_type": "markdown",
   "metadata": {},
   "source": [
    "### Algorithms"
   ]
  },
  {
   "cell_type": "code",
   "execution_count": 7,
   "metadata": {},
   "outputs": [],
   "source": [
    "def get_random_forest():\n",
    "    return RandomForestClassifier(bootstrap = False,\n",
    "                                    max_depth =110,\n",
    "                                    max_features = 2,\n",
    "                                    min_samples_leaf = 3,\n",
    "                                    min_samples_split = 8,\n",
    "                                    n_estimators = 300)"
   ]
  },
  {
   "cell_type": "code",
   "execution_count": 8,
   "metadata": {},
   "outputs": [],
   "source": [
    "def get_logistic_regression():\n",
    "    return LogisticRegression(random_state=10,\n",
    "                                solver='lbfgs',\n",
    "                                max_iter=200)"
   ]
  },
  {
   "cell_type": "code",
   "execution_count": 9,
   "metadata": {},
   "outputs": [],
   "source": [
    "def get_decision_tree():\n",
    "    return DecisionTreeClassifier(criterion='entropy',\n",
    "                                    max_depth=5,\n",
    "                                    max_features=\"sqrt\",\n",
    "                                    min_impurity_split=\"0.1\",\n",
    "                                    min_samples_leaf=4,\n",
    "                                    min_samples_split=8,\n",
    "                                    splitter='random')"
   ]
  },
  {
   "cell_type": "code",
   "execution_count": 10,
   "metadata": {},
   "outputs": [],
   "source": [
    "def get_knn():\n",
    "    return KNeighborsClassifier(algorithm=\"ball_tree\",\n",
    "                                    leaf_size=\"50\",\n",
    "                                    metric=\"chebyshev\",\n",
    "                                    n_neighbors=10,\n",
    "                                    p=10,\n",
    "                                    weights=\"uniform\")"
   ]
  },
  {
   "cell_type": "markdown",
   "metadata": {},
   "source": [
    "### Use *Grid Search Cross Validation* to find the best grid for an algorithm"
   ]
  },
  {
   "cell_type": "code",
   "execution_count": 11,
   "metadata": {},
   "outputs": [],
   "source": [
    "def create_rf():\n",
    "    return  RandomForestClassifier()\n",
    "def create_knn():\n",
    "    return  KNeighborsClassifier()\n",
    "def create_dt():\n",
    "    return  DecisionTreeClassifier()\n",
    "def create_lr():\n",
    "    return  LogisticRegression()"
   ]
  },
  {
   "cell_type": "code",
   "execution_count": 12,
   "metadata": {},
   "outputs": [],
   "source": [
    "### Uses a grid search to generate random parameters to find the best grid model\n",
    "def getBestSearch(algorithm,grid):\n",
    "    train = get_df()\n",
    "\n",
    "    X = train.drop(columns=['status'])\n",
    "    y = train['status']\n",
    "\n",
    "    if algorithm == \"RF\":\n",
    "        alg = build_pipeline(create_rf())\n",
    "    elif algorithm == \"KNN\":\n",
    "        alg = build_pipeline(create_knn())\n",
    "    elif algorithm == \"DT\":\n",
    "        alg = build_pipeline(create_dt())\n",
    "    elif algorithm == \"LR\":\n",
    "        alg = build_pipeline(create_lr())\n",
    "    \n",
    "    grid_search = GridSearchCV(estimator = alg,\n",
    "                               param_grid = grid, \n",
    "                               scoring=metrics.make_scorer(utils.get_auc, greater_is_better=True),\n",
    "                               cv=StratifiedKFold(2,random_state=30,shuffle=True),\n",
    "                               n_jobs = -1,\n",
    "                               verbose = 2)\n",
    "\n",
    "    model = grid_search.fit(X,y)\n",
    "\n",
    "    if DEBUG:\n",
    "        print('Best Score: ', model.best_score_)\n",
    "        print('Best Params: ', model.best_params_)\n",
    "    \n",
    "    return model.best_score_, model.best_params_\n"
   ]
  },
  {
   "cell_type": "markdown",
   "metadata": {},
   "source": [
    "### Build a Pipeline to apply a sampling and a classification algorithm"
   ]
  },
  {
   "cell_type": "code",
   "execution_count": 13,
   "metadata": {},
   "outputs": [],
   "source": [
    "### TODO: Add undersample before final delivery\n",
    "def build_pipeline(algorithm):\n",
    "\n",
    "    if(OVERSMAPLE):\n",
    "        return Pipeline([\n",
    "            ('sampling',SMOTE()),\n",
    "            ('classification',algorithm)\n",
    "        ])\n",
    "    else:\n",
    "        return  Pipeline([\n",
    "            ('classification',algorithm)\n",
    "        ])"
   ]
  },
  {
   "cell_type": "markdown",
   "metadata": {},
   "source": [
    "### Final Stratified Cross Validation"
   ]
  },
  {
   "cell_type": "code",
   "execution_count": 14,
   "metadata": {},
   "outputs": [],
   "source": [
    "def final_CV(algorithm):\n",
    "    train = get_df()\n",
    "    # train = utils.normalization(train,'status')\n",
    "\n",
    "    X = train.drop(columns=['status'])\n",
    "    y = train['status']\n",
    "\n",
    "    select = SelectKBest(f_classif, k=N_COLUMNS)\n",
    "    X_new = select.fit_transform(X, y)\n",
    "\n",
    "    split_filter = select.get_support()\n",
    "    features = X.columns[split_filter]\n",
    "\n",
    "    skf = StratifiedKFold(n_splits=N_SPLITS, random_state=True, shuffle=True)\n",
    "\n",
    "    model_list = []\n",
    "    auc_list = []\n",
    "    \n",
    "    for train_index, test_index in skf.split(X_new, y):\n",
    "\n",
    "        X_train, X_test = X_new[train_index], X_new[test_index]\n",
    "        y_train, y_test = y[train_index], y[test_index]\n",
    "\n",
    "        ### Train the model\n",
    "        pipe = build_pipeline(algorithm())\n",
    "        model = pipe.fit(X_train, y_train)\n",
    "\n",
    "        ### Predict the outcome with the test data\n",
    "        y_pred = model.predict_proba(X_test)\n",
    "        y_final = y_pred.transpose()[0]\n",
    "        \n",
    "        auc = utils.get_auc(y_test, y_final)\n",
    "        auc_list.append(auc)\n",
    "        model_list.append(model)\n",
    "        print(f\"AUC={auc}\")\n",
    "        \n",
    "    ### Get the best model\n",
    "\n",
    "    best_score = max(auc_list)\n",
    "    best_model = model_list[auc_list.index(best_score)]\n",
    "    \n",
    "    \n",
    "    ### Use the best model to get a prediction\n",
    "    test = get_df(test=True)\n",
    "    \n",
    "    X2 = test.drop(columns=['status'])\n",
    "    X2 = X2[features]\n",
    "\n",
    "    y_predicted = best_model.predict_proba(X2)\n",
    "    y_final = y_predicted.transpose()[0]\n",
    "    \n",
    "    final_df = pd.DataFrame()\n",
    "    final_df['Id'] = test[\"loan_id\"]\n",
    "    final_df['Predicted'] = y_final\n",
    "    \n",
    "    \n",
    "    if DEBUG:\n",
    "        print(f\"Predictions:\\n {final_df}\")\n",
    "    \n",
    "    if WRITE:\n",
    "        final_df.to_csv('../csvs/results/final.csv', index=False)\n",
    "        print(\"Sucessfully stored the predictions in a file named 'final.csv'\")\n",
    "\n",
    "    ### TODO: display statistics?\n",
    "    avg = sum(auc_list)/len(auc_list)\n",
    "    print(f\"Average AUC = {avg}\")\n"
   ]
  },
  {
   "cell_type": "markdown",
   "metadata": {},
   "source": [
    "### Running an algorithm"
   ]
  },
  {
   "cell_type": "code",
   "execution_count": 15,
   "metadata": {},
   "outputs": [],
   "source": [
    "def training_algorithm(algorithm):\n",
    "    ### Getting the dataset\n",
    "    train = get_df(test=False)\n",
    "    ### Getting a Model from training\n",
    "    \n",
    "    X_train,X_test,y_train,y_test, features = split_dataset(train)\n",
    "\n",
    "    \n",
    "    pipe = build_pipeline(algorithm())\n",
    "    model = pipe.fit(X_train,y_train)\n",
    "\n",
    "    y_predicted = model.predict_proba(X_test)\n",
    "\n",
    "    y_final = y_predicted.transpose()[0]\n",
    "\n",
    "    if DEBUG:\n",
    "        score = model.score(X_test,y_test)\n",
    "        auc = utils.get_auc(y_test,y_final,label=-1)\n",
    "        # plot_auc(y_test,y_final)\n",
    "        # conf_matrix(model,y_test,y_final)\n",
    "        print(f\"Score: {score}\")\n",
    "        print(f\"Auc: {auc}\")\n",
    "    \n",
    "    return model, features"
   ]
  },
  {
   "cell_type": "code",
   "execution_count": 16,
   "metadata": {},
   "outputs": [],
   "source": [
    "def testing_model(model,features):\n",
    "\n",
    "    test = get_df(test=True)\n",
    "\n",
    "    X = test.drop(columns=['status'])\n",
    "    X = X[features]\n",
    "\n",
    "    print(X.columns)\n",
    "\n",
    "    y_predicted = model.predict_proba(X)\n",
    "    y_final = y_predicted.transpose()[0]\n",
    "    \n",
    "    final_df = pd.DataFrame()\n",
    "    final_df['Id'] = test[\"loan_id\"]\n",
    "    final_df['Predicted'] = y_final\n",
    "\n",
    "    if DEBUG:\n",
    "        print(f\"Predictions:\\n {final_df}\")\n",
    "        \n",
    "    \n",
    "    if WRITE:\n",
    "        final_df.to_csv('../csvs/results/testing_model.csv', index=False)\n",
    "        print(\"Sucessfully stored the predictions in a file named 'testing_model.csv'\")"
   ]
  },
  {
   "cell_type": "code",
   "execution_count": 17,
   "metadata": {},
   "outputs": [],
   "source": [
    "def run_algorithm(algorithm):\n",
    "    \n",
    "    if(DEBUG):\n",
    "        print(\"Running the provided algorithm\")\n",
    "    \n",
    "    model, features = training_algorithm(algorithm)\n",
    "    testing_model(model,features)"
   ]
  },
  {
   "cell_type": "markdown",
   "metadata": {},
   "source": [
    "## Running the algorithms"
   ]
  },
  {
   "cell_type": "markdown",
   "metadata": {},
   "source": [
    "### Choose your algorithm:"
   ]
  },
  {
   "cell_type": "code",
   "execution_count": 18,
   "metadata": {},
   "outputs": [],
   "source": [
    "### Leave the one you want to run uncommented\n",
    "# algorithm = get_random_forest\n",
    "# algorithm = get_logistic_regression\n",
    "# algorithm = get_decision_tree\n",
    "algorithm = get_knn"
   ]
  },
  {
   "cell_type": "markdown",
   "metadata": {},
   "source": [
    "### Run with train_test_split"
   ]
  },
  {
   "cell_type": "code",
   "execution_count": 19,
   "metadata": {},
   "outputs": [
    {
     "name": "stdout",
     "output_type": "stream",
     "text": [
      "Running the provided algorithm\n"
     ]
    },
    {
     "ename": "TypeError",
     "evalue": "'<' not supported between instances of 'str' and 'int'",
     "output_type": "error",
     "traceback": [
      "\u001b[1;31m---------------------------------------------------------------------------\u001b[0m",
      "\u001b[1;31mTypeError\u001b[0m                                 Traceback (most recent call last)",
      "\u001b[1;32m<ipython-input-19-03cec461c0e1>\u001b[0m in \u001b[0;36m<module>\u001b[1;34m\u001b[0m\n\u001b[1;32m----> 1\u001b[1;33m \u001b[0mrun_algorithm\u001b[0m\u001b[1;33m(\u001b[0m\u001b[0malgorithm\u001b[0m\u001b[1;33m)\u001b[0m\u001b[1;33m\u001b[0m\u001b[1;33m\u001b[0m\u001b[0m\n\u001b[0m",
      "\u001b[1;32m<ipython-input-17-7c569be6b5a0>\u001b[0m in \u001b[0;36mrun_algorithm\u001b[1;34m(algorithm)\u001b[0m\n\u001b[0;32m      4\u001b[0m         \u001b[0mprint\u001b[0m\u001b[1;33m(\u001b[0m\u001b[1;34m\"Running the provided algorithm\"\u001b[0m\u001b[1;33m)\u001b[0m\u001b[1;33m\u001b[0m\u001b[1;33m\u001b[0m\u001b[0m\n\u001b[0;32m      5\u001b[0m \u001b[1;33m\u001b[0m\u001b[0m\n\u001b[1;32m----> 6\u001b[1;33m     \u001b[0mmodel\u001b[0m\u001b[1;33m,\u001b[0m \u001b[0mfeatures\u001b[0m \u001b[1;33m=\u001b[0m \u001b[0mtraining_algorithm\u001b[0m\u001b[1;33m(\u001b[0m\u001b[0malgorithm\u001b[0m\u001b[1;33m)\u001b[0m\u001b[1;33m\u001b[0m\u001b[1;33m\u001b[0m\u001b[0m\n\u001b[0m\u001b[0;32m      7\u001b[0m     \u001b[0mtesting_model\u001b[0m\u001b[1;33m(\u001b[0m\u001b[0mmodel\u001b[0m\u001b[1;33m,\u001b[0m\u001b[0mfeatures\u001b[0m\u001b[1;33m)\u001b[0m\u001b[1;33m\u001b[0m\u001b[1;33m\u001b[0m\u001b[0m\n",
      "\u001b[1;32m<ipython-input-15-85b931a4601d>\u001b[0m in \u001b[0;36mtraining_algorithm\u001b[1;34m(algorithm)\u001b[0m\n\u001b[0;32m      8\u001b[0m \u001b[1;33m\u001b[0m\u001b[0m\n\u001b[0;32m      9\u001b[0m     \u001b[0mpipe\u001b[0m \u001b[1;33m=\u001b[0m \u001b[0mbuild_pipeline\u001b[0m\u001b[1;33m(\u001b[0m\u001b[0malgorithm\u001b[0m\u001b[1;33m(\u001b[0m\u001b[1;33m)\u001b[0m\u001b[1;33m)\u001b[0m\u001b[1;33m\u001b[0m\u001b[1;33m\u001b[0m\u001b[0m\n\u001b[1;32m---> 10\u001b[1;33m     \u001b[0mmodel\u001b[0m \u001b[1;33m=\u001b[0m \u001b[0mpipe\u001b[0m\u001b[1;33m.\u001b[0m\u001b[0mfit\u001b[0m\u001b[1;33m(\u001b[0m\u001b[0mX_train\u001b[0m\u001b[1;33m,\u001b[0m\u001b[0my_train\u001b[0m\u001b[1;33m)\u001b[0m\u001b[1;33m\u001b[0m\u001b[1;33m\u001b[0m\u001b[0m\n\u001b[0m\u001b[0;32m     11\u001b[0m \u001b[1;33m\u001b[0m\u001b[0m\n\u001b[0;32m     12\u001b[0m     \u001b[0my_predicted\u001b[0m \u001b[1;33m=\u001b[0m \u001b[0mmodel\u001b[0m\u001b[1;33m.\u001b[0m\u001b[0mpredict_proba\u001b[0m\u001b[1;33m(\u001b[0m\u001b[0mX_test\u001b[0m\u001b[1;33m)\u001b[0m\u001b[1;33m\u001b[0m\u001b[1;33m\u001b[0m\u001b[0m\n",
      "\u001b[1;32mD:\\outros\\Anaconda\\lib\\site-packages\\imblearn\\pipeline.py\u001b[0m in \u001b[0;36mfit\u001b[1;34m(self, X, y, **fit_params)\u001b[0m\n\u001b[0;32m    264\u001b[0m             \u001b[1;32mif\u001b[0m \u001b[0mself\u001b[0m\u001b[1;33m.\u001b[0m\u001b[0m_final_estimator\u001b[0m \u001b[1;33m!=\u001b[0m \u001b[1;34m\"passthrough\"\u001b[0m\u001b[1;33m:\u001b[0m\u001b[1;33m\u001b[0m\u001b[1;33m\u001b[0m\u001b[0m\n\u001b[0;32m    265\u001b[0m                 \u001b[0mfit_params_last_step\u001b[0m \u001b[1;33m=\u001b[0m \u001b[0mfit_params_steps\u001b[0m\u001b[1;33m[\u001b[0m\u001b[0mself\u001b[0m\u001b[1;33m.\u001b[0m\u001b[0msteps\u001b[0m\u001b[1;33m[\u001b[0m\u001b[1;33m-\u001b[0m\u001b[1;36m1\u001b[0m\u001b[1;33m]\u001b[0m\u001b[1;33m[\u001b[0m\u001b[1;36m0\u001b[0m\u001b[1;33m]\u001b[0m\u001b[1;33m]\u001b[0m\u001b[1;33m\u001b[0m\u001b[1;33m\u001b[0m\u001b[0m\n\u001b[1;32m--> 266\u001b[1;33m                 \u001b[0mself\u001b[0m\u001b[1;33m.\u001b[0m\u001b[0m_final_estimator\u001b[0m\u001b[1;33m.\u001b[0m\u001b[0mfit\u001b[0m\u001b[1;33m(\u001b[0m\u001b[0mXt\u001b[0m\u001b[1;33m,\u001b[0m \u001b[0myt\u001b[0m\u001b[1;33m,\u001b[0m \u001b[1;33m**\u001b[0m\u001b[0mfit_params_last_step\u001b[0m\u001b[1;33m)\u001b[0m\u001b[1;33m\u001b[0m\u001b[1;33m\u001b[0m\u001b[0m\n\u001b[0m\u001b[0;32m    267\u001b[0m         \u001b[1;32mreturn\u001b[0m \u001b[0mself\u001b[0m\u001b[1;33m\u001b[0m\u001b[1;33m\u001b[0m\u001b[0m\n\u001b[0;32m    268\u001b[0m \u001b[1;33m\u001b[0m\u001b[0m\n",
      "\u001b[1;32mD:\\outros\\Anaconda\\lib\\site-packages\\sklearn\\neighbors\\_classification.py\u001b[0m in \u001b[0;36mfit\u001b[1;34m(self, X, y)\u001b[0m\n\u001b[0;32m    177\u001b[0m             \u001b[0mThe\u001b[0m \u001b[0mfitted\u001b[0m \u001b[0mk\u001b[0m\u001b[1;33m-\u001b[0m\u001b[0mnearest\u001b[0m \u001b[0mneighbors\u001b[0m \u001b[0mclassifier\u001b[0m\u001b[1;33m.\u001b[0m\u001b[1;33m\u001b[0m\u001b[1;33m\u001b[0m\u001b[0m\n\u001b[0;32m    178\u001b[0m         \"\"\"\n\u001b[1;32m--> 179\u001b[1;33m         \u001b[1;32mreturn\u001b[0m \u001b[0mself\u001b[0m\u001b[1;33m.\u001b[0m\u001b[0m_fit\u001b[0m\u001b[1;33m(\u001b[0m\u001b[0mX\u001b[0m\u001b[1;33m,\u001b[0m \u001b[0my\u001b[0m\u001b[1;33m)\u001b[0m\u001b[1;33m\u001b[0m\u001b[1;33m\u001b[0m\u001b[0m\n\u001b[0m\u001b[0;32m    180\u001b[0m \u001b[1;33m\u001b[0m\u001b[0m\n\u001b[0;32m    181\u001b[0m     \u001b[1;32mdef\u001b[0m \u001b[0mpredict\u001b[0m\u001b[1;33m(\u001b[0m\u001b[0mself\u001b[0m\u001b[1;33m,\u001b[0m \u001b[0mX\u001b[0m\u001b[1;33m)\u001b[0m\u001b[1;33m:\u001b[0m\u001b[1;33m\u001b[0m\u001b[1;33m\u001b[0m\u001b[0m\n",
      "\u001b[1;32mD:\\outros\\Anaconda\\lib\\site-packages\\sklearn\\neighbors\\_base.py\u001b[0m in \u001b[0;36m_fit\u001b[1;34m(self, X, y)\u001b[0m\n\u001b[0;32m    497\u001b[0m \u001b[1;33m\u001b[0m\u001b[0m\n\u001b[0;32m    498\u001b[0m         \u001b[1;32mif\u001b[0m \u001b[0mself\u001b[0m\u001b[1;33m.\u001b[0m\u001b[0m_fit_method\u001b[0m \u001b[1;33m==\u001b[0m \u001b[1;34m'ball_tree'\u001b[0m\u001b[1;33m:\u001b[0m\u001b[1;33m\u001b[0m\u001b[1;33m\u001b[0m\u001b[0m\n\u001b[1;32m--> 499\u001b[1;33m             self._tree = BallTree(X, self.leaf_size,\n\u001b[0m\u001b[0;32m    500\u001b[0m                                   \u001b[0mmetric\u001b[0m\u001b[1;33m=\u001b[0m\u001b[0mself\u001b[0m\u001b[1;33m.\u001b[0m\u001b[0meffective_metric_\u001b[0m\u001b[1;33m,\u001b[0m\u001b[1;33m\u001b[0m\u001b[1;33m\u001b[0m\u001b[0m\n\u001b[0;32m    501\u001b[0m                                   **self.effective_metric_params_)\n",
      "\u001b[1;32msklearn\\neighbors\\_binary_tree.pxi\u001b[0m in \u001b[0;36msklearn.neighbors._ball_tree.BinaryTree.__init__\u001b[1;34m()\u001b[0m\n",
      "\u001b[1;31mTypeError\u001b[0m: '<' not supported between instances of 'str' and 'int'"
     ]
    }
   ],
   "source": [
    "run_algorithm(algorithm)"
   ]
  },
  {
   "cell_type": "markdown",
   "metadata": {},
   "source": [
    "### Run with StratifiedKFold"
   ]
  },
  {
   "cell_type": "code",
   "execution_count": 80,
   "metadata": {},
   "outputs": [
    {
     "name": "stdout",
     "output_type": "stream",
     "text": [
      "AUC=0.6389627659574468\n",
      "AUC=0.7042553191489362\n",
      "AUC=0.6748226950354611\n",
      "Predictions:\n",
      "        Id  Predicted\n",
      "0    5895        0.0\n",
      "1    7122        1.0\n",
      "2    6173        0.0\n",
      "3    6142        0.0\n",
      "4    5358        0.0\n",
      "..    ...        ...\n",
      "349  4989        0.0\n",
      "350  5221        0.0\n",
      "351  6402        0.0\n",
      "352  5346        1.0\n",
      "353  6748        0.0\n",
      "\n",
      "[354 rows x 2 columns]\n",
      "Sucessfully stored the predictions in a file named 'final.csv'\n",
      "Average AUC = 0.6726802600472813\n"
     ]
    }
   ],
   "source": [
    "final_CV(algorithm)"
   ]
  },
  {
   "cell_type": "markdown",
   "metadata": {},
   "source": [
    "### Finding the best grid"
   ]
  },
  {
   "cell_type": "markdown",
   "metadata": {},
   "source": [
    "#### Decision Tree"
   ]
  },
  {
   "cell_type": "code",
   "execution_count": 66,
   "metadata": {},
   "outputs": [
    {
     "name": "stdout",
     "output_type": "stream",
     "text": [
      "Fitting 2 folds for each of 7680 candidates, totalling 15360 fits\n",
      "Best Score:  0.6180234350909651\n",
      "Best Params:  {'classification__class_weight': None, 'classification__criterion': 'entropy', 'classification__max_depth': 5, 'classification__max_features': 'sqrt', 'classification__min_impurity_split': 0.1, 'classification__min_samples_leaf': 4, 'classification__min_samples_split': 8, 'classification__splitter': 'random'}\n"
     ]
    },
    {
     "name": "stderr",
     "output_type": "stream",
     "text": [
      "D:\\outros\\Anaconda\\lib\\site-packages\\sklearn\\tree\\_classes.py:315: FutureWarning: The min_impurity_split parameter is deprecated. Its default value has changed from 1e-7 to 0 in version 0.23, and it will be removed in 1.0 (renaming of 0.25). Use the min_impurity_decrease parameter instead.\n",
      "  warnings.warn(\n"
     ]
    },
    {
     "data": {
      "text/plain": [
       "(0.6180234350909651,\n",
       " {'classification__class_weight': None,\n",
       "  'classification__criterion': 'entropy',\n",
       "  'classification__max_depth': 5,\n",
       "  'classification__max_features': 'sqrt',\n",
       "  'classification__min_impurity_split': 0.1,\n",
       "  'classification__min_samples_leaf': 4,\n",
       "  'classification__min_samples_split': 8,\n",
       "  'classification__splitter': 'random'})"
      ]
     },
     "execution_count": 66,
     "metadata": {},
     "output_type": "execute_result"
    }
   ],
   "source": [
    "param_grid = {\n",
    "    'classification__criterion':['gini', 'entropy'],\n",
    "    'classification__splitter': [\"best\", \"random\"],\n",
    "    'classification__max_depth': [5, 10, 20, 30, 40],\n",
    "    'classification__min_samples_split': [2, 4, 6, 8],\n",
    "    'classification__min_samples_leaf': [1, 2, 4, 6],\n",
    "    'classification__max_features': [\"auto\", \"sqrt\", \"log2\"],\n",
    "    'classification__min_impurity_split': [0.05, 0.1, 0.2, 0.3],\n",
    "    'classification__class_weight': [\"balanced\", None]\n",
    "}\n",
    "\n",
    "getBestSearch(\"DT\",param_grid)"
   ]
  },
  {
   "cell_type": "markdown",
   "metadata": {},
   "source": [
    "#### Random Forest"
   ]
  },
  {
   "cell_type": "code",
   "execution_count": 67,
   "metadata": {},
   "outputs": [
    {
     "name": "stdout",
     "output_type": "stream",
     "text": [
      "Fitting 2 folds for each of 288 candidates, totalling 576 fits\n",
      "Best Score:  0.5121800801726797\n",
      "Best Params:  {'classification__max_depth': 110, 'classification__max_features': 2, 'classification__min_samples_leaf': 3, 'classification__min_samples_split': 8, 'classification__n_estimators': 300}\n"
     ]
    },
    {
     "data": {
      "text/plain": [
       "(0.5121800801726797,\n",
       " {'classification__max_depth': 110,\n",
       "  'classification__max_features': 2,\n",
       "  'classification__min_samples_leaf': 3,\n",
       "  'classification__min_samples_split': 8,\n",
       "  'classification__n_estimators': 300})"
      ]
     },
     "execution_count": 67,
     "metadata": {},
     "output_type": "execute_result"
    }
   ],
   "source": [
    "param_grid = {\n",
    "    'classification__max_depth': [80, 90, 100, 110],\n",
    "    'classification__max_features': [2, 3],\n",
    "    'classification__min_samples_leaf': [3, 4, 5],\n",
    "    'classification__min_samples_split': [8, 10, 12],\n",
    "    'classification__n_estimators': [100, 200, 300, 1000]\n",
    "}\n",
    "\n",
    "getBestSearch(\"RF\",param_grid)"
   ]
  },
  {
   "cell_type": "markdown",
   "metadata": {},
   "source": [
    "#### Logistic Regression"
   ]
  },
  {
   "cell_type": "code",
   "execution_count": 69,
   "metadata": {},
   "outputs": [
    {
     "name": "stdout",
     "output_type": "stream",
     "text": [
      "Fitting 2 folds for each of 1 candidates, totalling 2 fits\n",
      "Best Score:  0.37765957446808507\n",
      "Best Params:  {}\n"
     ]
    },
    {
     "name": "stderr",
     "output_type": "stream",
     "text": [
      "D:\\outros\\Anaconda\\lib\\site-packages\\sklearn\\linear_model\\_logistic.py:763: ConvergenceWarning: lbfgs failed to converge (status=1):\n",
      "STOP: TOTAL NO. of ITERATIONS REACHED LIMIT.\n",
      "\n",
      "Increase the number of iterations (max_iter) or scale the data as shown in:\n",
      "    https://scikit-learn.org/stable/modules/preprocessing.html\n",
      "Please also refer to the documentation for alternative solver options:\n",
      "    https://scikit-learn.org/stable/modules/linear_model.html#logistic-regression\n",
      "  n_iter_i = _check_optimize_result(\n"
     ]
    },
    {
     "data": {
      "text/plain": [
       "(0.37765957446808507, {})"
      ]
     },
     "execution_count": 69,
     "metadata": {},
     "output_type": "execute_result"
    }
   ],
   "source": [
    "param_grid = {}\n",
    " \n",
    "getBestSearch(\"LR\",param_grid)"
   ]
  },
  {
   "cell_type": "markdown",
   "metadata": {},
   "source": [
    "#### K-Nearest Neighbours"
   ]
  },
  {
   "cell_type": "code",
   "execution_count": 82,
   "metadata": {},
   "outputs": [
    {
     "name": "stdout",
     "output_type": "stream",
     "text": [
      "Fitting 2 folds for each of 23040 candidates, totalling 46080 fits\n"
     ]
    }
   ],
   "source": [
    "param_grid = {\n",
    "    'classification__n_neighbors': [2, 3, 4, 5, 8, 10],\n",
    "    'classification__algorithm': ['auto', 'ball_tree', 'kd_tree', 'brute'],\n",
    "    'classification__weights': ['uniform', 'distance'],\n",
    "    'classification__metric': ['euclidean', 'manhattan', 'chebyshev', 'minkowski', 'wminkowski', 'seuclidean', 'mahalanobis', 'haversine', 'hamming', 'canberra', 'braycurtis', 'cityblock', 'infinity', 'l1', 'l2', 'p'],\n",
    "    'classification__leaf_size': [10, 20, 30, 50, 80, 150],\n",
    "    'classification__p': [1, 2, 3, 5, 10]\n",
    "}\n",
    "\n",
    "getBestSearch(\"KNN\",param_grid)"
   ]
  },
  {
   "cell_type": "code",
   "execution_count": null,
   "metadata": {},
   "outputs": [],
   "source": [
    "def plot_auc(y_test,y_predicted):\n",
    "    \n",
    "    fpr, tpr, _ = metrics.roc_curve(y_test, y_predicted,pos_label=-1)\n",
    "    roc_auc = metrics.auc(fpr, tpr)\n",
    "    \n",
    "    plt.title('Receiver Operating Characteristic')\n",
    "    plt.plot(fpr, tpr, 'b', label = 'AUC = %0.2f' % roc_auc)\n",
    "    plt.fill_between(fpr,tpr,color=\"lightskyblue\")\n",
    "    plt.legend(loc = 'lower right')\n",
    "    plt.plot([0, 1], [0, 1],'w--')\n",
    "    plt.xlim([0, 1])\n",
    "    plt.ylim([0, 1.01])\n",
    "    plt.ylabel('True Positive Rate')\n",
    "    plt.xlabel('False Positive Rate')\n",
    "    plt.show()"
   ]
  },
  {
   "cell_type": "markdown",
   "metadata": {},
   "source": [
    "### Clustering"
   ]
  },
  {
   "cell_type": "code",
   "execution_count": null,
   "metadata": {},
   "outputs": [
    {
     "name": "stdout",
     "output_type": "stream",
     "text": [
      "KMeans(n_clusters=3)\n"
     ]
    }
   ],
   "source": [
    "con = sqlite3.connect(\"../database/banking_data\")\n",
    "\n",
    "train = pd.read_sql_query(\"SELECT * FROM loan_united_train\", con)\n",
    "\n",
    "con.close()\n",
    "\n",
    "df = utils.normalize_category(train)\n",
    "# df = utils.normalization(df,'status')\n",
    "\n",
    "X = df.drop(columns=['status'])\n",
    "\n",
    "kmeans_model = KMeans(n_clusters=3).fit(X)\n",
    "# labels = kmeans_model.labels_\n",
    "# metrics.silhouette_score(X, labels, metric='euclidean')\n",
    "\n",
    "pprint(kmeans_model)    \n"
   ]
  },
  {
   "cell_type": "code",
   "execution_count": null,
   "metadata": {},
   "outputs": [
    {
     "data": {
      "text/plain": [
       "Index(['index', 'loan_id', 'loan_amount', 'loan_duration', 'payments',\n",
       "       'status', 'no. of inhabitants',\n",
       "       'account_district no. of municipalities with inhabitants < 499',\n",
       "       'account_district no. of municipalities with inhabitants 500-1999',\n",
       "       'account_district no. of municipalities with inhabitants 2000-9999',\n",
       "       'account_district no. of municipalities with inhabitants >10000',\n",
       "       'account_district no. of cities',\n",
       "       'account_district ratio of urban inhabitants',\n",
       "       'account_district average salary',\n",
       "       'account_district unemploymant rate '95',\n",
       "       'account_district unemploymant rate '96',\n",
       "       'account_district unemploymant_growth',\n",
       "       'account_district no. of enterpreneurs per 1000 inhabitants',\n",
       "       'account_district no. of commited crimes '95',\n",
       "       'account_district no. of commited crimes '96',\n",
       "       'account_district crime_growth', 'account_district total_crime', 'code',\n",
       "       'client_district no. of inhabitants',\n",
       "       'client_district no. of municipalities with inhabitants < 499',\n",
       "       'client_district no. of municipalities with inhabitants 500-1999',\n",
       "       'client_district no. of municipalities with inhabitants 2000-9999',\n",
       "       'client_district no. of municipalities with inhabitants >10000',\n",
       "       'client_district no. of cities',\n",
       "       'client_district ratio of urban inhabitants',\n",
       "       'client_district average salary',\n",
       "       'client_district unemploymant rate '95',\n",
       "       'client_district unemploymant rate '96',\n",
       "       'client_district unemploymant_growth',\n",
       "       'client_district no. of enterpreneurs per 1000 inhabitants',\n",
       "       'client_district no. of commited crimes '95',\n",
       "       'client_district no. of commited crimes '96',\n",
       "       'client_district crime_growth', 'client_district total_crime',\n",
       "       'card_issued', 'no. movements', 'min no. trans', 'max no. trans',\n",
       "       'avg no. trans', 'min balance', 'max balance', 'avg balance',\n",
       "       'age_on_loan', 'issuance after transaction', 'monthly issuance',\n",
       "       'weekly issuance', 'female', 'male', 'None', 'classic', 'gold',\n",
       "       'junior'],\n",
       "      dtype='object')"
      ]
     },
     "execution_count": 193,
     "metadata": {},
     "output_type": "execute_result"
    }
   ],
   "source": [
    "get_df().columns"
   ]
  }
 ],
 "metadata": {
  "interpreter": {
   "hash": "7c5c685faadbcbae1551fd6d5683e133251e0ca8e77eadbbc8e83131f99b1b14"
  },
  "kernelspec": {
   "display_name": "Python 3.7.0 64-bit ('base': conda)",
   "language": "python",
   "name": "python3"
  },
  "language_info": {
   "codemirror_mode": {
    "name": "ipython",
    "version": 3
   },
   "file_extension": ".py",
   "mimetype": "text/x-python",
   "name": "python",
   "nbconvert_exporter": "python",
   "pygments_lexer": "ipython3",
   "version": "3.8.8"
  },
  "orig_nbformat": 4
 },
 "nbformat": 4,
 "nbformat_minor": 2
}
