{
 "cells": [
  {
   "cell_type": "markdown",
   "metadata": {},
   "source": [
    "### Imports"
   ]
  },
  {
   "cell_type": "code",
   "execution_count": 315,
   "metadata": {},
   "outputs": [
    {
     "name": "stdout",
     "output_type": "stream",
     "text": [
      "The autoreload extension is already loaded. To reload it, use:\n",
      "  %reload_ext autoreload\n"
     ]
    },
    {
     "data": {
      "text/plain": [
       "<module 'utils' from 'c:\\\\Users\\\\utilizador\\\\Desktop\\\\ac-feup\\\\jupyters\\\\utils.py'>"
      ]
     },
     "execution_count": 315,
     "metadata": {},
     "output_type": "execute_result"
    }
   ],
   "source": [
    "### imported Libraries\n",
    "import pandas as pd\n",
    "import importlib\n",
    "import sqlite3\n",
    "import datetime\n",
    "\n",
    "from matplotlib import pyplot as plt\n",
    "from pprint import pprint\n",
    "from mpl_toolkits.mplot3d import Axes3D\n",
    "from mpl_toolkits import mplot3d\n",
    "\n",
    "### Sklearn imported libraries\n",
    "from sklearn.cluster import KMeans\n",
    "from sklearn.preprocessing import MinMaxScaler\n",
    "\n",
    "### Imported Scripts\n",
    "import utils\n",
    "\n",
    "%load_ext autoreload\n",
    "%autoreload 2\n",
    "\n",
    "importlib.reload(utils)"
   ]
  },
  {
   "cell_type": "markdown",
   "metadata": {},
   "source": [
    "### Get Dataframe"
   ]
  },
  {
   "cell_type": "code",
   "execution_count": 316,
   "metadata": {},
   "outputs": [],
   "source": [
    "### Full train dataset\n",
    "con = sqlite3.connect(\"../database/banking_data\")\n",
    "train = pd.read_sql_query(\"SELECT * FROM loan_united_train\", con)\n",
    "\n",
    "\n",
    "### Subdataset for clustered columns (select either 2 ou 3 columns)\n",
    "# cols = [\"avg no. trans\",\"avg balance\",\"loan_amount\"]\n",
    "cols = [\"avg balance\",\"loan_amount\"]\n",
    "\n",
    "df = pd.DataFrame()\n",
    "df = train[cols]\n",
    "\n",
    "### Apply Scaler to the columns \n",
    "scaler = MinMaxScaler()\n",
    "transf = scaler.fit_transform(df)\n",
    "df = pd.DataFrame(transf,index=df.index,columns=df.columns)"
   ]
  },
  {
   "cell_type": "markdown",
   "metadata": {},
   "source": [
    "### Elbow Technique"
   ]
  },
  {
   "cell_type": "code",
   "execution_count": 317,
   "metadata": {},
   "outputs": [
    {
     "name": "stderr",
     "output_type": "stream",
     "text": [
      "C:\\Users\\utilizador\\Anaconda3\\lib\\site-packages\\sklearn\\cluster\\_kmeans.py:1040: UserWarning: KMeans is known to have a memory leak on Windows with MKL, when there are less chunks than available threads. You can avoid it by setting the environment variable OMP_NUM_THREADS=2.\n",
      "  \"KMeans is known to have a memory leak on Windows \"\n"
     ]
    },
    {
     "data": {
      "text/plain": [
       "[<matplotlib.lines.Line2D at 0x1e1e7e6d588>]"
      ]
     },
     "execution_count": 317,
     "metadata": {},
     "output_type": "execute_result"
    },
    {
     "data": {
      "image/png": "[encoded data removed]",
      "text/plain": [
       "<Figure size 432x288 with 1 Axes>"
      ]
     },
     "metadata": {
      "needs_background": "light"
     },
     "output_type": "display_data"
    }
   ],
   "source": [
    "### Using Elbow method to find the amount of clusters to use\n",
    "\n",
    "### Calculating the sum of squared error\n",
    "k_range = range(1,10)\n",
    "sse = []\n",
    "for i in k_range:\n",
    "    km = KMeans(n_clusters=i)\n",
    "    km.fit(df)\n",
    "    sse.append(km.inertia_)\n",
    "\n",
    "### PLotting a graph to find the K value to be used\n",
    "plt.xlabel('K')\n",
    "plt.ylabel('Sum of Squared Error')\n",
    "plt.plot(k_range,sse)\n",
    "\n",
    "### The K value should be the one where the line slope changes the most (in this case it is 2) "
   ]
  },
  {
   "cell_type": "markdown",
   "metadata": {},
   "source": [
    "### Create a column with k clusters"
   ]
  },
  {
   "cell_type": "code",
   "execution_count": 318,
   "metadata": {},
   "outputs": [],
   "source": [
    "### Applly the Kmeans clustering algorithm\n",
    "kmeans = KMeans(n_clusters=3)\n",
    "y = kmeans.fit_predict(df)\n",
    "\n",
    "### Creating a final dataframe with the cluster column\n",
    "final_df = df.copy()\n",
    "final_df[\"cluster\"] = y"
   ]
  },
  {
   "cell_type": "markdown",
   "metadata": {},
   "source": [
    "### Scatter plot to display the clustered data"
   ]
  },
  {
   "cell_type": "code",
   "execution_count": 319,
   "metadata": {},
   "outputs": [
    {
     "data": {
      "image/png": "[encoded data removed]",
      "text/plain": [
       "<Figure size 432x288 with 1 Axes>"
      ]
     },
     "metadata": {
      "needs_background": "light"
     },
     "output_type": "display_data"
    }
   ],
   "source": [
    "colors = [\"r\",\"g\",\"b\",\"y\"]\n",
    "\n",
    "if(len(cols) == 3):\n",
    "\n",
    "    ax = plt.axes(projection='3d')\n",
    "\n",
    "    for i in range(3):\n",
    "        x = final_df[final_df[\"cluster\"] == i][final_df.columns[0]]\n",
    "        y = final_df[final_df[\"cluster\"] == i][final_df.columns[1]]\n",
    "        z = final_df[final_df[\"cluster\"] == i][final_df.columns[2]]\n",
    "\n",
    "        ax.scatter3D(x, y, z, marker=\"o\", c=colors[i]);\n",
    "        ax.scatter3D(kmeans.cluster_centers_[:,0],kmeans.cluster_centers_[:,1],kmeans.cluster_centers_[:,2],color=\"Purple\", marker=\"D\",label=\"centroid\")\n",
    "\n",
    "    ax.set_xlabel(final_df.columns[0])\n",
    "    ax.set_ylabel(final_df.columns[1])\n",
    "    ax.set_zlabel(final_df.columns[2])\n",
    "\n",
    "    \n",
    "elif(len(cols) == 2):\n",
    "    for i in range(3):\n",
    "        x = final_df[final_df[\"cluster\"] == i][final_df.columns[0]]\n",
    "        y = final_df[final_df[\"cluster\"] == i][final_df.columns[1]]\n",
    "        z = final_df[final_df[\"cluster\"] == i][final_df.columns[2]]\n",
    "\n",
    "        plt.scatter(x, y, marker=\"o\", c=colors[i])\n",
    "        plt.scatter(kmeans.cluster_centers_[:,0],kmeans.cluster_centers_[:,1],color=\"Purple\", marker=\"D\",label=\"centroid\")\n",
    "\n",
    "    plt.xlabel(final_df.columns[0])\n",
    "    plt.ylabel(final_df.columns[1])\n",
    "\n",
    "\n",
    "plt.show()\n",
    "\n"
   ]
  }
 ],
 "metadata": {
  "interpreter": {
   "hash": "7c5c685faadbcbae1551fd6d5683e133251e0ca8e77eadbbc8e83131f99b1b14"
  },
  "kernelspec": {
   "display_name": "Python 3.7.0 64-bit ('base': conda)",
   "language": "python",
   "name": "python3"
  },
  "language_info": {
   "codemirror_mode": {
    "name": "ipython",
    "version": 3
   },
   "file_extension": ".py",
   "mimetype": "text/x-python",
   "name": "python",
   "nbconvert_exporter": "python",
   "pygments_lexer": "ipython3",
   "version": "3.7.0"
  },
  "orig_nbformat": 4
 },
 "nbformat": 4,
 "nbformat_minor": 2
}
