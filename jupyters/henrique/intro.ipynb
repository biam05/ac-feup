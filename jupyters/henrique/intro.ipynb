{
 "cells": [
  {
   "cell_type": "markdown",
   "metadata": {},
   "source": [
    "# Data Mining Project: \"To loan or not to loan\"\n",
    "\n",
    "This notebook's book is to analayze data for the Data Mining Project\n",
    "\n",
    "## Business Understanding\n",
    "\n",
    "### Definition of business goals (Add information after reaching conclusions during the project)\n",
    "\n",
    "This project's goal is to improve the bank services by using the stored data about the customers to improve the bank's understanding of them\n",
    "\n",
    "This is going to be done through a Data Mining project which contains 2 problems:\n",
    "\n",
    "- The predictive problem, whose goal is to predict whether a loan given to a client will end successfully\n",
    "- The descriptive problem, which is related to the data analysis, and consists of the process of observing and interpreting the data in order to find the relevance of each data component for the predictive model and the correlation between attributes\n",
    "\n",
    "### Translation of business goals into data mining goals\n",
    "\n",
    "- Data preparation, by analyzing the provided data and its quality. We can study the data quality by analyzing their outliers, missing, duplicate and inconsistent values, and decide how to deal with them\n",
    "- Data understanding, by applying a statistical analysis to the data and plotting the appropriate graphs"
   ]
  }
 ],
 "metadata": {
  "language_info": {
   "name": "python"
  },
  "orig_nbformat": 4
 },
 "nbformat": 4,
 "nbformat_minor": 2
}
