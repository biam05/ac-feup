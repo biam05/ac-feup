{
 "cells": [
  {
   "cell_type": "markdown",
   "metadata": {},
   "source": [
    "### Imported libraries and Scripts"
   ]
  },
  {
   "cell_type": "code",
   "execution_count": 38,
   "metadata": {},
   "outputs": [
    {
     "name": "stdout",
     "output_type": "stream",
     "text": [
      "The autoreload extension is already loaded. To reload it, use:\n",
      "  %reload_ext autoreload\n"
     ]
    },
    {
     "data": {
      "text/plain": [
       "<module 'utils' from 'c:\\\\Users\\\\Hugo\\\\Desktop\\\\ac-feup\\\\jupyters\\\\hugo\\\\utils.py'>"
      ]
     },
     "execution_count": 38,
     "metadata": {},
     "output_type": "execute_result"
    }
   ],
   "source": [
    "### imported Libraries\n",
    "import pandas as pd\n",
    "import numpy as np\n",
    "import importlib\n",
    "from pprint import pprint\n",
    "\n",
    "from sklearn.model_selection import train_test_split\n",
    "from sklearn.ensemble import RandomForestClassifier\n",
    "from sklearn import metrics\n",
    "from sklearn.model_selection import GridSearchCV\n",
    "from sklearn.model_selection import StratifiedKFold\n",
    "from sklearn.linear_model import LogisticRegression\n",
    "from sklearn.cluster import KMeans\n",
    "\n",
    "# from sklearn.pipeline import Pipeline\n",
    "from imblearn.pipeline import Pipeline\n",
    "from imblearn.over_sampling import SMOTE\n",
    "\n",
    "# from sklearn.pipeline import Pipeline\n",
    "\n",
    "### Imported Scripts\n",
    "import utils\n",
    "\n",
    "%load_ext autoreload\n",
    "%autoreload 2\n",
    "\n",
    "importlib.reload(utils)\n"
   ]
  },
  {
   "cell_type": "markdown",
   "metadata": {},
   "source": [
    "### Data splitting"
   ]
  },
  {
   "cell_type": "code",
   "execution_count": 39,
   "metadata": {},
   "outputs": [],
   "source": [
    "### Split the data\n",
    "def split_dataset(df,ratio=0.7,debug=False):\n",
    "\n",
    "    ### Seperate the precition columns from output\n",
    "    X = df.drop(columns=['loan_success'])\n",
    "    y = df['loan_success']\n",
    "\n",
    "    ### Apply splitting\n",
    "    X_train, X_test, y_train, y_test = train_test_split(X,y,train_size=ratio,test_size=1-ratio)\n",
    "\n",
    "    return X_train,X_test,y_train,y_test"
   ]
  },
  {
   "cell_type": "markdown",
   "metadata": {},
   "source": [
    "### Algorithms"
   ]
  },
  {
   "cell_type": "code",
   "execution_count": 40,
   "metadata": {},
   "outputs": [],
   "source": [
    "def get_random_forest():\n",
    "    return RandomForestClassifier(bootstrap = False,\n",
    "                                    max_depth = 80,\n",
    "                                    max_features = 3,\n",
    "                                    min_samples_leaf = 3,\n",
    "                                    min_samples_split = 12,\n",
    "                                    n_estimators = 100)"
   ]
  },
  {
   "cell_type": "code",
   "execution_count": 41,
   "metadata": {},
   "outputs": [],
   "source": [
    "def get_logistic_regression():\n",
    "    return LogisticRegression(random_state=10,solver='lbfgs',max_iter=200)"
   ]
  },
  {
   "cell_type": "markdown",
   "metadata": {},
   "source": [
    "### Auc Curve (Pass this to utils later)"
   ]
  },
  {
   "cell_type": "code",
   "execution_count": 42,
   "metadata": {},
   "outputs": [],
   "source": [
    "def get_auc(y_test,y_predicted):\n",
    "    fpr, tpr, _ = metrics.roc_curve(y_test, y_predicted,pos_label=-1)    \n",
    "    return metrics.auc(fpr, tpr)\n"
   ]
  },
  {
   "cell_type": "markdown",
   "metadata": {},
   "source": [
    "### Use *Grid Search Cross Validation* to find the best grid for an algorithm"
   ]
  },
  {
   "cell_type": "code",
   "execution_count": 43,
   "metadata": {},
   "outputs": [],
   "source": [
    "### Uses a grid search to generate random parameters to find the best grid model\n",
    "def getBestSearch(algorithm,grid,debug=True):\n",
    "\n",
    "    # train = pd.read_csv('../../project/banking_data/loanUnitedTrain.csv', sep=',')\n",
    "    train = pd.read_csv('../../csvs/loan_united_train.csv', sep=',')\n",
    "    train = utils.normalize_category(train)\n",
    "\n",
    "    X = train.drop(columns=['loan_success'])\n",
    "    y = train['loan_success']\n",
    "\n",
    "    alg = algorithm()\n",
    "\n",
    "    grid_search = GridSearchCV(estimator = alg, param_grid = grid, cv = 2, n_jobs = -1, verbose = 2)\n",
    "\n",
    "    model = grid_search.fit(X,y)\n",
    "\n",
    "    if debug:\n",
    "        print('Best Score: ', model.best_score_)\n",
    "        print('Best Params: ', model.best_params_)\n",
    "    \n",
    "    return model.best_score_, model.best_params_\n"
   ]
  },
  {
   "cell_type": "markdown",
   "metadata": {},
   "source": [
    "### Build a Pipeline to apply a sampling and a classification algorithm"
   ]
  },
  {
   "cell_type": "code",
   "execution_count": 79,
   "metadata": {},
   "outputs": [],
   "source": [
    "### Sampling (This should work if the ASHDASJDSAKD LIBRARY IS IMPORTED)\n",
    "### Don't do this\n",
    "def build_pipeline(algorithm,oversample=True,undersample=True):\n",
    "\n",
    "    if(oversample):\n",
    "        return Pipeline([\n",
    "            ('sampling',SMOTE(random_state = 20)),\n",
    "            ('classification',algorithm)\n",
    "        ])\n",
    "    else:\n",
    "        return  Pipeline([\n",
    "            ('classification',algorithm)\n",
    "        ])\n",
    "\n",
    "    return pipeline"
   ]
  },
  {
   "cell_type": "markdown",
   "metadata": {},
   "source": [
    "### Final Stratified Cross Validation"
   ]
  },
  {
   "cell_type": "code",
   "execution_count": 45,
   "metadata": {},
   "outputs": [],
   "source": [
    "import numpy as np\n",
    "from sklearn.model_selection import StratifiedKFold\n",
    "\n",
    "def final_CV(algorithm):\n",
    "    # train = pd.read_csv('../../project/banking_data/loanUnitedTrain.csv', sep=',')\n",
    "    train = pd.read_csv('../../csvs/loan_united_train.csv', sep=',')\n",
    "    df = utils.normalize_category(train)\n",
    "    # df = utils.normalization(df,'loan_success')\n",
    "\n",
    "    X = df.drop(columns=['loan_success'])\n",
    "    y = df['loan_success']\n",
    "\n",
    "    algorithm = algorithm()\n",
    "\n",
    "    skf = StratifiedKFold(n_splits=3, random_state=True, shuffle=True)\n",
    "    skf.get_n_splits(X, y)\n",
    "\n",
    "    model_list = []\n",
    "    auc_list = []\n",
    "\n",
    "    for train_index, test_index in skf.split(X, y):\n",
    "\n",
    "        X_train, X_test = X.iloc[train_index], X.iloc[test_index]\n",
    "        y_train, y_test = y.iloc[train_index], y.iloc[test_index]\n",
    "\n",
    "        ### Train the model\n",
    "        model = algorithm.fit(X_train, y_train)\n",
    "\n",
    "        ### Predict the outcome with the test data\n",
    "        y_pred = algorithm.predict_proba(X_test)\n",
    "        y_final = y_pred.transpose()[0]\n",
    "\n",
    "        auc = get_auc(y_test, y_final)\n",
    "        auc_list.append(auc)\n",
    "        model_list.append(model)\n",
    "        print(f\"AUC={auc}\")\n",
    "        \n",
    "    ### Get the best model\n",
    "    best_score = max(auc_list)\n",
    "    best_model = model_list[auc_list.index(best_score)]\n",
    "    \n",
    "    \n",
    "    ### Use the best model to get a prediction\n",
    "    test = pd.read_csv('../../csvs/loan_united_test.csv', sep=',')\n",
    "    test = utils.normalize_category(test)\n",
    "    \n",
    "    X = test.drop(columns=['loan_success'])\n",
    "    y_predicted = best_model.predict_proba(X)\n",
    "    y_final = y_predicted.transpose()[0]\n",
    "    \n",
    "    final_df = pd.DataFrame()\n",
    "    final_df['Id'] = test[\"loan_id\"]\n",
    "    final_df['Predicted'] = y_final\n",
    "    \n",
    "    \n",
    "    if True:\n",
    "        print(f\"Predictions:\\n {final_df}\")\n",
    "    \n",
    "    if True:\n",
    "        final_df.to_csv('CV.csv', index=False)\n",
    "        print(\"Sucessfully stored the predictions in a file named 'CV.csv'\")\n",
    "\n",
    "    ### TODO: display statistics?\n",
    "    avg = sum(auc_list)/len(auc_list)\n",
    "    print(f\"Average AUC = {avg}\")\n"
   ]
  },
  {
   "cell_type": "markdown",
   "metadata": {},
   "source": [
    "### Running an algorithm"
   ]
  },
  {
   "cell_type": "code",
   "execution_count": 72,
   "metadata": {},
   "outputs": [],
   "source": [
    "def training_algorithm(algorithm,debug=False):\n",
    "    ### Getting the dataset\n",
    "    # train = pd.read_csv('../../project/banking_data/loanUnitedTrain.csv', sep=',')\n",
    "    \n",
    "    train = reverse_dates()\n",
    "    \n",
    "    train = pd.read_csv('../../csvs/loan_united_train.csv', sep=',')\n",
    "    train = utils.normalize_category(train)\n",
    "    \n",
    "    \n",
    "\n",
    "    ### Getting a Model from training\n",
    "    X_train,X_test,y_train,y_test = split_dataset(train)\n",
    "\n",
    "    pipe = build_pipeline(algorithm())\n",
    "    model = pipe.fit(X_train,y_train)\n",
    "    \n",
    "\n",
    "    y_predicted = model.predict_proba(X_test)\n",
    "\n",
    "    y_final = y_predicted.transpose()[0]\n",
    "\n",
    "    if debug:\n",
    "        score = model.score(X_test,y_test)\n",
    "        auc = get_auc(y_test,y_final)\n",
    "        print(f\"Score: {score}\")\n",
    "        print(f\"Auc: {auc}\")\n",
    "    \n",
    "    return model"
   ]
  },
  {
   "cell_type": "code",
   "execution_count": 47,
   "metadata": {},
   "outputs": [],
   "source": [
    "def testing_model(model,debug=False,write=False):\n",
    "    test = pd.read_csv('../../csvs/loan_united_test.csv', sep=',')\n",
    "    # test = pd.read_csv('../../project/banking_data/loanUnitedTest.csv', sep=',')\n",
    "    test = utils.normalize_category(test)\n",
    "\n",
    "    X = test.drop(columns=['loan_success'])\n",
    "\n",
    "    y_predicted = model.predict_proba(X)\n",
    "    y_final = y_predicted.transpose()[0]\n",
    "    \n",
    "    final_df = pd.DataFrame()\n",
    "    final_df['Id'] = test[\"loan_id\"]\n",
    "    final_df['Predicted'] = y_final\n",
    "\n",
    "    if debug:\n",
    "        print(f\"Predictions:\\n {final_df}\")\n",
    "    \n",
    "    if write:\n",
    "        final_df.to_csv('out.csv', index=False)\n",
    "        print(\"Sucessfully stored the predictions in a file named 'out.csv'\")"
   ]
  },
  {
   "cell_type": "code",
   "execution_count": 48,
   "metadata": {},
   "outputs": [],
   "source": [
    "def run_algorithm(algorithm,debug = True,write=False):\n",
    "    \n",
    "    if(debug):\n",
    "        print(\"Running the provided algorithm\")\n",
    "    \n",
    "    model = training_algorithm(algorithm,debug=debug)\n",
    "    testing_model(model,debug=debug,write=write)"
   ]
  },
  {
   "cell_type": "markdown",
   "metadata": {},
   "source": [
    "### Choose your algorithm:"
   ]
  },
  {
   "cell_type": "code",
   "execution_count": 61,
   "metadata": {},
   "outputs": [],
   "source": [
    "### Leave the one you want to run uncommented\n",
    "algorithm = get_random_forest\n",
    "# algorithm = get_logistic_regression"
   ]
  },
  {
   "cell_type": "markdown",
   "metadata": {},
   "source": [
    "### Run the Chosen Algorithm"
   ]
  },
  {
   "cell_type": "code",
   "execution_count": 78,
   "metadata": {},
   "outputs": [
    {
     "name": "stdout",
     "output_type": "stream",
     "text": [
      "Running the provided algorithm\n"
     ]
    },
    {
     "ename": "TypeError",
     "evalue": "All intermediate steps of the chain should be estimators that implement fit and transform or fit_resample (but not both) or be a string 'passthrough' 'RandomForestClassifier(bootstrap=False, max_depth=80, max_features=3,\n                       min_samples_leaf=3, min_samples_split=12)' (type <class 'sklearn.ensemble._forest.RandomForestClassifier'>) doesn't)",
     "output_type": "error",
     "traceback": [
      "\u001b[1;31m---------------------------------------------------------------------------\u001b[0m",
      "\u001b[1;31mTypeError\u001b[0m                                 Traceback (most recent call last)",
      "\u001b[1;32m<ipython-input-78-ad3beb9bdbda>\u001b[0m in \u001b[0;36m<module>\u001b[1;34m()\u001b[0m\n\u001b[1;32m----> 1\u001b[1;33m \u001b[0mrun_algorithm\u001b[0m\u001b[1;33m(\u001b[0m\u001b[0malgorithm\u001b[0m\u001b[1;33m,\u001b[0m\u001b[0mdebug\u001b[0m\u001b[1;33m=\u001b[0m\u001b[1;32mTrue\u001b[0m\u001b[1;33m,\u001b[0m\u001b[0mwrite\u001b[0m\u001b[1;33m=\u001b[0m\u001b[1;32mTrue\u001b[0m\u001b[1;33m)\u001b[0m\u001b[1;33m\u001b[0m\u001b[0m\n\u001b[0m",
      "\u001b[1;32m<ipython-input-48-f62ed152eb15>\u001b[0m in \u001b[0;36mrun_algorithm\u001b[1;34m(algorithm, debug, write)\u001b[0m\n\u001b[0;32m      4\u001b[0m         \u001b[0mprint\u001b[0m\u001b[1;33m(\u001b[0m\u001b[1;34m\"Running the provided algorithm\"\u001b[0m\u001b[1;33m)\u001b[0m\u001b[1;33m\u001b[0m\u001b[0m\n\u001b[0;32m      5\u001b[0m \u001b[1;33m\u001b[0m\u001b[0m\n\u001b[1;32m----> 6\u001b[1;33m     \u001b[0mmodel\u001b[0m \u001b[1;33m=\u001b[0m \u001b[0mtraining_algorithm\u001b[0m\u001b[1;33m(\u001b[0m\u001b[0malgorithm\u001b[0m\u001b[1;33m,\u001b[0m\u001b[0mdebug\u001b[0m\u001b[1;33m=\u001b[0m\u001b[0mdebug\u001b[0m\u001b[1;33m)\u001b[0m\u001b[1;33m\u001b[0m\u001b[0m\n\u001b[0m\u001b[0;32m      7\u001b[0m     \u001b[0mtesting_model\u001b[0m\u001b[1;33m(\u001b[0m\u001b[0mmodel\u001b[0m\u001b[1;33m,\u001b[0m\u001b[0mdebug\u001b[0m\u001b[1;33m=\u001b[0m\u001b[0mdebug\u001b[0m\u001b[1;33m,\u001b[0m\u001b[0mwrite\u001b[0m\u001b[1;33m=\u001b[0m\u001b[0mwrite\u001b[0m\u001b[1;33m)\u001b[0m\u001b[1;33m\u001b[0m\u001b[0m\n",
      "\u001b[1;32m<ipython-input-72-65dd4a3dcd90>\u001b[0m in \u001b[0;36mtraining_algorithm\u001b[1;34m(algorithm, debug)\u001b[0m\n\u001b[0;32m     13\u001b[0m     \u001b[0mX_train\u001b[0m\u001b[1;33m,\u001b[0m\u001b[0mX_test\u001b[0m\u001b[1;33m,\u001b[0m\u001b[0my_train\u001b[0m\u001b[1;33m,\u001b[0m\u001b[0my_test\u001b[0m \u001b[1;33m=\u001b[0m \u001b[0msplit_dataset\u001b[0m\u001b[1;33m(\u001b[0m\u001b[0mtrain\u001b[0m\u001b[1;33m)\u001b[0m\u001b[1;33m\u001b[0m\u001b[0m\n\u001b[0;32m     14\u001b[0m \u001b[1;33m\u001b[0m\u001b[0m\n\u001b[1;32m---> 15\u001b[1;33m     \u001b[0mpipe\u001b[0m \u001b[1;33m=\u001b[0m \u001b[0mbuild_pipeline\u001b[0m\u001b[1;33m(\u001b[0m\u001b[0malgorithm\u001b[0m\u001b[1;33m(\u001b[0m\u001b[1;33m)\u001b[0m\u001b[1;33m)\u001b[0m\u001b[1;33m\u001b[0m\u001b[0m\n\u001b[0m\u001b[0;32m     16\u001b[0m     \u001b[1;31m# model = pipe.fit(X_train,y_train)\u001b[0m\u001b[1;33m\u001b[0m\u001b[1;33m\u001b[0m\u001b[0m\n\u001b[0;32m     17\u001b[0m \u001b[1;33m\u001b[0m\u001b[0m\n",
      "\u001b[1;32m<ipython-input-68-8329d55a4468>\u001b[0m in \u001b[0;36mbuild_pipeline\u001b[1;34m(algorithm, oversample, undersample)\u001b[0m\n\u001b[0;32m      7\u001b[0m             \u001b[1;33m(\u001b[0m\u001b[1;34m'sampling'\u001b[0m\u001b[1;33m,\u001b[0m\u001b[0mSMOTE\u001b[0m\u001b[1;33m(\u001b[0m\u001b[0mrandom_state\u001b[0m \u001b[1;33m=\u001b[0m \u001b[1;36m20\u001b[0m\u001b[1;33m)\u001b[0m\u001b[1;33m)\u001b[0m\u001b[1;33m,\u001b[0m\u001b[1;33m\u001b[0m\u001b[0m\n\u001b[0;32m      8\u001b[0m             \u001b[1;33m(\u001b[0m\u001b[1;34m'classification'\u001b[0m\u001b[1;33m,\u001b[0m\u001b[0malgorithm\u001b[0m\u001b[1;33m)\u001b[0m\u001b[1;33m,\u001b[0m\u001b[1;33m\u001b[0m\u001b[0m\n\u001b[1;32m----> 9\u001b[1;33m             \u001b[1;33m(\u001b[0m\u001b[1;34m'kmeans'\u001b[0m\u001b[1;33m,\u001b[0m\u001b[0mKMeans\u001b[0m\u001b[1;33m(\u001b[0m\u001b[0mn_clusters\u001b[0m\u001b[1;33m=\u001b[0m\u001b[1;36m3\u001b[0m\u001b[1;33m)\u001b[0m\u001b[1;33m)\u001b[0m\u001b[1;33m\u001b[0m\u001b[0m\n\u001b[0m\u001b[0;32m     10\u001b[0m \u001b[1;33m\u001b[0m\u001b[0m\n\u001b[0;32m     11\u001b[0m         ])\n",
      "\u001b[1;32m~\\Anaconda3\\lib\\site-packages\\sklearn\\utils\\validation.py\u001b[0m in \u001b[0;36minner_f\u001b[1;34m(*args, **kwargs)\u001b[0m\n\u001b[0;32m     61\u001b[0m             \u001b[0mextra_args\u001b[0m \u001b[1;33m=\u001b[0m \u001b[0mlen\u001b[0m\u001b[1;33m(\u001b[0m\u001b[0margs\u001b[0m\u001b[1;33m)\u001b[0m \u001b[1;33m-\u001b[0m \u001b[0mlen\u001b[0m\u001b[1;33m(\u001b[0m\u001b[0mall_args\u001b[0m\u001b[1;33m)\u001b[0m\u001b[1;33m\u001b[0m\u001b[0m\n\u001b[0;32m     62\u001b[0m             \u001b[1;32mif\u001b[0m \u001b[0mextra_args\u001b[0m \u001b[1;33m<=\u001b[0m \u001b[1;36m0\u001b[0m\u001b[1;33m:\u001b[0m\u001b[1;33m\u001b[0m\u001b[0m\n\u001b[1;32m---> 63\u001b[1;33m                 \u001b[1;32mreturn\u001b[0m \u001b[0mf\u001b[0m\u001b[1;33m(\u001b[0m\u001b[1;33m*\u001b[0m\u001b[0margs\u001b[0m\u001b[1;33m,\u001b[0m \u001b[1;33m**\u001b[0m\u001b[0mkwargs\u001b[0m\u001b[1;33m)\u001b[0m\u001b[1;33m\u001b[0m\u001b[0m\n\u001b[0m\u001b[0;32m     64\u001b[0m \u001b[1;33m\u001b[0m\u001b[0m\n\u001b[0;32m     65\u001b[0m             \u001b[1;31m# extra_args > 0\u001b[0m\u001b[1;33m\u001b[0m\u001b[1;33m\u001b[0m\u001b[0m\n",
      "\u001b[1;32m~\\Anaconda3\\lib\\site-packages\\sklearn\\pipeline.py\u001b[0m in \u001b[0;36m__init__\u001b[1;34m(self, steps, memory, verbose)\u001b[0m\n\u001b[0;32m    116\u001b[0m         \u001b[0mself\u001b[0m\u001b[1;33m.\u001b[0m\u001b[0mmemory\u001b[0m \u001b[1;33m=\u001b[0m \u001b[0mmemory\u001b[0m\u001b[1;33m\u001b[0m\u001b[0m\n\u001b[0;32m    117\u001b[0m         \u001b[0mself\u001b[0m\u001b[1;33m.\u001b[0m\u001b[0mverbose\u001b[0m \u001b[1;33m=\u001b[0m \u001b[0mverbose\u001b[0m\u001b[1;33m\u001b[0m\u001b[0m\n\u001b[1;32m--> 118\u001b[1;33m         \u001b[0mself\u001b[0m\u001b[1;33m.\u001b[0m\u001b[0m_validate_steps\u001b[0m\u001b[1;33m(\u001b[0m\u001b[1;33m)\u001b[0m\u001b[1;33m\u001b[0m\u001b[0m\n\u001b[0m\u001b[0;32m    119\u001b[0m \u001b[1;33m\u001b[0m\u001b[0m\n\u001b[0;32m    120\u001b[0m     \u001b[1;32mdef\u001b[0m \u001b[0mget_params\u001b[0m\u001b[1;33m(\u001b[0m\u001b[0mself\u001b[0m\u001b[1;33m,\u001b[0m \u001b[0mdeep\u001b[0m\u001b[1;33m=\u001b[0m\u001b[1;32mTrue\u001b[0m\u001b[1;33m)\u001b[0m\u001b[1;33m:\u001b[0m\u001b[1;33m\u001b[0m\u001b[0m\n",
      "\u001b[1;32m~\\Anaconda3\\lib\\site-packages\\imblearn\\pipeline.py\u001b[0m in \u001b[0;36m_validate_steps\u001b[1;34m(self)\u001b[0m\n\u001b[0;32m    135\u001b[0m                     \u001b[1;34m\"be estimators that implement fit and transform or \"\u001b[0m\u001b[1;33m\u001b[0m\u001b[0m\n\u001b[0;32m    136\u001b[0m                     \u001b[1;34m\"fit_resample (but not both) or be a string 'passthrough' \"\u001b[0m\u001b[1;33m\u001b[0m\u001b[0m\n\u001b[1;32m--> 137\u001b[1;33m                     \u001b[1;34m\"'%s' (type %s) doesn't)\"\u001b[0m \u001b[1;33m%\u001b[0m \u001b[1;33m(\u001b[0m\u001b[0mt\u001b[0m\u001b[1;33m,\u001b[0m \u001b[0mtype\u001b[0m\u001b[1;33m(\u001b[0m\u001b[0mt\u001b[0m\u001b[1;33m)\u001b[0m\u001b[1;33m)\u001b[0m\u001b[1;33m\u001b[0m\u001b[0m\n\u001b[0m\u001b[0;32m    138\u001b[0m                 )\n\u001b[0;32m    139\u001b[0m \u001b[1;33m\u001b[0m\u001b[0m\n",
      "\u001b[1;31mTypeError\u001b[0m: All intermediate steps of the chain should be estimators that implement fit and transform or fit_resample (but not both) or be a string 'passthrough' 'RandomForestClassifier(bootstrap=False, max_depth=80, max_features=3,\n                       min_samples_leaf=3, min_samples_split=12)' (type <class 'sklearn.ensemble._forest.RandomForestClassifier'>) doesn't)"
     ]
    }
   ],
   "source": [
    "run_algorithm(algorithm,debug=True,write=True)"
   ]
  },
  {
   "cell_type": "markdown",
   "metadata": {},
   "source": [
    "### Execute Final Cross Validation"
   ]
  },
  {
   "cell_type": "code",
   "execution_count": null,
   "metadata": {},
   "outputs": [
    {
     "name": "stdout",
     "output_type": "stream",
     "text": [
      "AUC=0.711436170212766\n",
      "AUC=0.7595744680851064\n",
      "AUC=0.7546099290780143\n",
      "Predictions:\n",
      "        Id  Predicted\n",
      "0    5895   0.039504\n",
      "1    7122   0.452351\n",
      "2    6173   0.045842\n",
      "3    6142   0.030997\n",
      "4    5358   0.502908\n",
      "..    ...        ...\n",
      "349  4989   0.276445\n",
      "350  5221   0.028243\n",
      "351  6402   0.081868\n",
      "352  5346   0.037687\n",
      "353  6748   0.073684\n",
      "\n",
      "[354 rows x 2 columns]\n",
      "Sucessfully stored the predictions in a file named 'CV.csv'\n",
      "Average AUC = 0.7418735224586289\n"
     ]
    }
   ],
   "source": [
    "final_CV(algorithm)"
   ]
  },
  {
   "cell_type": "markdown",
   "metadata": {},
   "source": [
    "### Finding the best grid"
   ]
  },
  {
   "cell_type": "code",
   "execution_count": null,
   "metadata": {},
   "outputs": [],
   "source": [
    "param_grid = {\n",
    "    'bootstrap': [True,False],\n",
    "    'max_depth': [80, 90, 100, 110],\n",
    "    'max_features': [2, 3],\n",
    "    'min_samples_leaf': [3, 4, 5],\n",
    "    'min_samples_split': [8, 10, 12],\n",
    "    'n_estimators': [100, 200, 300, 1000]\n",
    "}\n",
    "### Uncomment to run (WARNING: Takes like 5 minutes)\n",
    "# getBestSearch(get_random_forest,param_grid)"
   ]
  },
  {
   "cell_type": "code",
   "execution_count": null,
   "metadata": {},
   "outputs": [],
   "source": [
    "def convert_date(df,column):\n",
    "    copy = df.copy()\n",
    "    date = copy[column]\n",
    "    \n",
    "    copy[column] =  date.apply(lambda x: datetime.datetime.strptime(x, '%d-%m-%Y').strftime('%Y%m%d'))\n",
    "\n",
    "    return copy\n",
    "\n",
    "import datetime\n",
    "\n",
    "def reverse_dates():\n",
    "    \n",
    "    train = pd.read_csv('../../csvs/loan_united_train.csv', sep=',')\n",
    "    columns = ['loan_date','account_creation']\n",
    "    df = train.copy()\n",
    "\n",
    "    for column in columns:\n",
    "        df = convert_date(df,column)\n",
    "        \n",
    "    return df"
   ]
  },
  {
   "cell_type": "markdown",
   "metadata": {},
   "source": [
    "### Clustering"
   ]
  },
  {
   "cell_type": "code",
   "execution_count": 77,
   "metadata": {},
   "outputs": [
    {
     "name": "stdout",
     "output_type": "stream",
     "text": [
      "KMeans(n_clusters=3)\n"
     ]
    }
   ],
   "source": [
    "import numpy as np\n",
    "from sklearn.cluster import KMeans\n",
    "from pprint import pprint\n",
    "\n",
    "train = pd.read_csv('../../csvs/loan_united_train.csv', sep=',')\n",
    "df = utils.normalize_category(train)\n",
    "# df = utils.normalization(df,'loan_success')\n",
    "\n",
    "X = df.drop(columns=['loan_success'])\n",
    "\n",
    "kmeans_model = KMeans(n_clusters=3).fit(X)\n",
    "# labels = kmeans_model.labels_\n",
    "# metrics.silhouette_score(X, labels, metric='euclidean')\n",
    "\n",
    "pprint(kmeans_model)\n"
   ]
  }
 ],
 "metadata": {
  "interpreter": {
   "hash": "7c5c685faadbcbae1551fd6d5683e133251e0ca8e77eadbbc8e83131f99b1b14"
  },
  "kernelspec": {
   "display_name": "Python 3.7.0 64-bit ('base': conda)",
   "language": "python",
   "name": "python3"
  },
  "language_info": {
   "codemirror_mode": {
    "name": "ipython",
    "version": 3
   },
   "file_extension": ".py",
   "mimetype": "text/x-python",
   "name": "python",
   "nbconvert_exporter": "python",
   "pygments_lexer": "ipython3",
   "version": "3.7.0"
  },
  "orig_nbformat": 4
 },
 "nbformat": 4,
 "nbformat_minor": 2
}
