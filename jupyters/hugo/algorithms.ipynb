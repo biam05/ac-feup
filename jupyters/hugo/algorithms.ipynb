{
 "cells": [
  {
   "cell_type": "code",
   "execution_count": 66,
   "metadata": {},
   "outputs": [
    {
     "name": "stdout",
     "output_type": "stream",
     "text": [
      "The autoreload extension is already loaded. To reload it, use:\n",
      "  %reload_ext autoreload\n"
     ]
    },
    {
     "data": {
      "text/plain": [
       "<module 'utils' from 'c:\\\\Users\\\\utilizador\\\\Desktop\\\\ac-feup\\\\jupyters\\\\hugo\\\\utils.py'>"
      ]
     },
     "execution_count": 66,
     "metadata": {},
     "output_type": "execute_result"
    }
   ],
   "source": [
    "### imported Libraries\n",
    "import pandas as pd\n",
    "import numpy as np\n",
    "import importlib\n",
    "\n",
    "from sklearn.model_selection import train_test_split\n",
    "from sklearn.ensemble import RandomForestClassifier\n",
    "from sklearn import metrics\n",
    "\n",
    "### Imported Scripts\n",
    "import utils\n",
    "\n",
    "%load_ext autoreload\n",
    "%autoreload 2\n",
    "\n",
    "importlib.reload(utils)"
   ]
  },
  {
   "cell_type": "code",
   "execution_count": 56,
   "metadata": {},
   "outputs": [],
   "source": [
    "### Split the data\n",
    "def split_dataset(df,ratio=0.7,debug=False):\n",
    "\n",
    "    ### Seperate the precition columns from output\n",
    "    X = df.drop(columns=['loan_success'])\n",
    "    y = df['loan_success']\n",
    "\n",
    "    ### Apply splitting\n",
    "    X_train, X_test, y_train, y_test = train_test_split(X,y,train_size=ratio,test_size=1-ratio)\n",
    "\n",
    "    return X_train,X_test,y_train,y_test"
   ]
  },
  {
   "cell_type": "code",
   "execution_count": 57,
   "metadata": {},
   "outputs": [],
   "source": [
    "def get_random_forest(X_train,y_train):\n",
    "    model = RandomForestClassifier(n_estimators=15)\n",
    "    model.fit(X_train,y_train)\n",
    "\n",
    "    return model"
   ]
  },
  {
   "cell_type": "code",
   "execution_count": 58,
   "metadata": {},
   "outputs": [],
   "source": [
    "def get_auc(y_test,y_predicted):\n",
    "\n",
    "    y_final = y_predicted.transpose()[0]\n",
    "\n",
    "    fpr, tpr, _ = metrics.roc_curve(y_test, y_final,pos_label=-1)    \n",
    "    return metrics.auc(fpr, tpr)\n"
   ]
  },
  {
   "cell_type": "code",
   "execution_count": 59,
   "metadata": {},
   "outputs": [],
   "source": [
    "def run_random_forest(debug = False,write=False):\n",
    "\n",
    "    print(\"Running Random Forest Algorithm\")\n",
    "    model = training_forest(debug)\n",
    "    testing_forest(model,debug=debug,write=write)\n",
    "    "
   ]
  },
  {
   "cell_type": "code",
   "execution_count": 60,
   "metadata": {},
   "outputs": [],
   "source": [
    "def training_forest(debug=False):\n",
    "    ### Getting the dataset\n",
    "    train = pd.read_csv('../../project/banking_data/loanUnitedTrain.csv', sep=',')\n",
    "    train = utils.normalize_category(train)\n",
    "\n",
    "    ### Getting a Model from training\n",
    "    X_train,X_test,y_train,y_test = split_dataset(train)\n",
    "\n",
    "    model = get_random_forest(X_train,y_train)\n",
    "\n",
    "    y_predicted = model.predict_proba(X_test)\n",
    "\n",
    "    if debug:\n",
    "        score = model.score(X_test,y_test)\n",
    "        auc = get_auc(y_test,y_predicted)\n",
    "        print(f\"Score: {score}\")\n",
    "        print(f\"Auc: {auc}\")\n",
    "    \n",
    "    return model"
   ]
  },
  {
   "cell_type": "code",
   "execution_count": 61,
   "metadata": {},
   "outputs": [],
   "source": [
    "def testing_forest(model,debug=False,write=False):\n",
    "    test = pd.read_csv('../../project/banking_data/loanUnitedTest.csv', sep=',')\n",
    "    test = utils.normalize_category(test)\n",
    "\n",
    "    X = test.drop(columns=['loan_success'])\n",
    "\n",
    "    y_predicted = model.predict_proba(X)\n",
    "    y_final = y_predicted.transpose()[0]\n",
    "    \n",
    "    final_df = pd.DataFrame()\n",
    "    final_df['Id'] = test[\"loan_id\"]\n",
    "    final_df['Predicted'] = y_final\n",
    "\n",
    "    if debug:\n",
    "        print(f\"Predictions:\\n {final_df}\")\n",
    "    \n",
    "    if write:\n",
    "        final_df.to_csv('out.csv', index=False)\n",
    "        print(\"Sucessfully stored the predictions in a file named 'out.csv'\")"
   ]
  },
  {
   "cell_type": "code",
   "execution_count": 67,
   "metadata": {},
   "outputs": [
    {
     "name": "stdout",
     "output_type": "stream",
     "text": [
      "Score: 0.8888888888888888\n",
      "Auc: 0.6891771019677997\n",
      "Predictions:\n",
      "        Id  Predicted\n",
      "0    5895   0.066667\n",
      "1    7122   0.866667\n",
      "2    6173   0.066667\n",
      "3    6142   0.133333\n",
      "4    5358   0.333333\n",
      "5    6095   0.066667\n",
      "6    6878   0.133333\n",
      "7    6554   0.066667\n",
      "8    6793   0.066667\n",
      "9    7286   0.200000\n",
      "10   6076   0.066667\n",
      "11   5134   0.066667\n",
      "12   5419   0.533333\n",
      "13   6255   0.133333\n",
      "14   5656   0.000000\n",
      "15   6934   0.266667\n",
      "16   6028   0.066667\n",
      "17   6490   0.200000\n",
      "18   6415   0.266667\n",
      "19   7087   0.066667\n",
      "20   5420   0.066667\n",
      "21   5977   0.066667\n",
      "22   6824   0.400000\n",
      "23   5207   0.133333\n",
      "24   7115   0.466667\n",
      "25   7250   0.000000\n",
      "26   6010   0.266667\n",
      "27   6088   0.266667\n",
      "28   5682   0.400000\n",
      "29   7201   0.400000\n",
      "..    ...        ...\n",
      "324  5698   0.133333\n",
      "325  5169   0.133333\n",
      "326  7294   0.200000\n",
      "327  5318   0.200000\n",
      "328  5368   0.066667\n",
      "329  6923   0.066667\n",
      "330  5463   0.000000\n",
      "331  5265   0.000000\n",
      "332  6321   0.133333\n",
      "333  5226   0.466667\n",
      "334  6868   0.133333\n",
      "335  4967   0.800000\n",
      "336  5293   0.066667\n",
      "337  5865   0.133333\n",
      "338  5841   0.066667\n",
      "339  5526   0.066667\n",
      "340  6852   0.133333\n",
      "341  6469   0.066667\n",
      "342  6168   0.133333\n",
      "343  7292   0.266667\n",
      "344  5036   0.066667\n",
      "345  5644   0.200000\n",
      "346  6856   0.266667\n",
      "347  5428   0.133333\n",
      "348  5027   0.066667\n",
      "349  4989   0.200000\n",
      "350  5221   0.133333\n",
      "351  6402   0.000000\n",
      "352  5346   0.333333\n",
      "353  6748   0.133333\n",
      "\n",
      "[354 rows x 2 columns]\n"
     ]
    }
   ],
   "source": [
    "run_random_forest(debug=True,write=False)"
   ]
  }
 ],
 "metadata": {
  "interpreter": {
   "hash": "7c5c685faadbcbae1551fd6d5683e133251e0ca8e77eadbbc8e83131f99b1b14"
  },
  "kernelspec": {
   "display_name": "Python 3.7.0 64-bit ('base': conda)",
   "language": "python",
   "name": "python3"
  },
  "language_info": {
   "codemirror_mode": {
    "name": "ipython",
    "version": 3
   },
   "file_extension": ".py",
   "mimetype": "text/x-python",
   "name": "python",
   "nbconvert_exporter": "python",
   "pygments_lexer": "ipython3",
   "version": "3.7.0"
  },
  "orig_nbformat": 4
 },
 "nbformat": 4,
 "nbformat_minor": 2
}
