{
 "cells": [
  {
   "cell_type": "code",
   "execution_count": 88,
   "metadata": {},
   "outputs": [
    {
     "name": "stdout",
     "output_type": "stream",
     "text": [
      "The autoreload extension is already loaded. To reload it, use:\n",
      "  %reload_ext autoreload\n"
     ]
    },
    {
     "data": {
      "text/plain": [
       "<module 'utils' from 'c:\\\\Users\\\\utilizador\\\\Desktop\\\\ac-feup\\\\jupyters\\\\hugo\\\\utils.py'>"
      ]
     },
     "execution_count": 88,
     "metadata": {},
     "output_type": "execute_result"
    }
   ],
   "source": [
    "### imported Libraries\n",
    "import pandas as pd\n",
    "import numpy as np\n",
    "import importlib\n",
    "from pprint import pprint\n",
    "\n",
    "from sklearn.model_selection import train_test_split\n",
    "from sklearn.ensemble import RandomForestClassifier\n",
    "from sklearn import metrics\n",
    "from sklearn.model_selection import GridSearchCV\n",
    "from sklearn.model_selection import StratifiedKFold\n",
    "\n",
    "# from sklearn.pipeline import Pipeline\n",
    "from imblearn.pipeline import Pipeline\n",
    "from imblearn.over_sampling import SMOTE \n",
    "\n",
    "### Imported Scripts\n",
    "import utils\n",
    "\n",
    "%load_ext autoreload\n",
    "%autoreload 2\n",
    "\n",
    "importlib.reload(utils)\n"
   ]
  },
  {
   "cell_type": "code",
   "execution_count": 89,
   "metadata": {},
   "outputs": [],
   "source": [
    "### Split the data\n",
    "def split_dataset(df,ratio=0.7,debug=False):\n",
    "\n",
    "    ### Seperate the precition columns from output\n",
    "    X = df.drop(columns=['loan_success'])\n",
    "    y = df['loan_success']\n",
    "\n",
    "    ### Apply splitting\n",
    "    X_train, X_test, y_train, y_test = train_test_split(X,y,train_size=ratio,test_size=1-ratio)\n",
    "\n",
    "    return X_train,X_test,y_train,y_test"
   ]
  },
  {
   "cell_type": "code",
   "execution_count": 90,
   "metadata": {},
   "outputs": [],
   "source": [
    "def get_random_forest():\n",
    "    return RandomForestClassifier(bootstrap = False,\n",
    "                                    max_depth = 80,\n",
    "                                    max_features = 3,\n",
    "                                    min_samples_leaf = 3,\n",
    "                                    min_samples_split = 12,\n",
    "                                    n_estimators = 100)"
   ]
  },
  {
   "cell_type": "code",
   "execution_count": 91,
   "metadata": {},
   "outputs": [],
   "source": [
    "def get_auc(y_test,y_predicted):\n",
    "    fpr, tpr, _ = metrics.roc_curve(y_test, y_predicted,pos_label=-1)    \n",
    "    return metrics.auc(fpr, tpr)\n"
   ]
  },
  {
   "cell_type": "code",
   "execution_count": 92,
   "metadata": {},
   "outputs": [],
   "source": [
    "def run_random_forest(debug = False,write=False):\n",
    "\n",
    "    print(\"Running Random Forest Algorithm\")\n",
    "    model = training_forest(debug)\n",
    "    testing_forest(model,debug=debug,write=write)\n",
    "    "
   ]
  },
  {
   "cell_type": "code",
   "execution_count": 93,
   "metadata": {},
   "outputs": [],
   "source": [
    "def training_forest(debug=False):\n",
    "    ### Getting the dataset\n",
    "    train = pd.read_csv('../../project/banking_data/loanUnitedTrain.csv', sep=',')\n",
    "    train = utils.normalize_category(train)\n",
    "\n",
    "    ### Getting a Model from training\n",
    "    X_train,X_test,y_train,y_test = split_dataset(train)\n",
    "\n",
    "    # rf = get_random_forest()\n",
    "\n",
    "    pipe = build_pipeline(get_random_forest())\n",
    "\n",
    "    model = pipe.fit(X_train,y_train)\n",
    "\n",
    "    y_predicted = model.predict_proba(X_test)\n",
    "\n",
    "    y_final = y_predicted.transpose()[0]\n",
    "\n",
    "    if debug:\n",
    "        score = model.score(X_test,y_test)\n",
    "        auc = get_auc(y_test,y_final)\n",
    "        print(f\"Score: {score}\")\n",
    "        print(f\"Auc: {auc}\")\n",
    "    \n",
    "    return model"
   ]
  },
  {
   "cell_type": "code",
   "execution_count": 94,
   "metadata": {},
   "outputs": [],
   "source": [
    "def testing_forest(model,debug=False,write=False):\n",
    "    test = pd.read_csv('../../project/banking_data/loanUnitedTest.csv', sep=',')\n",
    "    test = utils.normalize_category(test)\n",
    "\n",
    "    X = test.drop(columns=['loan_success'])\n",
    "\n",
    "    y_predicted = model.predict_proba(X)\n",
    "    y_final = y_predicted.transpose()[0]\n",
    "    \n",
    "    final_df = pd.DataFrame()\n",
    "    final_df['Id'] = test[\"loan_id\"]\n",
    "    final_df['Predicted'] = y_final\n",
    "\n",
    "    if debug:\n",
    "        print(f\"Predictions:\\n {final_df}\")\n",
    "    \n",
    "    if write:\n",
    "        final_df.to_csv('out.csv', index=False)\n",
    "        print(\"Sucessfully stored the predictions in a file named 'out.csv'\")"
   ]
  },
  {
   "cell_type": "code",
   "execution_count": 95,
   "metadata": {},
   "outputs": [
    {
     "name": "stdout",
     "output_type": "stream",
     "text": [
      "Running Random Forest Algorithm\n",
      "Score: 0.8888888888888888\n",
      "Auc: 0.7920634920634921\n",
      "Predictions:\n",
      "        Id  Predicted\n",
      "0    5895   0.140141\n",
      "1    7122   0.692797\n",
      "2    6173   0.149821\n",
      "3    6142   0.257725\n",
      "4    5358   0.334182\n",
      "5    6095   0.096698\n",
      "6    6878   0.149149\n",
      "7    6554   0.190455\n",
      "8    6793   0.195571\n",
      "9    7286   0.240025\n",
      "10   6076   0.117654\n",
      "11   5134   0.344882\n",
      "12   5419   0.303600\n",
      "13   6255   0.344102\n",
      "14   5656   0.157006\n",
      "15   6934   0.553405\n",
      "16   6028   0.134954\n",
      "17   6490   0.172095\n",
      "18   6415   0.207190\n",
      "19   7087   0.068705\n",
      "20   5420   0.321655\n",
      "21   5977   0.097540\n",
      "22   6824   0.502326\n",
      "23   5207   0.219626\n",
      "24   7115   0.261188\n",
      "25   7250   0.055418\n",
      "26   6010   0.241762\n",
      "27   6088   0.265848\n",
      "28   5682   0.175951\n",
      "29   7201   0.185201\n",
      "..    ...        ...\n",
      "324  5698   0.285307\n",
      "325  5169   0.157695\n",
      "326  7294   0.116969\n",
      "327  5318   0.327777\n",
      "328  5368   0.226131\n",
      "329  6923   0.162034\n",
      "330  5463   0.258408\n",
      "331  5265   0.153610\n",
      "332  6321   0.083801\n",
      "333  5226   0.545264\n",
      "334  6868   0.180696\n",
      "335  4967   0.730590\n",
      "336  5293   0.127156\n",
      "337  5865   0.245981\n",
      "338  5841   0.122327\n",
      "339  5526   0.085485\n",
      "340  6852   0.088184\n",
      "341  6469   0.086095\n",
      "342  6168   0.247728\n",
      "343  7292   0.147847\n",
      "344  5036   0.287043\n",
      "345  5644   0.309201\n",
      "346  6856   0.446377\n",
      "347  5428   0.257051\n",
      "348  5027   0.105099\n",
      "349  4989   0.362118\n",
      "350  5221   0.153720\n",
      "351  6402   0.106971\n",
      "352  5346   0.275303\n",
      "353  6748   0.261601\n",
      "\n",
      "[354 rows x 2 columns]\n"
     ]
    }
   ],
   "source": [
    "run_random_forest(debug=True,write=False)"
   ]
  },
  {
   "cell_type": "code",
   "execution_count": 96,
   "metadata": {},
   "outputs": [],
   "source": [
    "### Uses a grid search to generate random parameters to find the best grid model\n",
    "def getBestSearch(algorithm,grid,debug=True):\n",
    "\n",
    "    train = pd.read_csv('../../project/banking_data/loanUnitedTrain.csv', sep=',')\n",
    "    train = utils.normalize_category(train)\n",
    "\n",
    "    X = train.drop(columns=['loan_success'])\n",
    "    y = train['loan_success']\n",
    "\n",
    "    alg = algorithm()\n",
    "\n",
    "    grid_search = GridSearchCV(estimator = alg, param_grid = grid, cv = 2, n_jobs = -1, verbose = 2)\n",
    "\n",
    "    model = grid_search.fit(X,y)\n",
    "\n",
    "    if debug:\n",
    "        print('Best Score: ', model.best_score_)\n",
    "        print('Best Params: ', model.best_params_)\n",
    "    \n",
    "    return model.best_score_, model.best_params_\n"
   ]
  },
  {
   "cell_type": "code",
   "execution_count": 97,
   "metadata": {},
   "outputs": [],
   "source": [
    "param_grid = {\n",
    "    'bootstrap': [True,False],\n",
    "    'max_depth': [80, 90, 100, 110],\n",
    "    'max_features': [2, 3],\n",
    "    'min_samples_leaf': [3, 4, 5],\n",
    "    'min_samples_split': [8, 10, 12],\n",
    "    'n_estimators': [100, 200, 300, 1000]\n",
    "}\n",
    "### Uncomment to run (WARNING: Takes like 5 minutes)\n",
    "# getBestSearch(get_random_forest,param_grid)"
   ]
  },
  {
   "cell_type": "code",
   "execution_count": 99,
   "metadata": {},
   "outputs": [],
   "source": [
    "### Sampling (This should work if the ASHDASJDSAKD LIBRARY IS IMPORTED)\n",
    "def build_pipeline(algorithm,oversample=True,undersample=True):\n",
    "\n",
    "\n",
    "    if(oversample):\n",
    "        return Pipeline([\n",
    "            ('sampling',SMOTE(random_state = 20)),\n",
    "            ('classification',algorithm)\n",
    "        ])\n",
    "    else:\n",
    "        return  Pipeline([\n",
    "            ('classification',algorithm)\n",
    "        ])\n",
    "\n",
    "    return pipeline"
   ]
  },
  {
   "cell_type": "code",
   "execution_count": 100,
   "metadata": {},
   "outputs": [
    {
     "name": "stdout",
     "output_type": "stream",
     "text": [
      "AUC=0.842857142857143\n",
      "AUC=0.8557504873294347\n",
      "AUC=0.6920077972709552\n",
      "AUC=0.7023809523809523\n",
      "AUC=0.6984126984126984\n",
      "Average AUC = 0.7582818156502368\n"
     ]
    }
   ],
   "source": [
    "import numpy as np\n",
    "from sklearn.model_selection import StratifiedKFold\n",
    "\n",
    "train = pd.read_csv('../../project/banking_data/loanUnitedTrain.csv', sep=',')\n",
    "df = utils.normalize_category(train)\n",
    "# df = utils.normalization(df,'loan_success')\n",
    "\n",
    "X = df.drop(columns=['loan_success'])\n",
    "y = df['loan_success']\n",
    "\n",
    "algorithm = RandomForestClassifier(bootstrap = False,\n",
    "                                    max_depth = 80,\n",
    "                                    max_features = 3,\n",
    "                                    min_samples_leaf = 3,\n",
    "                                    min_samples_split = 12,\n",
    "                                    n_estimators = 100)\n",
    "\n",
    "skf = StratifiedKFold(n_splits=5, random_state=True, shuffle=True)\n",
    "skf.get_n_splits(X, y)\n",
    "\n",
    "auc_list = []\n",
    "\n",
    "for train_index, test_index in skf.split(X, y):\n",
    "\n",
    "    X_train, X_test = X.iloc[train_index], X.iloc[test_index]\n",
    "    y_train, y_test = y.iloc[train_index], y.iloc[test_index]\n",
    "\n",
    "    ### Train the model\n",
    "    algorithm.fit(X_train, y_train)\n",
    "\n",
    "    ### Predict the outcome with the test data\n",
    "    y_pred = algorithm.predict_proba(X_test)\n",
    "    y_final = y_pred.transpose()[0]\n",
    "\n",
    "    auc = get_auc(y_test, y_final)\n",
    "    auc_list.append(auc)\n",
    "    print(f\"AUC={auc}\")\n",
    "\n",
    "### TODO: display statistics?\n",
    "avg = sum(auc_list)/len(auc_list)\n",
    "print(f\"Average AUC = {avg}\")\n",
    "\n",
    "    \n",
    "\n"
   ]
  }
 ],
 "metadata": {
  "interpreter": {
   "hash": "7c5c685faadbcbae1551fd6d5683e133251e0ca8e77eadbbc8e83131f99b1b14"
  },
  "kernelspec": {
   "display_name": "Python 3.7.0 64-bit ('base': conda)",
   "language": "python",
   "name": "python3"
  },
  "language_info": {
   "codemirror_mode": {
    "name": "ipython",
    "version": 3
   },
   "file_extension": ".py",
   "mimetype": "text/x-python",
   "name": "python",
   "nbconvert_exporter": "python",
   "pygments_lexer": "ipython3",
   "version": "3.7.0"
  },
  "orig_nbformat": 4
 },
 "nbformat": 4,
 "nbformat_minor": 2
}
