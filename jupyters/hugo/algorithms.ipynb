{
 "cells": [
  {
   "cell_type": "markdown",
   "metadata": {},
   "source": [
    "### Imported libraries and Scripts"
   ]
  },
  {
   "cell_type": "code",
   "execution_count": 178,
   "metadata": {},
   "outputs": [
    {
     "name": "stdout",
     "output_type": "stream",
     "text": [
      "The autoreload extension is already loaded. To reload it, use:\n",
      "  %reload_ext autoreload\n"
     ]
    },
    {
     "data": {
      "text/plain": [
       "<module 'utils' from 'c:\\\\Users\\\\utilizador\\\\Desktop\\\\ac-feup\\\\jupyters\\\\hugo\\\\utils.py'>"
      ]
     },
     "execution_count": 178,
     "metadata": {},
     "output_type": "execute_result"
    }
   ],
   "source": [
    "### imported Libraries\n",
    "import pandas as pd\n",
    "import numpy as np\n",
    "import importlib\n",
    "from pprint import pprint\n",
    "\n",
    "from sklearn.model_selection import train_test_split\n",
    "from sklearn.ensemble import RandomForestClassifier\n",
    "from sklearn import metrics\n",
    "from sklearn.model_selection import GridSearchCV\n",
    "from sklearn.model_selection import StratifiedKFold\n",
    "from sklearn.linear_model import LogisticRegression\n",
    "from sklearn.cluster import KMeans\n",
    "from sklearn.feature_selection import SelectKBest, chi2, f_classif\n",
    "\n",
    "# from sklearn.pipeline import Pipeline\n",
    "from imblearn.pipeline import Pipeline\n",
    "from imblearn.over_sampling import SMOTE\n",
    "\n",
    "# from sklearn.pipeline import Pipeline\n",
    "\n",
    "### Imported Scripts\n",
    "import utils\n",
    "\n",
    "%load_ext autoreload\n",
    "%autoreload 2\n",
    "\n",
    "importlib.reload(utils)\n"
   ]
  },
  {
   "cell_type": "markdown",
   "metadata": {},
   "source": [
    "### Data splitting"
   ]
  },
  {
   "cell_type": "code",
   "execution_count": 216,
   "metadata": {},
   "outputs": [],
   "source": [
    "### Split the data\n",
    "def split_dataset(df,ratio=0.7,debug=False):\n",
    "\n",
    "    ### Seperate the precition columns from output\n",
    "    X = df.drop(columns=['loan_success'])\n",
    "    y = df['loan_success']\n",
    "\n",
    "    select = SelectKBest(f_classif, k=15)\n",
    "    X_new = select.fit_transform(X, y)\n",
    "\n",
    "    filter = select.get_support()\n",
    "    features = X.columns\n",
    "\n",
    "    if debug:\n",
    "        print(\"Selected best 3:\")\n",
    "        print(features[filter])\n",
    "        print(X_new) \n",
    "\n",
    "    ### Apply splitting\n",
    "    X_train, X_test, y_train, y_test = train_test_split(X_new,y,train_size=ratio,test_size=1-ratio)\n",
    "\n",
    "    return X_train,X_test,y_train,y_test, features[filter]"
   ]
  },
  {
   "cell_type": "markdown",
   "metadata": {},
   "source": [
    "### Algorithms"
   ]
  },
  {
   "cell_type": "code",
   "execution_count": 180,
   "metadata": {},
   "outputs": [],
   "source": [
    "def get_random_forest():\n",
    "    return RandomForestClassifier(bootstrap = False,\n",
    "                                    max_depth = 80,\n",
    "                                    max_features = 3,\n",
    "                                    min_samples_leaf = 3,\n",
    "                                    min_samples_split = 12,\n",
    "                                    n_estimators = 100)"
   ]
  },
  {
   "cell_type": "code",
   "execution_count": 181,
   "metadata": {},
   "outputs": [],
   "source": [
    "def get_logistic_regression():\n",
    "    return LogisticRegression(random_state=10,solver='lbfgs',max_iter=200)"
   ]
  },
  {
   "cell_type": "markdown",
   "metadata": {},
   "source": [
    "### Auc Curve (Pass this to utils later)"
   ]
  },
  {
   "cell_type": "code",
   "execution_count": 182,
   "metadata": {},
   "outputs": [],
   "source": [
    "def get_auc(y_test,y_predicted):\n",
    "    fpr, tpr, _ = metrics.roc_curve(y_test, y_predicted,pos_label=-1)    \n",
    "    return metrics.auc(fpr, tpr)\n"
   ]
  },
  {
   "cell_type": "markdown",
   "metadata": {},
   "source": [
    "### Use *Grid Search Cross Validation* to find the best grid for an algorithm"
   ]
  },
  {
   "cell_type": "code",
   "execution_count": 183,
   "metadata": {},
   "outputs": [],
   "source": [
    "### Uses a grid search to generate random parameters to find the best grid model\n",
    "def getBestSearch(algorithm,grid,debug=True):\n",
    "\n",
    "    # train = pd.read_csv('../../project/banking_data/loanUnitedTrain.csv', sep=',')\n",
    "    train = pd.read_csv('../../csvs/loan_united_train.csv', sep=',')\n",
    "    train = utils.normalize_category(train)\n",
    "\n",
    "    X = train.drop(columns=['loan_success'])\n",
    "    y = train['loan_success']\n",
    "\n",
    "    alg = algorithm()\n",
    "\n",
    "    grid_search = GridSearchCV(estimator = alg, param_grid = grid, cv = 2, n_jobs = -1, verbose = 2)\n",
    "\n",
    "    model = grid_search.fit(X,y)\n",
    "\n",
    "    if debug:\n",
    "        print('Best Score: ', model.best_score_)\n",
    "        print('Best Params: ', model.best_params_)\n",
    "    \n",
    "    return model.best_score_, model.best_params_\n"
   ]
  },
  {
   "cell_type": "markdown",
   "metadata": {},
   "source": [
    "### Build a Pipeline to apply a sampling and a classification algorithm"
   ]
  },
  {
   "cell_type": "code",
   "execution_count": 184,
   "metadata": {},
   "outputs": [],
   "source": [
    "### Sampling (This should work if the ASHDASJDSAKD LIBRARY IS IMPORTED)\n",
    "### Don't do this\n",
    "def build_pipeline(algorithm,oversample=True,undersample=True):\n",
    "\n",
    "    if(oversample):\n",
    "        return Pipeline([\n",
    "            ('sampling',SMOTE(random_state = 20)),\n",
    "            ('classification',algorithm)\n",
    "        ])\n",
    "    else:\n",
    "        return  Pipeline([\n",
    "            ('classification',algorithm)\n",
    "        ])\n",
    "\n",
    "    return pipeline"
   ]
  },
  {
   "cell_type": "markdown",
   "metadata": {},
   "source": [
    "### Final Stratified Cross Validation"
   ]
  },
  {
   "cell_type": "code",
   "execution_count": 185,
   "metadata": {},
   "outputs": [],
   "source": [
    "import numpy as np\n",
    "from sklearn.model_selection import StratifiedKFold\n",
    "\n",
    "def final_CV(algorithm):\n",
    "    # train = pd.read_csv('../../project/banking_data/loanUnitedTrain.csv', sep=',')\n",
    "    train = pd.read_csv('../../csvs/loan_united_train.csv', sep=',')\n",
    "    df = utils.normalize_category(train)\n",
    "    # df = utils.normalization(df,'loan_success')\n",
    "\n",
    "    X = df.drop(columns=['loan_success'])\n",
    "    y = df['loan_success']\n",
    "\n",
    "    algorithm = algorithm()\n",
    "\n",
    "    skf = StratifiedKFold(n_splits=3, random_state=True, shuffle=True)\n",
    "    skf.get_n_splits(X, y)\n",
    "\n",
    "    model_list = []\n",
    "    auc_list = []\n",
    "\n",
    "    for train_index, test_index in skf.split(X, y):\n",
    "\n",
    "        X_train, X_test = X.iloc[train_index], X.iloc[test_index]\n",
    "        y_train, y_test = y.iloc[train_index], y.iloc[test_index]\n",
    "\n",
    "        ### Train the model\n",
    "        model = algorithm.fit(X_train, y_train)\n",
    "\n",
    "        ### Predict the outcome with the test data\n",
    "        y_pred = algorithm.predict_proba(X_test)\n",
    "        y_final = y_pred.transpose()[0]\n",
    "\n",
    "        auc = get_auc(y_test, y_final)\n",
    "        auc_list.append(auc)\n",
    "        model_list.append(model)\n",
    "        print(f\"AUC={auc}\")\n",
    "        \n",
    "    ### Get the best model\n",
    "    best_score = max(auc_list)\n",
    "    best_model = model_list[auc_list.index(best_score)]\n",
    "    \n",
    "    \n",
    "    ### Use the best model to get a prediction\n",
    "    test = pd.read_csv('../../csvs/loan_united_test.csv', sep=',')\n",
    "    test = utils.normalize_category(test)\n",
    "    \n",
    "    X = test.drop(columns=['loan_success'])\n",
    "    y_predicted = best_model.predict_proba(X)\n",
    "    y_final = y_predicted.transpose()[0]\n",
    "    \n",
    "    final_df = pd.DataFrame()\n",
    "    final_df['Id'] = test[\"loan_id\"]\n",
    "    final_df['Predicted'] = y_final\n",
    "    \n",
    "    \n",
    "    if True:\n",
    "        print(f\"Predictions:\\n {final_df}\")\n",
    "    \n",
    "    if True:\n",
    "        final_df.to_csv('CV.csv', index=False)\n",
    "        print(\"Sucessfully stored the predictions in a file named 'CV.csv'\")\n",
    "\n",
    "    ### TODO: display statistics?\n",
    "    avg = sum(auc_list)/len(auc_list)\n",
    "    print(f\"Average AUC = {avg}\")\n"
   ]
  },
  {
   "cell_type": "markdown",
   "metadata": {},
   "source": [
    "### Running an algorithm"
   ]
  },
  {
   "cell_type": "code",
   "execution_count": 217,
   "metadata": {},
   "outputs": [],
   "source": [
    "def training_algorithm(algorithm,debug=False):\n",
    "    ### Getting the dataset\n",
    "    # train = pd.read_csv('../../project/banking_data/loanUnitedTrain.csv', sep=',')\n",
    "    \n",
    "    # train = reverse_dates()\n",
    "    \n",
    "    train = pd.read_csv('../../csvs/loan_united_train.csv', sep=',')\n",
    "    train = utils.normalize_category(train)\n",
    "    \n",
    "    ### Getting a Model from training\n",
    "    \n",
    "    X_train,X_test,y_train,y_test, features = split_dataset(train)\n",
    "\n",
    "    \n",
    "    pipe = build_pipeline(algorithm())\n",
    "    model = pipe.fit(X_train,y_train)\n",
    "\n",
    "    y_predicted = model.predict_proba(X_test)\n",
    "\n",
    "    y_final = y_predicted.transpose()[0]\n",
    "\n",
    "    if debug:\n",
    "        score = model.score(X_test,y_test)\n",
    "        auc = get_auc(y_test,y_final)\n",
    "        print(f\"Score: {score}\")\n",
    "        print(f\"Auc: {auc}\")\n",
    "    \n",
    "    return model, features"
   ]
  },
  {
   "cell_type": "code",
   "execution_count": 218,
   "metadata": {},
   "outputs": [],
   "source": [
    "def testing_model(model,features,debug=False,write=False):\n",
    "    test = pd.read_csv('../../csvs/loan_united_test.csv', sep=',')\n",
    "    # test = pd.read_csv('../../project/banking_data/loanUnitedTest.csv', sep=',')\n",
    "    test = utils.normalize_category(test)\n",
    "\n",
    "    X = test.drop(columns=['loan_success'])\n",
    "    X = X[features]\n",
    "    # print(X)\n",
    "    # X_new = SelectKBest(f_classif, k=20).fit_transform(X)\n",
    "\n",
    "    y_predicted = model.predict_proba(X)\n",
    "    y_final = y_predicted.transpose()[0]\n",
    "    \n",
    "    final_df = pd.DataFrame()\n",
    "    final_df['Id'] = test[\"loan_id\"]\n",
    "    final_df['Predicted'] = y_final\n",
    "\n",
    "    if debug:\n",
    "        print(f\"Predictions:\\n {final_df}\")\n",
    "    \n",
    "    if write:\n",
    "        final_df.to_csv('out.csv', index=False)\n",
    "        print(\"Sucessfully stored the predictions in a file named 'out.csv'\")"
   ]
  },
  {
   "cell_type": "code",
   "execution_count": 219,
   "metadata": {},
   "outputs": [],
   "source": [
    "def run_algorithm(algorithm,debug = True,write=False):\n",
    "    \n",
    "    if(debug):\n",
    "        print(\"Running the provided algorithm\")\n",
    "    \n",
    "    model, features = training_algorithm(algorithm,debug=debug)\n",
    "    # print(features)\n",
    "    testing_model(model,features,debug=debug,write=write)"
   ]
  },
  {
   "cell_type": "markdown",
   "metadata": {},
   "source": [
    "### Choose your algorithm:"
   ]
  },
  {
   "cell_type": "code",
   "execution_count": 189,
   "metadata": {},
   "outputs": [],
   "source": [
    "### Leave the one you want to run uncommented\n",
    "algorithm = get_random_forest\n",
    "# algorithm = get_logistic_regression"
   ]
  },
  {
   "cell_type": "markdown",
   "metadata": {},
   "source": [
    "### Run the Chosen Algorithm"
   ]
  },
  {
   "cell_type": "code",
   "execution_count": 223,
   "metadata": {},
   "outputs": [
    {
     "name": "stdout",
     "output_type": "stream",
     "text": [
      "Running the provided algorithm\n",
      "Score: 0.8686868686868687\n",
      "Auc: 0.9008264462809917\n",
      "Predictions:\n",
      "        Id  Predicted\n",
      "0    5895   0.081188\n",
      "1    7122   0.597977\n",
      "2    6173   0.305047\n",
      "3    6142   0.327332\n",
      "4    5358   0.267666\n",
      "5    6095   0.093468\n",
      "6    6878   0.040429\n",
      "7    6554   0.449514\n",
      "8    6793   0.094993\n",
      "9    7286   0.198902\n",
      "10   6076   0.037992\n",
      "11   5134   0.139453\n",
      "12   5419   0.648082\n",
      "13   6255   0.738017\n",
      "14   5656   0.156983\n",
      "15   6934   0.268815\n",
      "16   6028   0.172215\n",
      "17   6490   0.065953\n",
      "18   6415   0.470684\n",
      "19   7087   0.045905\n",
      "20   5420   0.148334\n",
      "21   5977   0.087326\n",
      "22   6824   0.578600\n",
      "23   5207   0.023149\n",
      "24   7115   0.158817\n",
      "25   7250   0.044833\n",
      "26   6010   0.520837\n",
      "27   6088   0.631793\n",
      "28   5682   0.174350\n",
      "29   7201   0.078365\n",
      "..    ...        ...\n",
      "324  5698   0.402218\n",
      "325  5169   0.057571\n",
      "326  7294   0.040198\n",
      "327  5318   0.200401\n",
      "328  5368   0.088958\n",
      "329  6923   0.055778\n",
      "330  5463   0.063514\n",
      "331  5265   0.155171\n",
      "332  6321   0.114177\n",
      "333  5226   0.270032\n",
      "334  6868   0.106096\n",
      "335  4967   0.876535\n",
      "336  5293   0.080867\n",
      "337  5865   0.296377\n",
      "338  5841   0.062402\n",
      "339  5526   0.031455\n",
      "340  6852   0.076291\n",
      "341  6469   0.434591\n",
      "342  6168   0.069130\n",
      "343  7292   0.014338\n",
      "344  5036   0.131253\n",
      "345  5644   0.632367\n",
      "346  6856   0.302494\n",
      "347  5428   0.289858\n",
      "348  5027   0.156164\n",
      "349  4989   0.428867\n",
      "350  5221   0.099183\n",
      "351  6402   0.395422\n",
      "352  5346   0.141215\n",
      "353  6748   0.258895\n",
      "\n",
      "[354 rows x 2 columns]\n",
      "Sucessfully stored the predictions in a file named 'out.csv'\n"
     ]
    },
    {
     "name": "stderr",
     "output_type": "stream",
     "text": [
      "C:\\Users\\utilizador\\Anaconda3\\lib\\site-packages\\sklearn\\base.py:439: UserWarning: X has feature names, but RandomForestClassifier was fitted without feature names\n",
      "  f\"X has feature names, but {self.__class__.__name__} was fitted without\"\n"
     ]
    }
   ],
   "source": [
    "run_algorithm(algorithm,debug=True,write=True)"
   ]
  },
  {
   "cell_type": "markdown",
   "metadata": {},
   "source": [
    "### Execute Final Cross Validation"
   ]
  },
  {
   "cell_type": "code",
   "execution_count": 191,
   "metadata": {},
   "outputs": [
    {
     "name": "stdout",
     "output_type": "stream",
     "text": [
      "AUC=0.6941489361702128\n",
      "AUC=0.7758865248226949\n",
      "AUC=0.7553191489361702\n",
      "Predictions:\n",
      "        Id  Predicted\n",
      "0    5895   0.023387\n",
      "1    7122   0.354556\n",
      "2    6173   0.047091\n",
      "3    6142   0.101518\n",
      "4    5358   0.413213\n",
      "5    6095   0.096489\n",
      "6    6878   0.087152\n",
      "7    6554   0.155903\n",
      "8    6793   0.128714\n",
      "9    7286   0.180019\n",
      "10   6076   0.079755\n",
      "11   5134   0.139328\n",
      "12   5419   0.409593\n",
      "13   6255   0.212873\n",
      "14   5656   0.158139\n",
      "15   6934   0.318219\n",
      "16   6028   0.146354\n",
      "17   6490   0.147312\n",
      "18   6415   0.251320\n",
      "19   7087   0.037345\n",
      "20   5420   0.159592\n",
      "21   5977   0.103782\n",
      "22   6824   0.266071\n",
      "23   5207   0.164319\n",
      "24   7115   0.174611\n",
      "25   7250   0.014873\n",
      "26   6010   0.112976\n",
      "27   6088   0.163156\n",
      "28   5682   0.045520\n",
      "29   7201   0.040156\n",
      "..    ...        ...\n",
      "324  5698   0.242536\n",
      "325  5169   0.082994\n",
      "326  7294   0.069026\n",
      "327  5318   0.154086\n",
      "328  5368   0.144734\n",
      "329  6923   0.119647\n",
      "330  5463   0.155613\n",
      "331  5265   0.011667\n",
      "332  6321   0.031879\n",
      "333  5226   0.111872\n",
      "334  6868   0.085320\n",
      "335  4967   0.494514\n",
      "336  5293   0.033038\n",
      "337  5865   0.096898\n",
      "338  5841   0.043992\n",
      "339  5526   0.084442\n",
      "340  6852   0.060131\n",
      "341  6469   0.028720\n",
      "342  6168   0.141761\n",
      "343  7292   0.117730\n",
      "344  5036   0.055693\n",
      "345  5644   0.459526\n",
      "346  6856   0.104473\n",
      "347  5428   0.210492\n",
      "348  5027   0.028494\n",
      "349  4989   0.338849\n",
      "350  5221   0.038596\n",
      "351  6402   0.073482\n",
      "352  5346   0.052524\n",
      "353  6748   0.081573\n",
      "\n",
      "[354 rows x 2 columns]\n",
      "Sucessfully stored the predictions in a file named 'CV.csv'\n",
      "Average AUC = 0.7417848699763593\n"
     ]
    }
   ],
   "source": [
    "final_CV(algorithm)"
   ]
  },
  {
   "cell_type": "markdown",
   "metadata": {},
   "source": [
    "### Finding the best grid"
   ]
  },
  {
   "cell_type": "code",
   "execution_count": 192,
   "metadata": {},
   "outputs": [],
   "source": [
    "param_grid = {\n",
    "    'bootstrap': [True,False],\n",
    "    'max_depth': [80, 90, 100, 110],\n",
    "    'max_features': [2, 3],\n",
    "    'min_samples_leaf': [3, 4, 5],\n",
    "    'min_samples_split': [8, 10, 12],\n",
    "    'n_estimators': [100, 200, 300, 1000]\n",
    "}\n",
    "### Uncomment to run (WARNING: Takes like 5 minutes)\n",
    "# getBestSearch(get_random_forest,param_grid)"
   ]
  },
  {
   "cell_type": "code",
   "execution_count": 193,
   "metadata": {},
   "outputs": [],
   "source": [
    "def convert_date(df,column):\n",
    "    copy = df.copy()\n",
    "    date = copy[column]\n",
    "    \n",
    "    copy[column] =  date.apply(lambda x: datetime.datetime.strptime(x, '%d-%m-%Y').strftime('%Y%m%d'))\n",
    "\n",
    "    return copy\n",
    "\n",
    "import datetime\n",
    "\n",
    "def reverse_dates():\n",
    "    \n",
    "    train = pd.read_csv('../../csvs/loan_united_train.csv', sep=',')\n",
    "    columns = ['loan_date','account_creation']\n",
    "    df = train.copy()\n",
    "\n",
    "    for column in columns:\n",
    "        df = convert_date(df,column)\n",
    "        \n",
    "    return df"
   ]
  },
  {
   "cell_type": "markdown",
   "metadata": {},
   "source": [
    "### Clustering"
   ]
  },
  {
   "cell_type": "code",
   "execution_count": 194,
   "metadata": {},
   "outputs": [
    {
     "name": "stdout",
     "output_type": "stream",
     "text": [
      "KMeans(n_clusters=3)\n"
     ]
    }
   ],
   "source": [
    "import numpy as np\n",
    "from sklearn.cluster import KMeans\n",
    "from pprint import pprint\n",
    "\n",
    "train = pd.read_csv('../../csvs/loan_united_train.csv', sep=',')\n",
    "df = utils.normalize_category(train)\n",
    "# df = utils.normalization(df,'loan_success')\n",
    "\n",
    "X = df.drop(columns=['loan_success'])\n",
    "\n",
    "kmeans_model = KMeans(n_clusters=3).fit(X)\n",
    "# labels = kmeans_model.labels_\n",
    "# metrics.silhouette_score(X, labels, metric='euclidean')\n",
    "\n",
    "pprint(kmeans_model)\n"
   ]
  },
  {
   "cell_type": "code",
   "execution_count": 254,
   "metadata": {},
   "outputs": [],
   "source": [
    "def add_dummy(df,columns):\n",
    "    copy= df.copy()\n",
    "\n",
    "    for column in columns:\n",
    "        print(copy.shape)\n",
    "        dummies = pd.get_dummies(copy[column])\n",
    "        copy = copy.drop(column,axis=1)\n",
    "        copy = copy.join(dummies)\n",
    "    \n",
    "    return copy\n",
    "\n",
    "def df_dummies(test=False):\n",
    "    if test:\n",
    "        df = pd.read_csv('../../csvs/loan_united_test.csv', sep=',')\n",
    "    else:\n",
    "        df = pd.read_csv('../../csvs/loan_united_train.csv', sep=',')\n",
    "\n",
    "    columns = [\"account_frequency\",\"gender\",\"card_type\"]\n",
    "    return add_dummy(df,columns)\n"
   ]
  }
 ],
 "metadata": {
  "interpreter": {
   "hash": "7c5c685faadbcbae1551fd6d5683e133251e0ca8e77eadbbc8e83131f99b1b14"
  },
  "kernelspec": {
   "display_name": "Python 3.7.0 64-bit ('base': conda)",
   "language": "python",
   "name": "python3"
  },
  "language_info": {
   "codemirror_mode": {
    "name": "ipython",
    "version": 3
   },
   "file_extension": ".py",
   "mimetype": "text/x-python",
   "name": "python",
   "nbconvert_exporter": "python",
   "pygments_lexer": "ipython3",
   "version": "3.7.0"
  },
  "orig_nbformat": 4
 },
 "nbformat": 4,
 "nbformat_minor": 2
}
