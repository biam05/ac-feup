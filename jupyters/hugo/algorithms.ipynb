{
 "cells": [
  {
   "cell_type": "markdown",
   "metadata": {},
   "source": [
    "### Imported libraries and Scripts"
   ]
  },
  {
   "cell_type": "code",
   "execution_count": 226,
   "metadata": {},
   "outputs": [
    {
     "name": "stdout",
     "output_type": "stream",
     "text": [
      "The autoreload extension is already loaded. To reload it, use:\n",
      "  %reload_ext autoreload\n"
     ]
    },
    {
     "data": {
      "text/plain": [
       "<module 'utils' from 'c:\\\\Users\\\\utilizador\\\\Desktop\\\\ac-feup\\\\jupyters\\\\hugo\\\\utils.py'>"
      ]
     },
     "execution_count": 226,
     "metadata": {},
     "output_type": "execute_result"
    }
   ],
   "source": [
    "### imported Libraries\n",
    "import pandas as pd\n",
    "import numpy as np\n",
    "import importlib\n",
    "from pprint import pprint\n",
    "\n",
    "from sklearn.model_selection import train_test_split\n",
    "from sklearn.ensemble import RandomForestClassifier\n",
    "from sklearn import metrics\n",
    "from sklearn.model_selection import GridSearchCV\n",
    "from sklearn.model_selection import StratifiedKFold\n",
    "from sklearn.linear_model import LogisticRegression\n",
    "\n",
    "# from sklearn.pipeline import Pipeline\n",
    "from imblearn.pipeline import Pipeline\n",
    "from imblearn.over_sampling import SMOTE \n",
    "\n",
    "### Imported Scripts\n",
    "import utils\n",
    "\n",
    "%load_ext autoreload\n",
    "%autoreload 2\n",
    "\n",
    "importlib.reload(utils)\n"
   ]
  },
  {
   "cell_type": "markdown",
   "metadata": {},
   "source": [
    "### Data splitting"
   ]
  },
  {
   "cell_type": "code",
   "execution_count": 227,
   "metadata": {},
   "outputs": [],
   "source": [
    "### Split the data\n",
    "def split_dataset(df,ratio=0.7,debug=False):\n",
    "\n",
    "    ### Seperate the precition columns from output\n",
    "    X = df.drop(columns=['loan_success'])\n",
    "    y = df['loan_success']\n",
    "\n",
    "    ### Apply splitting\n",
    "    X_train, X_test, y_train, y_test = train_test_split(X,y,train_size=ratio,test_size=1-ratio)\n",
    "\n",
    "    return X_train,X_test,y_train,y_test"
   ]
  },
  {
   "cell_type": "markdown",
   "metadata": {},
   "source": [
    "### Algorithms"
   ]
  },
  {
   "cell_type": "code",
   "execution_count": 228,
   "metadata": {},
   "outputs": [],
   "source": [
    "def get_random_forest():\n",
    "    return RandomForestClassifier(bootstrap = False,\n",
    "                                    max_depth = 80,\n",
    "                                    max_features = 3,\n",
    "                                    min_samples_leaf = 3,\n",
    "                                    min_samples_split = 12,\n",
    "                                    n_estimators = 100)"
   ]
  },
  {
   "cell_type": "code",
   "execution_count": 229,
   "metadata": {},
   "outputs": [],
   "source": [
    "def get_logistic_regression():\n",
    "    return LogisticRegression(random_state=10,solver='lbfgs',max_iter=200)"
   ]
  },
  {
   "cell_type": "markdown",
   "metadata": {},
   "source": [
    "### Auc Curve (Pass this to utils later)"
   ]
  },
  {
   "cell_type": "code",
   "execution_count": 230,
   "metadata": {},
   "outputs": [],
   "source": [
    "def get_auc(y_test,y_predicted):\n",
    "    fpr, tpr, _ = metrics.roc_curve(y_test, y_predicted,pos_label=-1)    \n",
    "    return metrics.auc(fpr, tpr)\n"
   ]
  },
  {
   "cell_type": "markdown",
   "metadata": {},
   "source": [
    "### Use *Grid Search Cross Validation* to find the best grid for an algorithm"
   ]
  },
  {
   "cell_type": "code",
   "execution_count": 231,
   "metadata": {},
   "outputs": [],
   "source": [
    "### Uses a grid search to generate random parameters to find the best grid model\n",
    "def getBestSearch(algorithm,grid,debug=True):\n",
    "\n",
    "    # train = pd.read_csv('../../project/banking_data/loanUnitedTrain.csv', sep=',')\n",
    "    train = pd.read_csv('../../csvs/loan_united_train.csv', sep=',')\n",
    "    train = utils.normalize_category(train)\n",
    "\n",
    "    X = train.drop(columns=['loan_success'])\n",
    "    y = train['loan_success']\n",
    "\n",
    "    alg = algorithm()\n",
    "\n",
    "    grid_search = GridSearchCV(estimator = alg, param_grid = grid, cv = 2, n_jobs = -1, verbose = 2)\n",
    "\n",
    "    model = grid_search.fit(X,y)\n",
    "\n",
    "    if debug:\n",
    "        print('Best Score: ', model.best_score_)\n",
    "        print('Best Params: ', model.best_params_)\n",
    "    \n",
    "    return model.best_score_, model.best_params_\n"
   ]
  },
  {
   "cell_type": "markdown",
   "metadata": {},
   "source": [
    "### Build a Pipeline to apply a sampling and a classification algorithm"
   ]
  },
  {
   "cell_type": "code",
   "execution_count": 232,
   "metadata": {},
   "outputs": [],
   "source": [
    "### Sampling (This should work if the ASHDASJDSAKD LIBRARY IS IMPORTED)\n",
    "### Don't do this\n",
    "def build_pipeline(algorithm,oversample=True,undersample=True):\n",
    "\n",
    "    if(oversample):\n",
    "        return Pipeline([\n",
    "            ('sampling',SMOTE(random_state = 20)),\n",
    "            ('classification',algorithm)\n",
    "        ])\n",
    "    else:\n",
    "        return  Pipeline([\n",
    "            ('classification',algorithm)\n",
    "        ])\n",
    "\n",
    "    return pipeline"
   ]
  },
  {
   "cell_type": "markdown",
   "metadata": {},
   "source": [
    "### Final Stratified Cross Validation"
   ]
  },
  {
   "cell_type": "code",
   "execution_count": 243,
   "metadata": {},
   "outputs": [],
   "source": [
    "import numpy as np\n",
    "from sklearn.model_selection import StratifiedKFold\n",
    "\n",
    "def final_CV(algorithm):\n",
    "    # train = pd.read_csv('../../project/banking_data/loanUnitedTrain.csv', sep=',')\n",
    "    train = pd.read_csv('../../csvs/loan_united_train.csv', sep=',')\n",
    "    df = utils.normalize_category(train)\n",
    "    # df = utils.normalization(df,'loan_success')\n",
    "\n",
    "    X = df.drop(columns=['loan_success'])\n",
    "    y = df['loan_success']\n",
    "\n",
    "    algorithm = algorithm()\n",
    "\n",
    "    skf = StratifiedKFold(n_splits=5, random_state=True, shuffle=True)\n",
    "    skf.get_n_splits(X, y)\n",
    "\n",
    "    auc_list = []\n",
    "\n",
    "    for train_index, test_index in skf.split(X, y):\n",
    "\n",
    "        X_train, X_test = X.iloc[train_index], X.iloc[test_index]\n",
    "        y_train, y_test = y.iloc[train_index], y.iloc[test_index]\n",
    "\n",
    "        ### Train the model\n",
    "        algorithm.fit(X_train, y_train)\n",
    "\n",
    "        ### Predict the outcome with the test data\n",
    "        y_pred = algorithm.predict_proba(X_test)\n",
    "        y_final = y_pred.transpose()[0]\n",
    "\n",
    "        auc = get_auc(y_test, y_final)\n",
    "        auc_list.append(auc)\n",
    "        print(f\"AUC={auc}\")\n",
    "\n",
    "    ### TODO: display statistics?\n",
    "    avg = sum(auc_list)/len(auc_list)\n",
    "    print(f\"Average AUC = {avg}\")\n"
   ]
  },
  {
   "cell_type": "markdown",
   "metadata": {},
   "source": [
    "### Running an algorithm"
   ]
  },
  {
   "cell_type": "code",
   "execution_count": 235,
   "metadata": {},
   "outputs": [],
   "source": [
    "def training_algorithm(algorithm,debug=False):\n",
    "    ### Getting the dataset\n",
    "    # train = pd.read_csv('../../project/banking_data/loanUnitedTrain.csv', sep=',')\n",
    "    train = pd.read_csv('../../csvs/loan_united_train.csv', sep=',')\n",
    "    train = utils.normalize_category(train)\n",
    "\n",
    "    ### Getting a Model from training\n",
    "    X_train,X_test,y_train,y_test = split_dataset(train)\n",
    "\n",
    "    # rf = get_random_forest()\n",
    "\n",
    "    pipe = build_pipeline(algorithm())\n",
    "\n",
    "    model = pipe.fit(X_train,y_train)\n",
    "\n",
    "    y_predicted = model.predict_proba(X_test)\n",
    "\n",
    "    y_final = y_predicted.transpose()[0]\n",
    "\n",
    "    if debug:\n",
    "        score = model.score(X_test,y_test)\n",
    "        auc = get_auc(y_test,y_final)\n",
    "        print(f\"Score: {score}\")\n",
    "        print(f\"Auc: {auc}\")\n",
    "    \n",
    "    return model"
   ]
  },
  {
   "cell_type": "code",
   "execution_count": 236,
   "metadata": {},
   "outputs": [],
   "source": [
    "def testing_model(model,debug=False,write=False):\n",
    "    test = pd.read_csv('../../csvs/loan_united_test.csv', sep=',')\n",
    "    # test = pd.read_csv('../../project/banking_data/loanUnitedTest.csv', sep=',')\n",
    "    test = utils.normalize_category(test)\n",
    "\n",
    "    X = test.drop(columns=['loan_success'])\n",
    "\n",
    "    y_predicted = model.predict_proba(X)\n",
    "    y_final = y_predicted.transpose()[0]\n",
    "    \n",
    "    final_df = pd.DataFrame()\n",
    "    final_df['Id'] = test[\"loan_id\"]\n",
    "    final_df['Predicted'] = y_final\n",
    "\n",
    "    if debug:\n",
    "        print(f\"Predictions:\\n {final_df}\")\n",
    "    \n",
    "    if write:\n",
    "        final_df.to_csv('out.csv', index=False)\n",
    "        print(\"Sucessfully stored the predictions in a file named 'out.csv'\")"
   ]
  },
  {
   "cell_type": "code",
   "execution_count": 237,
   "metadata": {},
   "outputs": [],
   "source": [
    "def run_algorithm(algorithm,debug = True,write=False):\n",
    "    \n",
    "    if(debug):\n",
    "        print(\"Running the provided algorithm\")\n",
    "    \n",
    "    model = training_algorithm(algorithm,debug=debug)\n",
    "    testing_model(model,debug=debug,write=write)"
   ]
  },
  {
   "cell_type": "markdown",
   "metadata": {},
   "source": [
    "### Choose your algorithm:"
   ]
  },
  {
   "cell_type": "code",
   "execution_count": 238,
   "metadata": {},
   "outputs": [],
   "source": [
    "### Leave the one you want to run uncommented\n",
    "algorithm = get_random_forest\n",
    "# algorithm = get_logistic_regression"
   ]
  },
  {
   "cell_type": "markdown",
   "metadata": {},
   "source": [
    "### Run the Chosen Algorithm"
   ]
  },
  {
   "cell_type": "code",
   "execution_count": 239,
   "metadata": {},
   "outputs": [
    {
     "name": "stdout",
     "output_type": "stream",
     "text": [
      "Running the provided algorithm\n",
      "Score: 0.8585858585858586\n",
      "Auc: 0.6581325301204819\n",
      "Predictions:\n",
      "        Id  Predicted\n",
      "0    5895   0.068149\n",
      "1    7122   0.313707\n",
      "2    6173   0.127031\n",
      "3    6142   0.132929\n",
      "4    5358   0.152305\n",
      "5    6095   0.189960\n",
      "6    6878   0.160897\n",
      "7    6554   0.220202\n",
      "8    6793   0.145295\n",
      "9    7286   0.094040\n",
      "10   6076   0.083750\n",
      "11   5134   0.082495\n",
      "12   5419   0.487246\n",
      "13   6255   0.441263\n",
      "14   5656   0.414065\n",
      "15   6934   0.293253\n",
      "16   6028   0.140232\n",
      "17   6490   0.141036\n",
      "18   6415   0.527671\n",
      "19   7087   0.041867\n",
      "20   5420   0.284621\n",
      "21   5977   0.179185\n",
      "22   6824   0.328979\n",
      "23   5207   0.226907\n",
      "24   7115   0.131389\n",
      "25   7250   0.166049\n",
      "26   6010   0.208472\n",
      "27   6088   0.216162\n",
      "28   5682   0.087727\n",
      "29   7201   0.069530\n",
      "..    ...        ...\n",
      "324  5698   0.343927\n",
      "325  5169   0.139013\n",
      "326  7294   0.127269\n",
      "327  5318   0.118122\n",
      "328  5368   0.212492\n",
      "329  6923   0.168381\n",
      "330  5463   0.275878\n",
      "331  5265   0.113168\n",
      "332  6321   0.073101\n",
      "333  5226   0.278893\n",
      "334  6868   0.073877\n",
      "335  4967   0.293992\n",
      "336  5293   0.101544\n",
      "337  5865   0.146203\n",
      "338  5841   0.161215\n",
      "339  5526   0.031691\n",
      "340  6852   0.210074\n",
      "341  6469   0.242641\n",
      "342  6168   0.287429\n",
      "343  7292   0.079056\n",
      "344  5036   0.156700\n",
      "345  5644   0.393168\n",
      "346  6856   0.144070\n",
      "347  5428   0.114003\n",
      "348  5027   0.035988\n",
      "349  4989   0.275311\n",
      "350  5221   0.170592\n",
      "351  6402   0.167819\n",
      "352  5346   0.190585\n",
      "353  6748   0.181392\n",
      "\n",
      "[354 rows x 2 columns]\n"
     ]
    }
   ],
   "source": [
    "run_algorithm(algorithm,debug=True,write=False)"
   ]
  },
  {
   "cell_type": "markdown",
   "metadata": {},
   "source": [
    "### Execute Final Cross Validation"
   ]
  },
  {
   "cell_type": "code",
   "execution_count": 244,
   "metadata": {},
   "outputs": [
    {
     "name": "stdout",
     "output_type": "stream",
     "text": [
      "AUC=0.8053571428571429\n",
      "AUC=0.7758284600389864\n",
      "AUC=0.6744639376218324\n",
      "AUC=0.751984126984127\n",
      "AUC=0.7539682539682541\n",
      "Average AUC = 0.7523203842940686\n"
     ]
    }
   ],
   "source": [
    "final_CV(algorithm)"
   ]
  },
  {
   "cell_type": "markdown",
   "metadata": {},
   "source": [
    "### Finding the best grid"
   ]
  },
  {
   "cell_type": "code",
   "execution_count": 242,
   "metadata": {},
   "outputs": [
    {
     "name": "stdout",
     "output_type": "stream",
     "text": [
      "Fitting 2 folds for each of 576 candidates, totalling 1152 fits\n",
      "Best Score:  0.8689024390243902\n",
      "Best Params:  {'bootstrap': False, 'max_depth': 110, 'max_features': 3, 'min_samples_leaf': 4, 'min_samples_split': 12, 'n_estimators': 100}\n"
     ]
    },
    {
     "data": {
      "text/plain": [
       "(0.8689024390243902,\n",
       " {'bootstrap': False,\n",
       "  'max_depth': 110,\n",
       "  'max_features': 3,\n",
       "  'min_samples_leaf': 4,\n",
       "  'min_samples_split': 12,\n",
       "  'n_estimators': 100})"
      ]
     },
     "execution_count": 242,
     "metadata": {},
     "output_type": "execute_result"
    }
   ],
   "source": [
    "param_grid = {\n",
    "    'bootstrap': [True,False],\n",
    "    'max_depth': [80, 90, 100, 110],\n",
    "    'max_features': [2, 3],\n",
    "    'min_samples_leaf': [3, 4, 5],\n",
    "    'min_samples_split': [8, 10, 12],\n",
    "    'n_estimators': [100, 200, 300, 1000]\n",
    "}\n",
    "### Uncomment to run (WARNING: Takes like 5 minutes)\n",
    "getBestSearch(get_random_forest,param_grid)"
   ]
  }
 ],
 "metadata": {
  "interpreter": {
   "hash": "7c5c685faadbcbae1551fd6d5683e133251e0ca8e77eadbbc8e83131f99b1b14"
  },
  "kernelspec": {
   "display_name": "Python 3.7.0 64-bit ('base': conda)",
   "language": "python",
   "name": "python3"
  },
  "language_info": {
   "codemirror_mode": {
    "name": "ipython",
    "version": 3
   },
   "file_extension": ".py",
   "mimetype": "text/x-python",
   "name": "python",
   "nbconvert_exporter": "python",
   "pygments_lexer": "ipython3",
   "version": "3.7.0"
  },
  "orig_nbformat": 4
 },
 "nbformat": 4,
 "nbformat_minor": 2
}
