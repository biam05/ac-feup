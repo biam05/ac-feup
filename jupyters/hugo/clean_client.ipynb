{
 "cells": [
  {
   "cell_type": "code",
   "execution_count": 1,
   "metadata": {},
   "outputs": [],
   "source": [
    "import pandas as pd\n",
    "import numpy as np\n",
    "import matplotlib.pyplot as plt\n",
    "\n",
    "### Script Imports\n",
    "import utils\n",
    "\n",
    "\n",
    "### Import the clients file\n",
    "na_values= ['None', '?',]\n",
    "df = pd.read_csv('../../project/banking_data/client.csv', sep=';',na_values=na_values)\n"
   ]
  },
  {
   "cell_type": "code",
   "execution_count": 3,
   "metadata": {},
   "outputs": [],
   "source": [
    "### Date conversion with creation of gender column\n",
    "clients = utils.date_conversion_genders(df,'birth_number')\n",
    "\n",
    "### Reordering Columns\n",
    "cols = clients.columns.tolist()\n",
    "cols = cols[0:2] + cols[3:4] + cols[2:3]\n",
    "clients = clients[cols]\n"
   ]
  }
 ],
 "metadata": {
  "interpreter": {
   "hash": "7c5c685faadbcbae1551fd6d5683e133251e0ca8e77eadbbc8e83131f99b1b14"
  },
  "kernelspec": {
   "display_name": "Python 3.7.0 64-bit ('base': conda)",
   "language": "python",
   "name": "python3"
  },
  "language_info": {
   "codemirror_mode": {
    "name": "ipython",
    "version": 3
   },
   "file_extension": ".py",
   "mimetype": "text/x-python",
   "name": "python",
   "nbconvert_exporter": "python",
   "pygments_lexer": "ipython3",
   "version": "3.7.0"
  },
  "orig_nbformat": 4
 },
 "nbformat": 4,
 "nbformat_minor": 2
}
