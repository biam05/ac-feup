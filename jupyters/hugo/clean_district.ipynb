{
 "cells": [
  {
   "cell_type": "code",
   "execution_count": 5,
   "metadata": {},
   "outputs": [
    {
     "data": {
      "text/plain": [
       "code                                                 0\n",
       "name                                                 0\n",
       "region                                               0\n",
       "no. of inhabitants                                   0\n",
       "no. of municipalities with inhabitants < 499         0\n",
       "no. of municipalities with inhabitants 500-1999      0\n",
       "no. of municipalities with inhabitants 2000-9999     0\n",
       "no. of municipalities with inhabitants >10000        0\n",
       "no. of cities                                        0\n",
       "ratio of urban inhabitants                           0\n",
       "average salary                                       0\n",
       "unemploymant rate '95                                1\n",
       "unemploymant rate '96                                0\n",
       "no. of enterpreneurs per 1000 inhabitants            0\n",
       "no. of commited crimes '95                           1\n",
       "no. of commited crimes '96                           0\n",
       "dtype: int64"
      ]
     },
     "execution_count": 5,
     "metadata": {},
     "output_type": "execute_result"
    }
   ],
   "source": [
    "### Library Imports\n",
    "import pandas as pd\n",
    "import numpy as np\n",
    "import matplotlib.pyplot as plt\n",
    "\n",
    "### Script Imports\n",
    "import utils\n",
    "\n",
    "\n",
    "### Import the loans file\n",
    "na_values= ['None', '?',]\n",
    "df = pd.read_csv('../../project/banking_data/district.csv', sep=';',na_values=na_values)\n",
    "\n",
    "df.isnull().sum()"
   ]
  },
  {
   "cell_type": "code",
   "execution_count": 28,
   "metadata": {},
   "outputs": [],
   "source": [
    "### Replace null values in the '95 column for the ones on the '96 column\n",
    "#districts = utils.replace_null(df)\n",
    "\n",
    "districts = df.copy()\n",
    "districts[\"no. of commited crimes \\'95 \"] = districts[\"no. of commited crimes \\'95 \"].combine_first(districts[\"no. of commited crimes \\'96 \"])\n",
    "districts[\"unemploymant rate \\'95 \"] = districts[\"unemploymant rate \\'95 \"].combine_first(districts[\"unemploymant rate \\'96 \"])\n"
   ]
  },
  {
   "cell_type": "code",
   "execution_count": 31,
   "metadata": {},
   "outputs": [],
   "source": [
    "### Added columns for crime analysis\n",
    "districts['crime_growth'] = districts[\"no. of commited crimes '96 \"] - districts[\"no. of commited crimes '95 \"]\n",
    "districts['total_crime'] = districts[\"no. of commited crimes '96 \"] + districts[\"no. of commited crimes '95 \"]\n",
    "\n",
    "### Added column for uneployment growth analysis\n",
    "districts['unemploymant_growth'] = districts[\"unemploymant rate '96 \"] - districts[\"unemploymant rate '95 \"]\n",
    "\n",
    "### Reorder columns\n",
    "cols = districts.columns.tolist()\n",
    "cols = cols[:13] + cols[-1:] + cols[13:-1]\n",
    "\n",
    "districts = districts[cols]"
   ]
  }
 ],
 "metadata": {
  "interpreter": {
   "hash": "7c5c685faadbcbae1551fd6d5683e133251e0ca8e77eadbbc8e83131f99b1b14"
  },
  "kernelspec": {
   "display_name": "Python 3.7.0 64-bit ('base': conda)",
   "language": "python",
   "name": "python3"
  },
  "language_info": {
   "codemirror_mode": {
    "name": "ipython",
    "version": 3
   },
   "file_extension": ".py",
   "mimetype": "text/x-python",
   "name": "python",
   "nbconvert_exporter": "python",
   "pygments_lexer": "ipython3",
   "version": "3.7.0"
  },
  "orig_nbformat": 4
 },
 "nbformat": 4,
 "nbformat_minor": 2
}
