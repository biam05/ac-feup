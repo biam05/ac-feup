{
 "cells": [
  {
   "cell_type": "code",
   "execution_count": 75,
   "metadata": {},
   "outputs": [],
   "source": [
    "### Library Imports\n",
    "import pandas as pd\n",
    "import numpy as np\n",
    "### Script Imports\n",
    "import utils\n"
   ]
  },
  {
   "cell_type": "code",
   "execution_count": 13,
   "metadata": {},
   "outputs": [],
   "source": [
    "### Clean Accounts\n",
    "\n",
    "def clean_account():\n",
    "    \n",
    "    ### Import the loans file\n",
    "    na_values= ['None', '?',]\n",
    "    df = pd.read_csv('../../project/banking_data/account.csv', sep=';',na_values=na_values)\n",
    "    \n",
    "    ### Date conversion\n",
    "    return utils.date_conversion(df,'date')"
   ]
  },
  {
   "cell_type": "code",
   "execution_count": 24,
   "metadata": {},
   "outputs": [],
   "source": [
    "def clean_card(test = False):\n",
    "    ### Import the loans file\n",
    "    na_values= ['None', '?',]\n",
    "    if(test):\n",
    "        df = pd.read_csv('../../project/banking_data/card_test.csv', sep=';',na_values=na_values)\n",
    "    else:\n",
    "        df = pd.read_csv('../../project/banking_data/card_train.csv', sep=';',na_values=na_values)\n",
    "\n",
    "    return utils.date_conversion(df,'issued')\n"
   ]
  },
  {
   "cell_type": "code",
   "execution_count": 15,
   "metadata": {},
   "outputs": [],
   "source": [
    "def clean_client():\n",
    "    ### Import the clients file\n",
    "    na_values= ['None', '?',]\n",
    "    df = pd.read_csv('../../project/banking_data/client.csv', sep=';',na_values=na_values)\n",
    "    \n",
    "\n",
    "    ### Date conversion with creation of gender column\n",
    "    df = utils.date_conversion_genders(df,'birth_number')\n",
    "    \n",
    "    ### Reordering Columns\n",
    "    cols = df.columns.tolist()\n",
    "    cols = cols[0:2] + cols[3:4] + cols[2:3]\n",
    "    return df[cols]"
   ]
  },
  {
   "cell_type": "code",
   "execution_count": 16,
   "metadata": {},
   "outputs": [],
   "source": [
    "def clean_district():\n",
    "    ### Import the loans file\n",
    "    na_values= ['None', '?',]\n",
    "    df = pd.read_csv('../../project/banking_data/district.csv', sep=';',na_values=na_values)\n",
    "\n",
    "    ### Replace null values in the '95 column for the ones on the '96 column\n",
    "    districts = df.copy()\n",
    "    districts[\"no. of commited crimes \\'95 \"] = districts[\"no. of commited crimes \\'95 \"].combine_first(districts[\"no. of commited crimes \\'96 \"])\n",
    "    districts[\"unemploymant rate \\'95 \"] = districts[\"unemploymant rate \\'95 \"].combine_first(districts[\"unemploymant rate \\'96 \"])\n",
    "    \n",
    "    ### Added columns for crime analysis\n",
    "    districts['crime_growth'] = districts[\"no. of commited crimes '96 \"] - districts[\"no. of commited crimes '95 \"]\n",
    "    districts['total_crime'] = districts[\"no. of commited crimes '96 \"] + districts[\"no. of commited crimes '95 \"]\n",
    "\n",
    "    ### Added column for uneployment growth analysis\n",
    "    districts['unemploymant_growth'] = districts[\"unemploymant rate '96 \"] - districts[\"unemploymant rate '95 \"]\n",
    "\n",
    "    ### Reorder columns\n",
    "    cols = districts.columns.tolist()\n",
    "    cols = cols[:13] + cols[-1:] + cols[13:-1]\n",
    "\n",
    "    return districts[cols]    \n",
    "    "
   ]
  },
  {
   "cell_type": "code",
   "execution_count": 17,
   "metadata": {},
   "outputs": [],
   "source": [
    "def clean_loans(test=False):\n",
    "    ### Import the loans file\n",
    "    na_values= ['None', '?',]\n",
    "    if(test):\n",
    "        df = pd.read_csv('../../project/banking_data/loan_test.csv', sep=';',na_values=na_values)\n",
    "    else:\n",
    "        df = pd.read_csv('../../project/banking_data/loan_train.csv', sep=';',na_values=na_values)\n",
    "    \n",
    "    return utils.date_conversion(df,'date')"
   ]
  },
  {
   "cell_type": "code",
   "execution_count": 18,
   "metadata": {},
   "outputs": [],
   "source": [
    "def clean_trans(test = False):\n",
    "    ### Import the trans file\n",
    "    \n",
    "    na_values= ['None', '?',]\n",
    "    \n",
    "    if test:\n",
    "        df = pd.read_csv('../../project/banking_data/trans_test.csv', sep=';',na_values=na_values)\n",
    "    else:\n",
    "        df = pd.read_csv('../../project/banking_data/trans_train.csv', sep=';',na_values=na_values)\n",
    "    \n",
    "\n",
    "\n",
    "    ### Convert date format\n",
    "    trans = utils.date_conversion(df,'date')\n",
    "\n",
    "    ### Drop columns with too many missing values\n",
    "    trans = utils.drop_null_columns(trans,0.4)\n",
    "\n",
    "    ### Replace null values from the operation column for the most common occurence\n",
    "    trans['operation'] = trans['operation'].fillna(trans['operation'].value_counts().idxmax())\n",
    "    \n",
    "    return trans"
   ]
  }
 ],
 "metadata": {
  "interpreter": {
   "hash": "b85369e7066991ea4688da337fe1574f2ceed7d964fbed5d10af9bb4e2cb5fb8"
  },
  "kernelspec": {
   "display_name": "Python 3.7.0 64-bit ('base': conda)",
   "language": "python",
   "name": "python3"
  },
  "language_info": {
   "codemirror_mode": {
    "name": "ipython",
    "version": 3
   },
   "file_extension": ".py",
   "mimetype": "text/x-python",
   "name": "python",
   "nbconvert_exporter": "python",
   "pygments_lexer": "ipython3",
   "version": "3.8.5"
  },
  "orig_nbformat": 4
 },
 "nbformat": 4,
 "nbformat_minor": 2
}
