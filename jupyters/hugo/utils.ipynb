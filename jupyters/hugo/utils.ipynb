{
 "cells": [
  {
   "cell_type": "code",
   "execution_count": 1,
   "metadata": {},
   "outputs": [],
   "source": [
    "### Import Modules\n",
    "from datetime import datetime\n",
    "from sklearn import preprocessing\n",
    "from scipy import stats\n",
    "import numpy as np\n",
    "\n",
    "### Import other script\n",
    "import utils"
   ]
  },
  {
   "cell_type": "code",
   "execution_count": null,
   "metadata": {},
   "outputs": [],
   "source": [
    "### Convert numerical date to datetime formats\n",
    "def date_conversion(df,column,dt_format = '%d-%m-%Y'):\n",
    "    df_copy = df.copy()\n",
    "    date = df_copy[column]                                                                        # Get the actual column\n",
    "    date = date.astype(str)                                                                       # Convert to string to add the century\n",
    "    date = '19' + date                                                                            # Add the century value\n",
    "    df_copy[column] = date.apply(lambda x: (datetime.strptime(x,'%Y%m%d')).strftime(dt_format))   # Convert to the desired date format\n",
    "\n",
    "    return df_copy\n",
    "\n",
    "\n",
    "def date_conversion_genders(df,column,dt_format = '%d-%m-%Y'):\n",
    "    df_copy = df.copy()\n",
    "    date = df_copy[column]                                            # Get the actual column\n",
    "    date = date.astype(str)                                      # Convert to string to add the century\n",
    "    date = '19' + date                                           # Add the century value\n",
    "\n",
    "    ### Get the monts value with gender\n",
    "    lst = []\n",
    "    for item in date:\n",
    "        lst.append(item[4:6])\n",
    "        \n",
    "    months = []\n",
    "    gender = [] \n",
    "    for item in lst:\n",
    "        if(int(item) > 50):\n",
    "            months.append(int(item)- 50)\n",
    "            gender.append('female')\n",
    "        else:\n",
    "            months.append(int(item))\n",
    "            gender.append('male')\n",
    "            \n",
    "    ### Replace the old month values\n",
    "    for i in range(len(date)):\n",
    "        if gender[i] == 'female':\n",
    "            date[i] = str(int(date[i])-5000)\n",
    "\n",
    "    df_copy[column] = date.apply(lambda x: (datetime.strptime(x,'%Y%m%d')).strftime(dt_format))\n",
    "    df_copy[\"gender\"] = gender\n",
    "\n",
    "    return df_copy"
   ]
  },
  {
   "cell_type": "code",
   "execution_count": null,
   "metadata": {},
   "outputs": [],
   "source": [
    "def replace_null(df):\n",
    "    return df.fillna(df.median())\n",
    "\n",
    "def replace_null_non_numeric(df,column):\n",
    "    return df[column].fillna(df[column].value_counts().idxmax())"
   ]
  },
  {
   "cell_type": "code",
   "execution_count": 74,
   "metadata": {},
   "outputs": [],
   "source": [
    "### Drop columns with percentage of nulls that surpasses the provided limit\n",
    "def drop_null_columns(df,limit = 0.7):\n",
    "    return df[df.columns[df.isnull().mean() < limit]]\n",
    "\n",
    "### Drop rows with percentage of nulls that surpasses the provided limit\n",
    "def drop_null_rows(df,limit = 0.5):\n",
    "    return df.loc[df.isnull().mean() < limit]"
   ]
  },
  {
   "cell_type": "code",
   "execution_count": null,
   "metadata": {},
   "outputs": [],
   "source": [
    "### Converts catergorical values to numerical\n",
    "def normalization(df,column):\n",
    "\n",
    "    copy = df.copy()\n",
    "    encoder = preprocessing.LabelEncoder()\n",
    "    encoder.fit(copy[column].unique())\n",
    "    copy[column] = encoder.transform(copy[column])\n",
    "\n",
    "    return copy\n",
    "\n",
    "### Applyes categorical normalization to all non int columns\n",
    "### TODO: Solve Problem with date colums not being converted \n",
    "def normalize_category(df):\n",
    "    \n",
    "    cp = df.copy()\n",
    "    columns = cp.columns\n",
    "    \n",
    "    for column in columns:\n",
    "        if(cp[column].dtypes != 'int64' and cp[column].dtypes != 'float64' and  cp[column].dtypes != 'int32' and  cp[column].dtypes != 'float32'):\n",
    "            cp = utils.normalization(cp,column)\n",
    "    \n",
    "    return cp\n",
    "    \n"
   ]
  },
  {
   "cell_type": "code",
   "execution_count": null,
   "metadata": {},
   "outputs": [],
   "source": [
    "### Outlier removal using the z-score method\n",
    "def remove_outliers_zscore(df,column,factor = 3):\n",
    "    return df[(np.abs(stats.zscore(df[column])) < factor)]\n",
    "\n",
    "### Outlier removel according to percentile\n",
    "def remove_outliers_zscore(df,column):\n",
    "    lower_bound = df[column].quantile(.95)\n",
    "    upper_bound = df[column].quantile(.05)\n",
    "\n",
    "    return df[(df[column] > lower_bound) & (df[column] < upper_bound)]\n",
    "\n",
    "# def drop_outliers_std(df,column):\n",
    "    "
   ]
  }
 ],
 "metadata": {
  "interpreter": {
   "hash": "7c5c685faadbcbae1551fd6d5683e133251e0ca8e77eadbbc8e83131f99b1b14"
  },
  "kernelspec": {
   "display_name": "Python 3.7.0 64-bit ('base': conda)",
   "language": "python",
   "name": "python3"
  },
  "language_info": {
   "codemirror_mode": {
    "name": "ipython",
    "version": 3
   },
   "file_extension": ".py",
   "mimetype": "text/x-python",
   "name": "python",
   "nbconvert_exporter": "python",
   "pygments_lexer": "ipython3",
   "version": "3.7.0"
  },
  "orig_nbformat": 4
 },
 "nbformat": 4,
 "nbformat_minor": 2
}
